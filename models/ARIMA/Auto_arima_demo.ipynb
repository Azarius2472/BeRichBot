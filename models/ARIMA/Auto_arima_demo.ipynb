{
  "nbformat": 4,
  "nbformat_minor": 0,
  "metadata": {
    "colab": {
      "name": "Auto_arima_demo.ipynb",
      "provenance": [],
      "collapsed_sections": []
    },
    "kernelspec": {
      "name": "python3",
      "display_name": "Python 3"
    },
    "language_info": {
      "name": "python"
    }
  },
  "cells": [
    {
      "cell_type": "markdown",
      "source": [
        "# Использование auto_arima для прогнозирования временного ряда"
      ],
      "metadata": {
        "id": "9Uu9aG3lje7r"
      }
    },
    {
      "cell_type": "code",
      "source": [
        "!pip install pmdarima"
      ],
      "metadata": {
        "colab": {
          "base_uri": "https://localhost:8080/"
        },
        "id": "96qZQzGcmNya",
        "outputId": "a7bf3a11-474b-453f-a319-4cde29672641"
      },
      "execution_count": 1,
      "outputs": [
        {
          "output_type": "stream",
          "name": "stdout",
          "text": [
            "Requirement already satisfied: pmdarima in /usr/local/lib/python3.7/dist-packages (1.8.4)\n",
            "Requirement already satisfied: urllib3 in /usr/local/lib/python3.7/dist-packages (from pmdarima) (1.24.3)\n",
            "Requirement already satisfied: scikit-learn>=0.22 in /usr/local/lib/python3.7/dist-packages (from pmdarima) (1.0.2)\n",
            "Requirement already satisfied: numpy>=1.19.3 in /usr/local/lib/python3.7/dist-packages (from pmdarima) (1.19.5)\n",
            "Requirement already satisfied: pandas>=0.19 in /usr/local/lib/python3.7/dist-packages (from pmdarima) (1.3.5)\n",
            "Requirement already satisfied: statsmodels!=0.12.0,>=0.11 in /usr/local/lib/python3.7/dist-packages (from pmdarima) (0.13.1)\n",
            "Requirement already satisfied: Cython!=0.29.18,>=0.29 in /usr/local/lib/python3.7/dist-packages (from pmdarima) (0.29.27)\n",
            "Requirement already satisfied: scipy>=1.3.2 in /usr/local/lib/python3.7/dist-packages (from pmdarima) (1.4.1)\n",
            "Requirement already satisfied: setuptools!=50.0.0,>=38.6.0 in /usr/local/lib/python3.7/dist-packages (from pmdarima) (57.4.0)\n",
            "Requirement already satisfied: joblib>=0.11 in /usr/local/lib/python3.7/dist-packages (from pmdarima) (1.1.0)\n",
            "Requirement already satisfied: python-dateutil>=2.7.3 in /usr/local/lib/python3.7/dist-packages (from pandas>=0.19->pmdarima) (2.8.2)\n",
            "Requirement already satisfied: pytz>=2017.3 in /usr/local/lib/python3.7/dist-packages (from pandas>=0.19->pmdarima) (2018.9)\n",
            "Requirement already satisfied: six>=1.5 in /usr/local/lib/python3.7/dist-packages (from python-dateutil>=2.7.3->pandas>=0.19->pmdarima) (1.15.0)\n",
            "Requirement already satisfied: threadpoolctl>=2.0.0 in /usr/local/lib/python3.7/dist-packages (from scikit-learn>=0.22->pmdarima) (3.1.0)\n",
            "Requirement already satisfied: patsy>=0.5.2 in /usr/local/lib/python3.7/dist-packages (from statsmodels!=0.12.0,>=0.11->pmdarima) (0.5.2)\n"
          ]
        }
      ]
    },
    {
      "cell_type": "code",
      "execution_count": 2,
      "metadata": {
        "id": "5xGcAzW7jBMD"
      },
      "outputs": [],
      "source": [
        "import pandas as pd\n",
        "import statsmodels.api as sm\n",
        "import matplotlib.pyplot as plt\n",
        "import itertools\n",
        "from tqdm import tqdm_notebook\n",
        "import numpy as np\n",
        "import datetime"
      ]
    },
    {
      "cell_type": "markdown",
      "source": [
        "## Прогнозирование исходных данных"
      ],
      "metadata": {
        "id": "Nlzw7fdxRq8t"
      }
    },
    {
      "cell_type": "markdown",
      "source": [
        "В качестве показательных данных используются акции компании Apple с секундной градулярностью, всего данные взяты за месяц. "
      ],
      "metadata": {
        "id": "DUq1oIkLB7p9"
      }
    },
    {
      "cell_type": "code",
      "source": [
        "file = 'AAPL.csv'\n",
        "dataset = pd.read_csv(file, index_col=0, parse_dates=[0])\n",
        "data = dataset.loc[:, 'Adj Close']  # значения акции\n",
        "data = data.to_frame()\n",
        "data = data.sort_index()  # сортировка по дате (изначально данные не сортированы)\n",
        "\n",
        "plt.figure(figsize=(15, 7))\n",
        "plt.plot(data)\n",
        "plt.title('Apple stocks')\n",
        "plt.grid(True)\n",
        "plt.show()"
      ],
      "metadata": {
        "colab": {
          "base_uri": "https://localhost:8080/",
          "height": 444
        },
        "id": "wsZKayJwja96",
        "outputId": "b47d6974-a5b8-4646-e9d0-744f4a354a43"
      },
      "execution_count": 52,
      "outputs": [
        {
          "output_type": "display_data",
          "data": {
            "image/png": "[encoded data removed]",
            "text/plain": [
              "<Figure size 1080x504 with 1 Axes>"
            ]
          },
          "metadata": {
            "needs_background": "light"
          }
        }
      ]
    },
    {
      "cell_type": "markdown",
      "source": [
        "График получился немного прерывистым из-за наличия пропусков в данных."
      ],
      "metadata": {
        "id": "m9toO_o6Czyo"
      }
    },
    {
      "cell_type": "code",
      "source": [
        "data.shape"
      ],
      "metadata": {
        "colab": {
          "base_uri": "https://localhost:8080/"
        },
        "id": "Knt_oBr9rwGA",
        "outputId": "344ce39c-c5f0-4e04-d77e-03ca6cb6afc4"
      },
      "execution_count": 53,
      "outputs": [
        {
          "output_type": "execute_result",
          "data": {
            "text/plain": [
              "(4923, 1)"
            ]
          },
          "metadata": {},
          "execution_count": 53
        }
      ]
    },
    {
      "cell_type": "code",
      "source": [
        "data.head()"
      ],
      "metadata": {
        "colab": {
          "base_uri": "https://localhost:8080/",
          "height": 206
        },
        "id": "G4GOXs-sofAi",
        "outputId": "a8ce79a7-0943-42c5-ae5c-bf06215ac9e3"
      },
      "execution_count": 54,
      "outputs": [
        {
          "output_type": "execute_result",
          "data": {
            "text/html": [
              "\n",
              "  <div id=\"df-9d6c5993-79ab-4ee5-9bff-d45d83ab5c3b\">\n",
              "    <div class=\"colab-df-container\">\n",
              "      <div>\n",
              "<style scoped>\n",
              "    .dataframe tbody tr th:only-of-type {\n",
              "        vertical-align: middle;\n",
              "    }\n",
              "\n",
              "    .dataframe tbody tr th {\n",
              "        vertical-align: top;\n",
              "    }\n",
              "\n",
              "    .dataframe thead th {\n",
              "        text-align: right;\n",
              "    }\n",
              "</style>\n",
              "<table border=\"1\" class=\"dataframe\">\n",
              "  <thead>\n",
              "    <tr style=\"text-align: right;\">\n",
              "      <th></th>\n",
              "      <th>Adj Close</th>\n",
              "    </tr>\n",
              "  </thead>\n",
              "  <tbody>\n",
              "    <tr>\n",
              "      <th>2022-01-03 09:30:00-05:00</th>\n",
              "      <td>178.032806</td>\n",
              "    </tr>\n",
              "    <tr>\n",
              "      <th>2022-01-03 09:31:00-05:00</th>\n",
              "      <td>178.860001</td>\n",
              "    </tr>\n",
              "    <tr>\n",
              "      <th>2022-01-03 09:32:00-05:00</th>\n",
              "      <td>178.886398</td>\n",
              "    </tr>\n",
              "    <tr>\n",
              "      <th>2022-01-03 09:33:00-05:00</th>\n",
              "      <td>179.038101</td>\n",
              "    </tr>\n",
              "    <tr>\n",
              "      <th>2022-01-03 09:34:00-05:00</th>\n",
              "      <td>178.964996</td>\n",
              "    </tr>\n",
              "  </tbody>\n",
              "</table>\n",
              "</div>\n",
              "      <button class=\"colab-df-convert\" onclick=\"convertToInteractive('df-9d6c5993-79ab-4ee5-9bff-d45d83ab5c3b')\"\n",
              "              title=\"Convert this dataframe to an interactive table.\"\n",
              "              style=\"display:none;\">\n",
              "        \n",
              "  <svg xmlns=\"http://www.w3.org/2000/svg\" height=\"24px\"viewBox=\"0 0 24 24\"\n",
              "       width=\"24px\">\n",
              "    <path d=\"M0 0h24v24H0V0z\" fill=\"none\"/>\n",
              "    <path d=\"M18.56 5.44l.94 2.06.94-2.06 2.06-.94-2.06-.94-.94-2.06-.94 2.06-2.06.94zm-11 1L8.5 8.5l.94-2.06 2.06-.94-2.06-.94L8.5 2.5l-.94 2.06-2.06.94zm10 10l.94 2.06.94-2.06 2.06-.94-2.06-.94-.94-2.06-.94 2.06-2.06.94z\"/><path d=\"M17.41 7.96l-1.37-1.37c-.4-.4-.92-.59-1.43-.59-.52 0-1.04.2-1.43.59L10.3 9.45l-7.72 7.72c-.78.78-.78 2.05 0 2.83L4 21.41c.39.39.9.59 1.41.59.51 0 1.02-.2 1.41-.59l7.78-7.78 2.81-2.81c.8-.78.8-2.07 0-2.86zM5.41 20L4 18.59l7.72-7.72 1.47 1.35L5.41 20z\"/>\n",
              "  </svg>\n",
              "      </button>\n",
              "      \n",
              "  <style>\n",
              "    .colab-df-container {\n",
              "      display:flex;\n",
              "      flex-wrap:wrap;\n",
              "      gap: 12px;\n",
              "    }\n",
              "\n",
              "    .colab-df-convert {\n",
              "      background-color: #E8F0FE;\n",
              "      border: none;\n",
              "      border-radius: 50%;\n",
              "      cursor: pointer;\n",
              "      display: none;\n",
              "      fill: #1967D2;\n",
              "      height: 32px;\n",
              "      padding: 0 0 0 0;\n",
              "      width: 32px;\n",
              "    }\n",
              "\n",
              "    .colab-df-convert:hover {\n",
              "      background-color: #E2EBFA;\n",
              "      box-shadow: 0px 1px 2px rgba(60, 64, 67, 0.3), 0px 1px 3px 1px rgba(60, 64, 67, 0.15);\n",
              "      fill: #174EA6;\n",
              "    }\n",
              "\n",
              "    [theme=dark] .colab-df-convert {\n",
              "      background-color: #3B4455;\n",
              "      fill: #D2E3FC;\n",
              "    }\n",
              "\n",
              "    [theme=dark] .colab-df-convert:hover {\n",
              "      background-color: #434B5C;\n",
              "      box-shadow: 0px 1px 3px 1px rgba(0, 0, 0, 0.15);\n",
              "      filter: drop-shadow(0px 1px 2px rgba(0, 0, 0, 0.3));\n",
              "      fill: #FFFFFF;\n",
              "    }\n",
              "  </style>\n",
              "\n",
              "      <script>\n",
              "        const buttonEl =\n",
              "          document.querySelector('#df-9d6c5993-79ab-4ee5-9bff-d45d83ab5c3b button.colab-df-convert');\n",
              "        buttonEl.style.display =\n",
              "          google.colab.kernel.accessAllowed ? 'block' : 'none';\n",
              "\n",
              "        async function convertToInteractive(key) {\n",
              "          const element = document.querySelector('#df-9d6c5993-79ab-4ee5-9bff-d45d83ab5c3b');\n",
              "          const dataTable =\n",
              "            await google.colab.kernel.invokeFunction('convertToInteractive',\n",
              "                                                     [key], {});\n",
              "          if (!dataTable) return;\n",
              "\n",
              "          const docLinkHtml = 'Like what you see? Visit the ' +\n",
              "            '<a target=\"_blank\" href=https://colab.research.google.com/notebooks/data_table.ipynb>data table notebook</a>'\n",
              "            + ' to learn more about interactive tables.';\n",
              "          element.innerHTML = '';\n",
              "          dataTable['output_type'] = 'display_data';\n",
              "          await google.colab.output.renderOutput(dataTable, element);\n",
              "          const docLink = document.createElement('div');\n",
              "          docLink.innerHTML = docLinkHtml;\n",
              "          element.appendChild(docLink);\n",
              "        }\n",
              "      </script>\n",
              "    </div>\n",
              "  </div>\n",
              "  "
            ],
            "text/plain": [
              "                            Adj Close\n",
              "2022-01-03 09:30:00-05:00  178.032806\n",
              "2022-01-03 09:31:00-05:00  178.860001\n",
              "2022-01-03 09:32:00-05:00  178.886398\n",
              "2022-01-03 09:33:00-05:00  179.038101\n",
              "2022-01-03 09:34:00-05:00  178.964996"
            ]
          },
          "metadata": {},
          "execution_count": 54
        }
      ]
    },
    {
      "cell_type": "code",
      "source": [
        "data.tail()"
      ],
      "metadata": {
        "colab": {
          "base_uri": "https://localhost:8080/",
          "height": 206
        },
        "id": "8aQkbOsxpxEU",
        "outputId": "ba9e9b08-250a-4a7d-e37e-5de3516035dc"
      },
      "execution_count": 55,
      "outputs": [
        {
          "output_type": "execute_result",
          "data": {
            "text/html": [
              "\n",
              "  <div id=\"df-e0a91464-549a-48c4-9cf9-96cd0947732f\">\n",
              "    <div class=\"colab-df-container\">\n",
              "      <div>\n",
              "<style scoped>\n",
              "    .dataframe tbody tr th:only-of-type {\n",
              "        vertical-align: middle;\n",
              "    }\n",
              "\n",
              "    .dataframe tbody tr th {\n",
              "        vertical-align: top;\n",
              "    }\n",
              "\n",
              "    .dataframe thead th {\n",
              "        text-align: right;\n",
              "    }\n",
              "</style>\n",
              "<table border=\"1\" class=\"dataframe\">\n",
              "  <thead>\n",
              "    <tr style=\"text-align: right;\">\n",
              "      <th></th>\n",
              "      <th>Adj Close</th>\n",
              "    </tr>\n",
              "  </thead>\n",
              "  <tbody>\n",
              "    <tr>\n",
              "      <th>2022-01-31 13:47:53-05:00</th>\n",
              "      <td>173.242996</td>\n",
              "    </tr>\n",
              "    <tr>\n",
              "      <th>2022-01-31 13:47:54-05:00</th>\n",
              "      <td>173.244995</td>\n",
              "    </tr>\n",
              "    <tr>\n",
              "      <th>2022-01-31 13:47:54-05:00</th>\n",
              "      <td>173.244995</td>\n",
              "    </tr>\n",
              "    <tr>\n",
              "      <th>2022-01-31 13:47:56-05:00</th>\n",
              "      <td>173.239899</td>\n",
              "    </tr>\n",
              "    <tr>\n",
              "      <th>2022-01-31 13:47:58-05:00</th>\n",
              "      <td>173.232498</td>\n",
              "    </tr>\n",
              "  </tbody>\n",
              "</table>\n",
              "</div>\n",
              "      <button class=\"colab-df-convert\" onclick=\"convertToInteractive('df-e0a91464-549a-48c4-9cf9-96cd0947732f')\"\n",
              "              title=\"Convert this dataframe to an interactive table.\"\n",
              "              style=\"display:none;\">\n",
              "        \n",
              "  <svg xmlns=\"http://www.w3.org/2000/svg\" height=\"24px\"viewBox=\"0 0 24 24\"\n",
              "       width=\"24px\">\n",
              "    <path d=\"M0 0h24v24H0V0z\" fill=\"none\"/>\n",
              "    <path d=\"M18.56 5.44l.94 2.06.94-2.06 2.06-.94-2.06-.94-.94-2.06-.94 2.06-2.06.94zm-11 1L8.5 8.5l.94-2.06 2.06-.94-2.06-.94L8.5 2.5l-.94 2.06-2.06.94zm10 10l.94 2.06.94-2.06 2.06-.94-2.06-.94-.94-2.06-.94 2.06-2.06.94z\"/><path d=\"M17.41 7.96l-1.37-1.37c-.4-.4-.92-.59-1.43-.59-.52 0-1.04.2-1.43.59L10.3 9.45l-7.72 7.72c-.78.78-.78 2.05 0 2.83L4 21.41c.39.39.9.59 1.41.59.51 0 1.02-.2 1.41-.59l7.78-7.78 2.81-2.81c.8-.78.8-2.07 0-2.86zM5.41 20L4 18.59l7.72-7.72 1.47 1.35L5.41 20z\"/>\n",
              "  </svg>\n",
              "      </button>\n",
              "      \n",
              "  <style>\n",
              "    .colab-df-container {\n",
              "      display:flex;\n",
              "      flex-wrap:wrap;\n",
              "      gap: 12px;\n",
              "    }\n",
              "\n",
              "    .colab-df-convert {\n",
              "      background-color: #E8F0FE;\n",
              "      border: none;\n",
              "      border-radius: 50%;\n",
              "      cursor: pointer;\n",
              "      display: none;\n",
              "      fill: #1967D2;\n",
              "      height: 32px;\n",
              "      padding: 0 0 0 0;\n",
              "      width: 32px;\n",
              "    }\n",
              "\n",
              "    .colab-df-convert:hover {\n",
              "      background-color: #E2EBFA;\n",
              "      box-shadow: 0px 1px 2px rgba(60, 64, 67, 0.3), 0px 1px 3px 1px rgba(60, 64, 67, 0.15);\n",
              "      fill: #174EA6;\n",
              "    }\n",
              "\n",
              "    [theme=dark] .colab-df-convert {\n",
              "      background-color: #3B4455;\n",
              "      fill: #D2E3FC;\n",
              "    }\n",
              "\n",
              "    [theme=dark] .colab-df-convert:hover {\n",
              "      background-color: #434B5C;\n",
              "      box-shadow: 0px 1px 3px 1px rgba(0, 0, 0, 0.15);\n",
              "      filter: drop-shadow(0px 1px 2px rgba(0, 0, 0, 0.3));\n",
              "      fill: #FFFFFF;\n",
              "    }\n",
              "  </style>\n",
              "\n",
              "      <script>\n",
              "        const buttonEl =\n",
              "          document.querySelector('#df-e0a91464-549a-48c4-9cf9-96cd0947732f button.colab-df-convert');\n",
              "        buttonEl.style.display =\n",
              "          google.colab.kernel.accessAllowed ? 'block' : 'none';\n",
              "\n",
              "        async function convertToInteractive(key) {\n",
              "          const element = document.querySelector('#df-e0a91464-549a-48c4-9cf9-96cd0947732f');\n",
              "          const dataTable =\n",
              "            await google.colab.kernel.invokeFunction('convertToInteractive',\n",
              "                                                     [key], {});\n",
              "          if (!dataTable) return;\n",
              "\n",
              "          const docLinkHtml = 'Like what you see? Visit the ' +\n",
              "            '<a target=\"_blank\" href=https://colab.research.google.com/notebooks/data_table.ipynb>data table notebook</a>'\n",
              "            + ' to learn more about interactive tables.';\n",
              "          element.innerHTML = '';\n",
              "          dataTable['output_type'] = 'display_data';\n",
              "          await google.colab.output.renderOutput(dataTable, element);\n",
              "          const docLink = document.createElement('div');\n",
              "          docLink.innerHTML = docLinkHtml;\n",
              "          element.appendChild(docLink);\n",
              "        }\n",
              "      </script>\n",
              "    </div>\n",
              "  </div>\n",
              "  "
            ],
            "text/plain": [
              "                            Adj Close\n",
              "2022-01-31 13:47:53-05:00  173.242996\n",
              "2022-01-31 13:47:54-05:00  173.244995\n",
              "2022-01-31 13:47:54-05:00  173.244995\n",
              "2022-01-31 13:47:56-05:00  173.239899\n",
              "2022-01-31 13:47:58-05:00  173.232498"
            ]
          },
          "metadata": {},
          "execution_count": 55
        }
      ]
    },
    {
      "cell_type": "markdown",
      "source": [
        "Построение auto_arima модели."
      ],
      "metadata": {
        "id": "M7UiK7wMBw-y"
      }
    },
    {
      "cell_type": "code",
      "source": [
        "import pmdarima as pm\n",
        "\n",
        "smodel = pm.auto_arima(data, \n",
        "                       start_p=1, max_p=3,\n",
        "                       start_q=1, max_q=3,\n",
        "                       start_P=0, max_P=5,\n",
        "                       start_Q=0, max_Q=5,\n",
        "                       test='adf',  # ADF-тест для установления стационарности\n",
        "                       seasonal=True, m=7,  # сезонность по суткам\n",
        "                       d=1, \n",
        "                       D=None, \n",
        "                       trace=True,\n",
        "                       error_action='warn',  \n",
        "                       suppress_warnings=True, \n",
        "                       stepwise=True)\n",
        "\n",
        "smodel.summary()"
      ],
      "metadata": {
        "colab": {
          "base_uri": "https://localhost:8080/",
          "height": 1000
        },
        "id": "paS1O204mKt4",
        "outputId": "4dba57b7-d344-4a64-a810-f69293007ce6"
      },
      "execution_count": 56,
      "outputs": [
        {
          "output_type": "stream",
          "name": "stdout",
          "text": [
            "Performing stepwise search to minimize aic\n",
            " ARIMA(1,1,1)(0,0,0)[7] intercept   : AIC=-1934.249, Time=4.09 sec\n",
            " ARIMA(0,1,0)(0,0,0)[7] intercept   : AIC=-1922.748, Time=0.40 sec\n",
            " ARIMA(1,1,0)(1,0,0)[7] intercept   : AIC=-1921.466, Time=2.83 sec\n",
            " ARIMA(0,1,1)(0,0,1)[7] intercept   : AIC=-1921.623, Time=1.91 sec\n",
            " ARIMA(0,1,0)(0,0,0)[7]             : AIC=-1924.630, Time=0.18 sec\n",
            " ARIMA(1,1,1)(1,0,0)[7] intercept   : AIC=-1934.469, Time=7.89 sec\n",
            " ARIMA(1,1,1)(2,0,0)[7] intercept   : AIC=-1934.098, Time=18.30 sec\n",
            " ARIMA(1,1,1)(1,0,1)[7] intercept   : AIC=-1942.481, Time=13.72 sec\n",
            " ARIMA(1,1,1)(0,0,1)[7] intercept   : AIC=-1934.560, Time=7.24 sec\n",
            " ARIMA(1,1,1)(2,0,1)[7] intercept   : AIC=-1939.194, Time=19.98 sec\n",
            " ARIMA(1,1,1)(1,0,2)[7] intercept   : AIC=-1940.608, Time=18.31 sec\n",
            " ARIMA(1,1,1)(0,0,2)[7] intercept   : AIC=-1934.357, Time=13.53 sec\n",
            " ARIMA(1,1,1)(2,0,2)[7] intercept   : AIC=-1938.723, Time=27.11 sec\n",
            " ARIMA(0,1,1)(1,0,1)[7] intercept   : AIC=-1929.288, Time=7.90 sec\n",
            " ARIMA(1,1,0)(1,0,1)[7] intercept   : AIC=-1929.160, Time=7.51 sec\n",
            " ARIMA(2,1,1)(1,0,1)[7] intercept   : AIC=-1937.946, Time=13.84 sec\n",
            " ARIMA(1,1,2)(1,0,1)[7] intercept   : AIC=-1931.318, Time=9.13 sec\n",
            " ARIMA(0,1,0)(1,0,1)[7] intercept   : AIC=-1919.423, Time=2.03 sec\n",
            " ARIMA(0,1,2)(1,0,1)[7] intercept   : AIC=-1932.162, Time=12.34 sec\n",
            " ARIMA(2,1,0)(1,0,1)[7] intercept   : AIC=-1931.477, Time=17.37 sec\n",
            " ARIMA(2,1,2)(1,0,1)[7] intercept   : AIC=-1929.265, Time=28.49 sec\n",
            " ARIMA(1,1,1)(1,0,1)[7]             : AIC=-1944.288, Time=5.29 sec\n",
            " ARIMA(1,1,1)(0,0,1)[7]             : AIC=-1936.368, Time=3.28 sec\n",
            " ARIMA(1,1,1)(1,0,0)[7]             : AIC=-1936.277, Time=3.52 sec\n",
            " ARIMA(1,1,1)(2,0,1)[7]             : AIC=-1942.468, Time=10.98 sec\n",
            " ARIMA(1,1,1)(1,0,2)[7]             : AIC=-1942.463, Time=14.54 sec\n",
            " ARIMA(1,1,1)(0,0,0)[7]             : AIC=-1936.058, Time=2.43 sec\n",
            " ARIMA(1,1,1)(0,0,2)[7]             : AIC=-1936.161, Time=4.84 sec\n",
            " ARIMA(1,1,1)(2,0,0)[7]             : AIC=-1935.902, Time=4.07 sec\n",
            " ARIMA(1,1,1)(2,0,2)[7]             : AIC=-1940.526, Time=9.71 sec\n",
            " ARIMA(0,1,1)(1,0,1)[7]             : AIC=-1931.168, Time=2.73 sec\n",
            " ARIMA(1,1,0)(1,0,1)[7]             : AIC=-1931.040, Time=2.47 sec\n",
            " ARIMA(2,1,1)(1,0,1)[7]             : AIC=-1943.396, Time=5.17 sec\n",
            " ARIMA(1,1,2)(1,0,1)[7]             : AIC=-1943.379, Time=6.46 sec\n",
            " ARIMA(0,1,0)(1,0,1)[7]             : AIC=-1931.041, Time=1.89 sec\n",
            " ARIMA(0,1,2)(1,0,1)[7]             : AIC=-1934.032, Time=4.32 sec\n",
            " ARIMA(2,1,0)(1,0,1)[7]             : AIC=-1933.349, Time=3.17 sec\n",
            " ARIMA(2,1,2)(1,0,1)[7]             : AIC=-1941.253, Time=7.32 sec\n",
            "\n",
            "Best model:  ARIMA(1,1,1)(1,0,1)[7]          \n",
            "Total fit time: 326.395 seconds\n"
          ]
        },
        {
          "output_type": "execute_result",
          "data": {
            "text/html": [
              "<table class=\"simpletable\">\n",
              "<caption>SARIMAX Results</caption>\n",
              "<tr>\n",
              "  <th>Dep. Variable:</th>                 <td>y</td>               <th>  No. Observations:  </th>   <td>4923</td>   \n",
              "</tr>\n",
              "<tr>\n",
              "  <th>Model:</th>           <td>SARIMAX(1, 1, 1)x(1, 0, 1, 7)</td> <th>  Log Likelihood     </th>  <td>977.144</td> \n",
              "</tr>\n",
              "<tr>\n",
              "  <th>Date:</th>                  <td>Sun, 06 Feb 2022</td>        <th>  AIC                </th> <td>-1944.288</td>\n",
              "</tr>\n",
              "<tr>\n",
              "  <th>Time:</th>                      <td>13:26:29</td>            <th>  BIC                </th> <td>-1911.781</td>\n",
              "</tr>\n",
              "<tr>\n",
              "  <th>Sample:</th>                        <td>0</td>               <th>  HQIC               </th> <td>-1932.886</td>\n",
              "</tr>\n",
              "<tr>\n",
              "  <th></th>                            <td> - 4923</td>            <th>                     </th>     <td> </td>    \n",
              "</tr>\n",
              "<tr>\n",
              "  <th>Covariance Type:</th>              <td>opg</td>              <th>                     </th>     <td> </td>    \n",
              "</tr>\n",
              "</table>\n",
              "<table class=\"simpletable\">\n",
              "<tr>\n",
              "     <td></td>        <th>coef</th>     <th>std err</th>      <th>z</th>      <th>P>|z|</th>  <th>[0.025</th>    <th>0.975]</th>  \n",
              "</tr>\n",
              "<tr>\n",
              "  <th>ar.L1</th>   <td>    0.8144</td> <td>    0.036</td> <td>   22.917</td> <td> 0.000</td> <td>    0.745</td> <td>    0.884</td>\n",
              "</tr>\n",
              "<tr>\n",
              "  <th>ma.L1</th>   <td>   -0.8491</td> <td>    0.034</td> <td>  -24.811</td> <td> 0.000</td> <td>   -0.916</td> <td>   -0.782</td>\n",
              "</tr>\n",
              "<tr>\n",
              "  <th>ar.S.L7</th> <td>   -0.8250</td> <td>    0.068</td> <td>  -12.187</td> <td> 0.000</td> <td>   -0.958</td> <td>   -0.692</td>\n",
              "</tr>\n",
              "<tr>\n",
              "  <th>ma.S.L7</th> <td>    0.8535</td> <td>    0.065</td> <td>   13.162</td> <td> 0.000</td> <td>    0.726</td> <td>    0.981</td>\n",
              "</tr>\n",
              "<tr>\n",
              "  <th>sigma2</th>  <td>    0.0394</td> <td>    7e-05</td> <td>  562.021</td> <td> 0.000</td> <td>    0.039</td> <td>    0.039</td>\n",
              "</tr>\n",
              "</table>\n",
              "<table class=\"simpletable\">\n",
              "<tr>\n",
              "  <th>Ljung-Box (L1) (Q):</th>     <td>0.59</td> <th>  Jarque-Bera (JB):  </th> <td>22756882.06</td>\n",
              "</tr>\n",
              "<tr>\n",
              "  <th>Prob(Q):</th>                <td>0.44</td> <th>  Prob(JB):          </th>    <td>0.00</td>    \n",
              "</tr>\n",
              "<tr>\n",
              "  <th>Heteroskedasticity (H):</th> <td>3.85</td> <th>  Skew:              </th>    <td>9.29</td>    \n",
              "</tr>\n",
              "<tr>\n",
              "  <th>Prob(H) (two-sided):</th>    <td>0.00</td> <th>  Kurtosis:          </th>   <td>335.59</td>   \n",
              "</tr>\n",
              "</table><br/><br/>Warnings:<br/>[1] Covariance matrix calculated using the outer product of gradients (complex-step)."
            ],
            "text/plain": [
              "<class 'statsmodels.iolib.summary.Summary'>\n",
              "\"\"\"\n",
              "                                     SARIMAX Results                                     \n",
              "=========================================================================================\n",
              "Dep. Variable:                                 y   No. Observations:                 4923\n",
              "Model:             SARIMAX(1, 1, 1)x(1, 0, 1, 7)   Log Likelihood                 977.144\n",
              "Date:                           Sun, 06 Feb 2022   AIC                          -1944.288\n",
              "Time:                                   13:26:29   BIC                          -1911.781\n",
              "Sample:                                        0   HQIC                         -1932.886\n",
              "                                          - 4923                                         \n",
              "Covariance Type:                             opg                                         \n",
              "==============================================================================\n",
              "                 coef    std err          z      P>|z|      [0.025      0.975]\n",
              "------------------------------------------------------------------------------\n",
              "ar.L1          0.8144      0.036     22.917      0.000       0.745       0.884\n",
              "ma.L1         -0.8491      0.034    -24.811      0.000      -0.916      -0.782\n",
              "ar.S.L7       -0.8250      0.068    -12.187      0.000      -0.958      -0.692\n",
              "ma.S.L7        0.8535      0.065     13.162      0.000       0.726       0.981\n",
              "sigma2         0.0394      7e-05    562.021      0.000       0.039       0.039\n",
              "===================================================================================\n",
              "Ljung-Box (L1) (Q):                   0.59   Jarque-Bera (JB):          22756882.06\n",
              "Prob(Q):                              0.44   Prob(JB):                         0.00\n",
              "Heteroskedasticity (H):               3.85   Skew:                             9.29\n",
              "Prob(H) (two-sided):                  0.00   Kurtosis:                       335.59\n",
              "===================================================================================\n",
              "\n",
              "Warnings:\n",
              "[1] Covariance matrix calculated using the outer product of gradients (complex-step).\n",
              "\"\"\""
            ]
          },
          "metadata": {},
          "execution_count": 56
        }
      ]
    },
    {
      "cell_type": "markdown",
      "source": [
        "Составим прогноз данных на сутки"
      ],
      "metadata": {
        "id": "VSOEvkBhCnbH"
      }
    },
    {
      "cell_type": "code",
      "source": [
        "n_periods = 5  # days\n",
        "n_periods_per_hours = 120  # hours\n",
        "n_periods_per_minutes = 1440  # minutes = 24 hours\n",
        "fitted, confint = smodel.predict(n_periods=n_periods_per_minutes, return_conf_int=True)\n",
        "index_of_fc = pd.date_range(start=data.index[-1], periods = n_periods_per_minutes, freq='T')\n",
        "\n",
        "fitted_series = pd.DataFrame(fitted, index=index_of_fc, columns=['Value'])"
      ],
      "metadata": {
        "id": "6DGzGtQenOoQ"
      },
      "execution_count": 77,
      "outputs": []
    },
    {
      "cell_type": "code",
      "source": [
        "fitted_series"
      ],
      "metadata": {
        "colab": {
          "base_uri": "https://localhost:8080/",
          "height": 424
        },
        "id": "LDCjPEIrp_Jw",
        "outputId": "606c09c0-691a-450a-f631-5000a250a51e"
      },
      "execution_count": 58,
      "outputs": [
        {
          "output_type": "execute_result",
          "data": {
            "text/html": [
              "\n",
              "  <div id=\"df-bfbe4398-7360-4e43-9db2-0a1c675e61a2\">\n",
              "    <div class=\"colab-df-container\">\n",
              "      <div>\n",
              "<style scoped>\n",
              "    .dataframe tbody tr th:only-of-type {\n",
              "        vertical-align: middle;\n",
              "    }\n",
              "\n",
              "    .dataframe tbody tr th {\n",
              "        vertical-align: top;\n",
              "    }\n",
              "\n",
              "    .dataframe thead th {\n",
              "        text-align: right;\n",
              "    }\n",
              "</style>\n",
              "<table border=\"1\" class=\"dataframe\">\n",
              "  <thead>\n",
              "    <tr style=\"text-align: right;\">\n",
              "      <th></th>\n",
              "      <th>Value</th>\n",
              "    </tr>\n",
              "  </thead>\n",
              "  <tbody>\n",
              "    <tr>\n",
              "      <th>2022-01-31 13:47:58-05:00</th>\n",
              "      <td>173.231193</td>\n",
              "    </tr>\n",
              "    <tr>\n",
              "      <th>2022-01-31 13:48:58-05:00</th>\n",
              "      <td>173.227442</td>\n",
              "    </tr>\n",
              "    <tr>\n",
              "      <th>2022-01-31 13:49:58-05:00</th>\n",
              "      <td>173.230244</td>\n",
              "    </tr>\n",
              "    <tr>\n",
              "      <th>2022-01-31 13:50:58-05:00</th>\n",
              "      <td>173.239516</td>\n",
              "    </tr>\n",
              "    <tr>\n",
              "      <th>2022-01-31 13:51:58-05:00</th>\n",
              "      <td>173.239887</td>\n",
              "    </tr>\n",
              "    <tr>\n",
              "      <th>...</th>\n",
              "      <td>...</td>\n",
              "    </tr>\n",
              "    <tr>\n",
              "      <th>2022-02-01 13:42:58-05:00</th>\n",
              "      <td>173.237843</td>\n",
              "    </tr>\n",
              "    <tr>\n",
              "      <th>2022-02-01 13:43:58-05:00</th>\n",
              "      <td>173.237843</td>\n",
              "    </tr>\n",
              "    <tr>\n",
              "      <th>2022-02-01 13:44:58-05:00</th>\n",
              "      <td>173.237843</td>\n",
              "    </tr>\n",
              "    <tr>\n",
              "      <th>2022-02-01 13:45:58-05:00</th>\n",
              "      <td>173.237843</td>\n",
              "    </tr>\n",
              "    <tr>\n",
              "      <th>2022-02-01 13:46:58-05:00</th>\n",
              "      <td>173.237843</td>\n",
              "    </tr>\n",
              "  </tbody>\n",
              "</table>\n",
              "<p>1440 rows × 1 columns</p>\n",
              "</div>\n",
              "      <button class=\"colab-df-convert\" onclick=\"convertToInteractive('df-bfbe4398-7360-4e43-9db2-0a1c675e61a2')\"\n",
              "              title=\"Convert this dataframe to an interactive table.\"\n",
              "              style=\"display:none;\">\n",
              "        \n",
              "  <svg xmlns=\"http://www.w3.org/2000/svg\" height=\"24px\"viewBox=\"0 0 24 24\"\n",
              "       width=\"24px\">\n",
              "    <path d=\"M0 0h24v24H0V0z\" fill=\"none\"/>\n",
              "    <path d=\"M18.56 5.44l.94 2.06.94-2.06 2.06-.94-2.06-.94-.94-2.06-.94 2.06-2.06.94zm-11 1L8.5 8.5l.94-2.06 2.06-.94-2.06-.94L8.5 2.5l-.94 2.06-2.06.94zm10 10l.94 2.06.94-2.06 2.06-.94-2.06-.94-.94-2.06-.94 2.06-2.06.94z\"/><path d=\"M17.41 7.96l-1.37-1.37c-.4-.4-.92-.59-1.43-.59-.52 0-1.04.2-1.43.59L10.3 9.45l-7.72 7.72c-.78.78-.78 2.05 0 2.83L4 21.41c.39.39.9.59 1.41.59.51 0 1.02-.2 1.41-.59l7.78-7.78 2.81-2.81c.8-.78.8-2.07 0-2.86zM5.41 20L4 18.59l7.72-7.72 1.47 1.35L5.41 20z\"/>\n",
              "  </svg>\n",
              "      </button>\n",
              "      \n",
              "  <style>\n",
              "    .colab-df-container {\n",
              "      display:flex;\n",
              "      flex-wrap:wrap;\n",
              "      gap: 12px;\n",
              "    }\n",
              "\n",
              "    .colab-df-convert {\n",
              "      background-color: #E8F0FE;\n",
              "      border: none;\n",
              "      border-radius: 50%;\n",
              "      cursor: pointer;\n",
              "      display: none;\n",
              "      fill: #1967D2;\n",
              "      height: 32px;\n",
              "      padding: 0 0 0 0;\n",
              "      width: 32px;\n",
              "    }\n",
              "\n",
              "    .colab-df-convert:hover {\n",
              "      background-color: #E2EBFA;\n",
              "      box-shadow: 0px 1px 2px rgba(60, 64, 67, 0.3), 0px 1px 3px 1px rgba(60, 64, 67, 0.15);\n",
              "      fill: #174EA6;\n",
              "    }\n",
              "\n",
              "    [theme=dark] .colab-df-convert {\n",
              "      background-color: #3B4455;\n",
              "      fill: #D2E3FC;\n",
              "    }\n",
              "\n",
              "    [theme=dark] .colab-df-convert:hover {\n",
              "      background-color: #434B5C;\n",
              "      box-shadow: 0px 1px 3px 1px rgba(0, 0, 0, 0.15);\n",
              "      filter: drop-shadow(0px 1px 2px rgba(0, 0, 0, 0.3));\n",
              "      fill: #FFFFFF;\n",
              "    }\n",
              "  </style>\n",
              "\n",
              "      <script>\n",
              "        const buttonEl =\n",
              "          document.querySelector('#df-bfbe4398-7360-4e43-9db2-0a1c675e61a2 button.colab-df-convert');\n",
              "        buttonEl.style.display =\n",
              "          google.colab.kernel.accessAllowed ? 'block' : 'none';\n",
              "\n",
              "        async function convertToInteractive(key) {\n",
              "          const element = document.querySelector('#df-bfbe4398-7360-4e43-9db2-0a1c675e61a2');\n",
              "          const dataTable =\n",
              "            await google.colab.kernel.invokeFunction('convertToInteractive',\n",
              "                                                     [key], {});\n",
              "          if (!dataTable) return;\n",
              "\n",
              "          const docLinkHtml = 'Like what you see? Visit the ' +\n",
              "            '<a target=\"_blank\" href=https://colab.research.google.com/notebooks/data_table.ipynb>data table notebook</a>'\n",
              "            + ' to learn more about interactive tables.';\n",
              "          element.innerHTML = '';\n",
              "          dataTable['output_type'] = 'display_data';\n",
              "          await google.colab.output.renderOutput(dataTable, element);\n",
              "          const docLink = document.createElement('div');\n",
              "          docLink.innerHTML = docLinkHtml;\n",
              "          element.appendChild(docLink);\n",
              "        }\n",
              "      </script>\n",
              "    </div>\n",
              "  </div>\n",
              "  "
            ],
            "text/plain": [
              "                                Value\n",
              "2022-01-31 13:47:58-05:00  173.231193\n",
              "2022-01-31 13:48:58-05:00  173.227442\n",
              "2022-01-31 13:49:58-05:00  173.230244\n",
              "2022-01-31 13:50:58-05:00  173.239516\n",
              "2022-01-31 13:51:58-05:00  173.239887\n",
              "...                               ...\n",
              "2022-02-01 13:42:58-05:00  173.237843\n",
              "2022-02-01 13:43:58-05:00  173.237843\n",
              "2022-02-01 13:44:58-05:00  173.237843\n",
              "2022-02-01 13:45:58-05:00  173.237843\n",
              "2022-02-01 13:46:58-05:00  173.237843\n",
              "\n",
              "[1440 rows x 1 columns]"
            ]
          },
          "metadata": {},
          "execution_count": 58
        }
      ]
    },
    {
      "cell_type": "code",
      "source": [
        "plt.figure(figsize=(15, 7))\n",
        "plt.plot(data, label='Original data')\n",
        "plt.plot(fitted_series, color='darkgreen', label='Forecast')\n",
        "plt.title(\"SARIMA - Final Forecast of Apple stocks - for 24 hours\")\n",
        "plt.grid(True)\n",
        "plt.legend()\n",
        "plt.show()"
      ],
      "metadata": {
        "colab": {
          "base_uri": "https://localhost:8080/",
          "height": 444
        },
        "id": "PLeqgRyop87f",
        "outputId": "bc85ba2f-3863-47b4-be76-9058324ee998"
      },
      "execution_count": 78,
      "outputs": [
        {
          "output_type": "display_data",
          "data": {
            "image/png": "[encoded data removed]",
            "text/plain": [
              "<Figure size 1080x504 with 1 Axes>"
            ]
          },
          "metadata": {
            "needs_background": "light"
          }
        }
      ]
    },
    {
      "cell_type": "code",
      "source": [
        "plt.figure(figsize=(15, 7))\n",
        "plt.plot(data[4900:], label='Original data')\n",
        "plt.plot(fitted_series[:10], color='darkgreen', label='Forecast')\n",
        "plt.title(\"SARIMA - Final Forecast of Apple stocks\")\n",
        "plt.grid(True)\n",
        "plt.legend()\n",
        "plt.show()"
      ],
      "metadata": {
        "colab": {
          "base_uri": "https://localhost:8080/",
          "height": 444
        },
        "id": "WW7oDCBM4w6h",
        "outputId": "b7953a70-5e6b-4e8c-e2bc-1c2c63dcc0a6"
      },
      "execution_count": 79,
      "outputs": [
        {
          "output_type": "display_data",
          "data": {
            "image/png": "[encoded data removed]",
            "text/plain": [
              "<Figure size 1080x504 with 1 Axes>"
            ]
          },
          "metadata": {
            "needs_background": "light"
          }
        }
      ]
    },
    {
      "cell_type": "markdown",
      "source": [
        "## Прогнозирование аггрегированных данных"
      ],
      "metadata": {
        "id": "iIOrLrSEQgkb"
      }
    },
    {
      "cell_type": "markdown",
      "source": [
        "Аггрегируем данные по дням и составим прогноз на 5 дней."
      ],
      "metadata": {
        "id": "TYVrZ7U7QmEu"
      }
    },
    {
      "cell_type": "code",
      "source": [
        "data_aggregate = data.resample('D').mean()\n",
        "data_aggregate = data_aggregate.fillna(data_aggregate.bfill())\n",
        "data_aggregate.isnull().sum()"
      ],
      "metadata": {
        "colab": {
          "base_uri": "https://localhost:8080/"
        },
        "id": "yZZ5cPi6P2LW",
        "outputId": "5715e306-48d5-4a95-ecc5-a215d69796f0"
      },
      "execution_count": 64,
      "outputs": [
        {
          "output_type": "execute_result",
          "data": {
            "text/plain": [
              "Adj Close    0\n",
              "dtype: int64"
            ]
          },
          "metadata": {},
          "execution_count": 64
        }
      ]
    },
    {
      "cell_type": "code",
      "source": [
        "data_aggregate.shape"
      ],
      "metadata": {
        "colab": {
          "base_uri": "https://localhost:8080/"
        },
        "id": "yNWkNKphQZ9p",
        "outputId": "d2f62567-ce70-421c-a15b-4c6c9d6e1219"
      },
      "execution_count": 67,
      "outputs": [
        {
          "output_type": "execute_result",
          "data": {
            "text/plain": [
              "(29, 1)"
            ]
          },
          "metadata": {},
          "execution_count": 67
        }
      ]
    },
    {
      "cell_type": "code",
      "source": [
        "plt.figure(figsize=(15, 7))\n",
        "plt.plot(data_aggregate)\n",
        "plt.title('Apple stocks aggregated by days')\n",
        "plt.grid(True)\n",
        "plt.show()"
      ],
      "metadata": {
        "colab": {
          "base_uri": "https://localhost:8080/",
          "height": 444
        },
        "id": "3RxalZDcQNps",
        "outputId": "c6a0fc80-2e7d-4064-c3ce-d864f716f926"
      },
      "execution_count": 71,
      "outputs": [
        {
          "output_type": "display_data",
          "data": {
            "image/png": "[encoded data removed]",
            "text/plain": [
              "<Figure size 1080x504 with 1 Axes>"
            ]
          },
          "metadata": {
            "needs_background": "light"
          }
        }
      ]
    },
    {
      "cell_type": "code",
      "source": [
        "smodel_agg = pm.auto_arima(data_aggregate, \n",
        "                       start_p=1, max_p=3,\n",
        "                       start_q=1, max_q=3,\n",
        "                       start_P=0, max_P=5,\n",
        "                       start_Q=0, max_Q=5,\n",
        "                       test='adf',  # ADF-тест для установления стационарности\n",
        "                       seasonal=True, m=7,  # сезонность по суткам\n",
        "                       d=1, \n",
        "                       D=None, \n",
        "                       trace=True,\n",
        "                       error_action='warn',  \n",
        "                       suppress_warnings=True, \n",
        "                       stepwise=True)\n",
        "\n",
        "smodel.summary()"
      ],
      "metadata": {
        "colab": {
          "base_uri": "https://localhost:8080/",
          "height": 1000
        },
        "id": "cT-rD76QQ3F-",
        "outputId": "85b38ab0-71ce-48e4-d5cf-c9d5a8b14218"
      },
      "execution_count": 80,
      "outputs": [
        {
          "output_type": "stream",
          "name": "stdout",
          "text": [
            "Performing stepwise search to minimize aic\n",
            " ARIMA(1,1,1)(0,0,0)[7] intercept   : AIC=124.752, Time=0.04 sec\n",
            " ARIMA(0,1,0)(0,0,0)[7] intercept   : AIC=126.720, Time=0.01 sec\n",
            " ARIMA(1,1,0)(1,0,0)[7] intercept   : AIC=120.343, Time=0.05 sec\n",
            " ARIMA(0,1,1)(0,0,1)[7] intercept   : AIC=122.462, Time=0.06 sec\n",
            " ARIMA(0,1,0)(0,0,0)[7]             : AIC=125.294, Time=0.01 sec\n",
            " ARIMA(1,1,0)(0,0,0)[7] intercept   : AIC=122.773, Time=0.02 sec\n",
            " ARIMA(1,1,0)(2,0,0)[7] intercept   : AIC=122.328, Time=0.08 sec\n",
            " ARIMA(1,1,0)(1,0,1)[7] intercept   : AIC=122.334, Time=0.07 sec\n",
            " ARIMA(1,1,0)(0,0,1)[7] intercept   : AIC=121.897, Time=0.06 sec\n",
            " ARIMA(1,1,0)(2,0,1)[7] intercept   : AIC=inf, Time=0.52 sec\n",
            " ARIMA(0,1,0)(1,0,0)[7] intercept   : AIC=121.845, Time=0.05 sec\n",
            " ARIMA(2,1,0)(1,0,0)[7] intercept   : AIC=122.343, Time=0.06 sec\n",
            " ARIMA(1,1,1)(1,0,0)[7] intercept   : AIC=122.343, Time=0.07 sec\n",
            " ARIMA(0,1,1)(1,0,0)[7] intercept   : AIC=120.699, Time=0.06 sec\n",
            " ARIMA(2,1,1)(1,0,0)[7] intercept   : AIC=124.343, Time=0.09 sec\n",
            " ARIMA(1,1,0)(1,0,0)[7]             : AIC=119.408, Time=0.03 sec\n",
            " ARIMA(1,1,0)(0,0,0)[7]             : AIC=121.038, Time=0.01 sec\n",
            " ARIMA(1,1,0)(2,0,0)[7]             : AIC=121.406, Time=0.05 sec\n",
            " ARIMA(1,1,0)(1,0,1)[7]             : AIC=121.407, Time=0.06 sec\n",
            " ARIMA(1,1,0)(0,0,1)[7]             : AIC=120.649, Time=0.04 sec\n",
            " ARIMA(1,1,0)(2,0,1)[7]             : AIC=inf, Time=0.38 sec\n",
            " ARIMA(0,1,0)(1,0,0)[7]             : AIC=122.399, Time=0.02 sec\n",
            " ARIMA(2,1,0)(1,0,0)[7]             : AIC=121.381, Time=0.04 sec\n",
            " ARIMA(1,1,1)(1,0,0)[7]             : AIC=121.376, Time=0.05 sec\n",
            " ARIMA(0,1,1)(1,0,0)[7]             : AIC=120.196, Time=0.05 sec\n",
            " ARIMA(2,1,1)(1,0,0)[7]             : AIC=123.291, Time=0.15 sec\n",
            "\n",
            "Best model:  ARIMA(1,1,0)(1,0,0)[7]          \n",
            "Total fit time: 2.165 seconds\n"
          ]
        },
        {
          "output_type": "execute_result",
          "data": {
            "text/html": [
              "<table class=\"simpletable\">\n",
              "<caption>SARIMAX Results</caption>\n",
              "<tr>\n",
              "  <th>Dep. Variable:</th>                 <td>y</td>               <th>  No. Observations:  </th>   <td>4923</td>   \n",
              "</tr>\n",
              "<tr>\n",
              "  <th>Model:</th>           <td>SARIMAX(1, 1, 1)x(1, 0, 1, 7)</td> <th>  Log Likelihood     </th>  <td>977.144</td> \n",
              "</tr>\n",
              "<tr>\n",
              "  <th>Date:</th>                  <td>Sun, 06 Feb 2022</td>        <th>  AIC                </th> <td>-1944.288</td>\n",
              "</tr>\n",
              "<tr>\n",
              "  <th>Time:</th>                      <td>13:49:22</td>            <th>  BIC                </th> <td>-1911.781</td>\n",
              "</tr>\n",
              "<tr>\n",
              "  <th>Sample:</th>                        <td>0</td>               <th>  HQIC               </th> <td>-1932.886</td>\n",
              "</tr>\n",
              "<tr>\n",
              "  <th></th>                            <td> - 4923</td>            <th>                     </th>     <td> </td>    \n",
              "</tr>\n",
              "<tr>\n",
              "  <th>Covariance Type:</th>              <td>opg</td>              <th>                     </th>     <td> </td>    \n",
              "</tr>\n",
              "</table>\n",
              "<table class=\"simpletable\">\n",
              "<tr>\n",
              "     <td></td>        <th>coef</th>     <th>std err</th>      <th>z</th>      <th>P>|z|</th>  <th>[0.025</th>    <th>0.975]</th>  \n",
              "</tr>\n",
              "<tr>\n",
              "  <th>ar.L1</th>   <td>    0.8144</td> <td>    0.036</td> <td>   22.917</td> <td> 0.000</td> <td>    0.745</td> <td>    0.884</td>\n",
              "</tr>\n",
              "<tr>\n",
              "  <th>ma.L1</th>   <td>   -0.8491</td> <td>    0.034</td> <td>  -24.811</td> <td> 0.000</td> <td>   -0.916</td> <td>   -0.782</td>\n",
              "</tr>\n",
              "<tr>\n",
              "  <th>ar.S.L7</th> <td>   -0.8250</td> <td>    0.068</td> <td>  -12.187</td> <td> 0.000</td> <td>   -0.958</td> <td>   -0.692</td>\n",
              "</tr>\n",
              "<tr>\n",
              "  <th>ma.S.L7</th> <td>    0.8535</td> <td>    0.065</td> <td>   13.162</td> <td> 0.000</td> <td>    0.726</td> <td>    0.981</td>\n",
              "</tr>\n",
              "<tr>\n",
              "  <th>sigma2</th>  <td>    0.0394</td> <td>    7e-05</td> <td>  562.021</td> <td> 0.000</td> <td>    0.039</td> <td>    0.039</td>\n",
              "</tr>\n",
              "</table>\n",
              "<table class=\"simpletable\">\n",
              "<tr>\n",
              "  <th>Ljung-Box (L1) (Q):</th>     <td>0.59</td> <th>  Jarque-Bera (JB):  </th> <td>22756882.06</td>\n",
              "</tr>\n",
              "<tr>\n",
              "  <th>Prob(Q):</th>                <td>0.44</td> <th>  Prob(JB):          </th>    <td>0.00</td>    \n",
              "</tr>\n",
              "<tr>\n",
              "  <th>Heteroskedasticity (H):</th> <td>3.85</td> <th>  Skew:              </th>    <td>9.29</td>    \n",
              "</tr>\n",
              "<tr>\n",
              "  <th>Prob(H) (two-sided):</th>    <td>0.00</td> <th>  Kurtosis:          </th>   <td>335.59</td>   \n",
              "</tr>\n",
              "</table><br/><br/>Warnings:<br/>[1] Covariance matrix calculated using the outer product of gradients (complex-step)."
            ],
            "text/plain": [
              "<class 'statsmodels.iolib.summary.Summary'>\n",
              "\"\"\"\n",
              "                                     SARIMAX Results                                     \n",
              "=========================================================================================\n",
              "Dep. Variable:                                 y   No. Observations:                 4923\n",
              "Model:             SARIMAX(1, 1, 1)x(1, 0, 1, 7)   Log Likelihood                 977.144\n",
              "Date:                           Sun, 06 Feb 2022   AIC                          -1944.288\n",
              "Time:                                   13:49:22   BIC                          -1911.781\n",
              "Sample:                                        0   HQIC                         -1932.886\n",
              "                                          - 4923                                         \n",
              "Covariance Type:                             opg                                         \n",
              "==============================================================================\n",
              "                 coef    std err          z      P>|z|      [0.025      0.975]\n",
              "------------------------------------------------------------------------------\n",
              "ar.L1          0.8144      0.036     22.917      0.000       0.745       0.884\n",
              "ma.L1         -0.8491      0.034    -24.811      0.000      -0.916      -0.782\n",
              "ar.S.L7       -0.8250      0.068    -12.187      0.000      -0.958      -0.692\n",
              "ma.S.L7        0.8535      0.065     13.162      0.000       0.726       0.981\n",
              "sigma2         0.0394      7e-05    562.021      0.000       0.039       0.039\n",
              "===================================================================================\n",
              "Ljung-Box (L1) (Q):                   0.59   Jarque-Bera (JB):          22756882.06\n",
              "Prob(Q):                              0.44   Prob(JB):                         0.00\n",
              "Heteroskedasticity (H):               3.85   Skew:                             9.29\n",
              "Prob(H) (two-sided):                  0.00   Kurtosis:                       335.59\n",
              "===================================================================================\n",
              "\n",
              "Warnings:\n",
              "[1] Covariance matrix calculated using the outer product of gradients (complex-step).\n",
              "\"\"\""
            ]
          },
          "metadata": {},
          "execution_count": 80
        }
      ]
    },
    {
      "cell_type": "code",
      "source": [
        "n_periods = 7  # days\n",
        "fitted, confint = smodel_agg.predict(n_periods=n_periods, return_conf_int=True)\n",
        "index_of_fc = pd.date_range(start=data_aggregate.index[-1], periods = n_periods, freq='D')\n",
        "\n",
        "fitted_series = pd.DataFrame(fitted, index=index_of_fc, columns=['Value'])"
      ],
      "metadata": {
        "id": "38ts8K-0RAZ8"
      },
      "execution_count": 81,
      "outputs": []
    },
    {
      "cell_type": "markdown",
      "source": [
        "Построим прогноз на 7 дней."
      ],
      "metadata": {
        "id": "46JCmZcPRRiL"
      }
    },
    {
      "cell_type": "code",
      "source": [
        "plt.figure(figsize=(15, 7))\n",
        "plt.plot(data_aggregate, label='Original data')\n",
        "plt.plot(fitted_series, color='darkgreen', label='Forecast')\n",
        "plt.title(\"SARIMA - Final Forecast of Apple stocks - for 7 days\")\n",
        "plt.grid(True)\n",
        "plt.legend()\n",
        "plt.show()"
      ],
      "metadata": {
        "colab": {
          "base_uri": "https://localhost:8080/",
          "height": 444
        },
        "id": "V895QZ-pRCes",
        "outputId": "85b0501f-a734-4bc6-8e6e-6367da0f5e8e"
      },
      "execution_count": 82,
      "outputs": [
        {
          "output_type": "display_data",
          "data": {
            "image/png": "[encoded data removed]",
            "text/plain": [
              "<Figure size 1080x504 with 1 Axes>"
            ]
          },
          "metadata": {
            "needs_background": "light"
          }
        }
      ]
    }
  ]
}