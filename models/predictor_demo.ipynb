{
 "cells": [
  {
   "cell_type": "markdown",
   "metadata": {
    "id": "xSItPJipBaZ5"
   },
   "source": [
    "## Library"
   ]
  },
  {
   "cell_type": "code",
   "execution_count": 1,
   "metadata": {
    "id": "wb-Z7wNKUJko"
   },
   "outputs": [
    {
     "name": "stderr",
     "output_type": "stream",
     "text": [
      "/home/azarius/envs/hse-proj-py38/lib/python3.8/site-packages/tqdm/auto.py:22: TqdmWarning: IProgress not found. Please update jupyter and ipywidgets. See https://ipywidgets.readthedocs.io/en/stable/user_install.html\n",
      "  from .autonotebook import tqdm as notebook_tqdm\n"
     ]
    }
   ],
   "source": [
    "import numpy as np\n",
    "import matplotlib.pyplot as plt\n",
    "import pandas as pd\n",
    "import torch\n",
    "import torch.nn as nn\n",
    "from torch.autograd import Variable\n",
    "from sklearn.preprocessing import MinMaxScaler"
   ]
  },
  {
   "cell_type": "code",
   "execution_count": 2,
   "metadata": {
    "id": "rjERGz6Jzk8l"
   },
   "outputs": [],
   "source": [
    "from torch.utils.data import Dataset\n",
    "from torch.utils.data import random_split\n",
    "from sklearn.model_selection import train_test_split\n",
    "from torch.utils.data import DataLoader, Subset"
   ]
  },
  {
   "cell_type": "code",
   "execution_count": 3,
   "metadata": {
    "id": "QZ_AO2_Yzk8m"
   },
   "outputs": [],
   "source": [
    "from tqdm import tqdm"
   ]
  },
  {
   "cell_type": "code",
   "execution_count": 4,
   "metadata": {
    "id": "YhWRz7QAzk8m"
   },
   "outputs": [],
   "source": [
    "from datetime import datetime"
   ]
  },
  {
   "cell_type": "code",
   "execution_count": 5,
   "metadata": {
    "id": "XbOAKhwXzk8n"
   },
   "outputs": [],
   "source": [
    "import torch.nn.functional as F"
   ]
  },
  {
   "cell_type": "code",
   "execution_count": 6,
   "metadata": {
    "colab": {
     "base_uri": "https://localhost:8080/"
    },
    "id": "7ECDyoOGzk8n",
    "outputId": "a8755a9d-01eb-4c65-9e97-cd6fc849470b"
   },
   "outputs": [
    {
     "name": "stdout",
     "output_type": "stream",
     "text": [
      "/home/azarius/Projects\r\n"
     ]
    }
   ],
   "source": [
    "!pwd"
   ]
  },
  {
   "cell_type": "code",
   "execution_count": 7,
   "metadata": {
    "colab": {
     "base_uri": "https://localhost:8080/"
    },
    "id": "JCV_BX8rzwP4",
    "outputId": "6718d707-c5ca-4f73-afd5-f82df8caa22f"
   },
   "outputs": [],
   "source": [
    "# from google.colab import drive\n",
    "# drive.mount('/content/drive')"
   ]
  },
  {
   "cell_type": "code",
   "execution_count": 8,
   "metadata": {
    "colab": {
     "base_uri": "https://localhost:8080/"
    },
    "id": "-2QTWwnez9u_",
    "outputId": "90fe8902-054d-4f69-d57c-62ef626f764a"
   },
   "outputs": [
    {
     "name": "stdout",
     "output_type": "stream",
     "text": [
      "ls: cannot access '/content/drive/MyDrive/iad_project/': No such file or directory\r\n"
     ]
    }
   ],
   "source": [
    "!ls /content/drive/MyDrive/iad_project/"
   ]
  },
  {
   "cell_type": "markdown",
   "metadata": {
    "id": "e31mswiSBEEB"
   },
   "source": [
    "## Data Plot"
   ]
  },
  {
   "cell_type": "code",
   "execution_count": 9,
   "metadata": {
    "id": "ooQPXSYhA_ps"
   },
   "outputs": [],
   "source": [
    "data = pd.read_csv('./tinkoff-data/FB.csv')"
   ]
  },
  {
   "cell_type": "code",
   "execution_count": 10,
   "metadata": {
    "colab": {
     "base_uri": "https://localhost:8080/",
     "height": 206
    },
    "id": "w3Pw9HX1zk8o",
    "outputId": "ec0c44e7-171d-4322-baec-20397df43da0"
   },
   "outputs": [
    {
     "data": {
      "text/html": [
       "<div>\n",
       "<style scoped>\n",
       "    .dataframe tbody tr th:only-of-type {\n",
       "        vertical-align: middle;\n",
       "    }\n",
       "\n",
       "    .dataframe tbody tr th {\n",
       "        vertical-align: top;\n",
       "    }\n",
       "\n",
       "    .dataframe thead th {\n",
       "        text-align: right;\n",
       "    }\n",
       "</style>\n",
       "<table border=\"1\" class=\"dataframe\">\n",
       "  <thead>\n",
       "    <tr style=\"text-align: right;\">\n",
       "      <th></th>\n",
       "      <th>open</th>\n",
       "      <th>high</th>\n",
       "      <th>low</th>\n",
       "      <th>close</th>\n",
       "      <th>volume</th>\n",
       "      <th>time</th>\n",
       "    </tr>\n",
       "  </thead>\n",
       "  <tbody>\n",
       "    <tr>\n",
       "      <th>0</th>\n",
       "      <td>206.9</td>\n",
       "      <td>206.9</td>\n",
       "      <td>206.9</td>\n",
       "      <td>206.9</td>\n",
       "      <td>1</td>\n",
       "      <td>2019-12-23 07:00:00+00:00</td>\n",
       "    </tr>\n",
       "    <tr>\n",
       "      <th>1</th>\n",
       "      <td>206.1</td>\n",
       "      <td>206.1</td>\n",
       "      <td>206.1</td>\n",
       "      <td>206.1</td>\n",
       "      <td>1</td>\n",
       "      <td>2019-12-23 07:01:00+00:00</td>\n",
       "    </tr>\n",
       "    <tr>\n",
       "      <th>2</th>\n",
       "      <td>204.9</td>\n",
       "      <td>204.9</td>\n",
       "      <td>204.9</td>\n",
       "      <td>204.9</td>\n",
       "      <td>8</td>\n",
       "      <td>2019-12-23 07:04:00+00:00</td>\n",
       "    </tr>\n",
       "    <tr>\n",
       "      <th>3</th>\n",
       "      <td>205.0</td>\n",
       "      <td>205.0</td>\n",
       "      <td>205.0</td>\n",
       "      <td>205.0</td>\n",
       "      <td>1</td>\n",
       "      <td>2019-12-23 07:07:00+00:00</td>\n",
       "    </tr>\n",
       "    <tr>\n",
       "      <th>4</th>\n",
       "      <td>205.0</td>\n",
       "      <td>205.0</td>\n",
       "      <td>205.0</td>\n",
       "      <td>205.0</td>\n",
       "      <td>41</td>\n",
       "      <td>2019-12-23 07:08:00+00:00</td>\n",
       "    </tr>\n",
       "  </tbody>\n",
       "</table>\n",
       "</div>"
      ],
      "text/plain": [
       "    open   high    low  close  volume                       time\n",
       "0  206.9  206.9  206.9  206.9       1  2019-12-23 07:00:00+00:00\n",
       "1  206.1  206.1  206.1  206.1       1  2019-12-23 07:01:00+00:00\n",
       "2  204.9  204.9  204.9  204.9       8  2019-12-23 07:04:00+00:00\n",
       "3  205.0  205.0  205.0  205.0       1  2019-12-23 07:07:00+00:00\n",
       "4  205.0  205.0  205.0  205.0      41  2019-12-23 07:08:00+00:00"
      ]
     },
     "execution_count": 10,
     "metadata": {},
     "output_type": "execute_result"
    }
   ],
   "source": [
    "data.head()"
   ]
  },
  {
   "cell_type": "code",
   "execution_count": 11,
   "metadata": {},
   "outputs": [
    {
     "data": {
      "text/plain": [
       "(457781, 6)"
      ]
     },
     "execution_count": 11,
     "metadata": {},
     "output_type": "execute_result"
    }
   ],
   "source": [
    "data.shape"
   ]
  },
  {
   "cell_type": "code",
   "execution_count": 12,
   "metadata": {
    "id": "aFZZAheZzk8p"
   },
   "outputs": [],
   "source": [
    "# data['unix_time'] = data.time.apply(lambda x: (datetime.strptime(x[:-6], '%Y-%m-%d %H:%M:%S') - datetime(1970, 1, 1)).total_seconds())"
   ]
  },
  {
   "cell_type": "code",
   "execution_count": 13,
   "metadata": {
    "id": "tjX1rDXWzk8p"
   },
   "outputs": [],
   "source": [
    "data.drop(columns=['time'], inplace=True)"
   ]
  },
  {
   "cell_type": "code",
   "execution_count": 14,
   "metadata": {
    "id": "TSTGuIaQzk8p"
   },
   "outputs": [],
   "source": [
    "data = data.astype('float32')"
   ]
  },
  {
   "cell_type": "code",
   "execution_count": 15,
   "metadata": {
    "colab": {
     "base_uri": "https://localhost:8080/"
    },
    "id": "1wV33JRbzk8q",
    "outputId": "9dd2190b-77a5-49a7-ef69-405f0ff1925c"
   },
   "outputs": [
    {
     "name": "stdout",
     "output_type": "stream",
     "text": [
      "<class 'pandas.core.frame.DataFrame'>\n",
      "RangeIndex: 457781 entries, 0 to 457780\n",
      "Data columns (total 5 columns):\n",
      " #   Column  Non-Null Count   Dtype  \n",
      "---  ------  --------------   -----  \n",
      " 0   open    457781 non-null  float32\n",
      " 1   high    457781 non-null  float32\n",
      " 2   low     457781 non-null  float32\n",
      " 3   close   457781 non-null  float32\n",
      " 4   volume  457781 non-null  float32\n",
      "dtypes: float32(5)\n",
      "memory usage: 8.7 MB\n"
     ]
    }
   ],
   "source": [
    "data.info()"
   ]
  },
  {
   "cell_type": "code",
   "execution_count": 16,
   "metadata": {
    "colab": {
     "base_uri": "https://localhost:8080/",
     "height": 363
    },
    "id": "yVWA6Kpbzk8q",
    "outputId": "de823003-da0d-4e3e-f83b-247b5ed34c09"
   },
   "outputs": [
    {
     "data": {
      "text/html": [
       "<div>\n",
       "<style scoped>\n",
       "    .dataframe tbody tr th:only-of-type {\n",
       "        vertical-align: middle;\n",
       "    }\n",
       "\n",
       "    .dataframe tbody tr th {\n",
       "        vertical-align: top;\n",
       "    }\n",
       "\n",
       "    .dataframe thead th {\n",
       "        text-align: right;\n",
       "    }\n",
       "</style>\n",
       "<table border=\"1\" class=\"dataframe\">\n",
       "  <thead>\n",
       "    <tr style=\"text-align: right;\">\n",
       "      <th></th>\n",
       "      <th>open</th>\n",
       "      <th>high</th>\n",
       "      <th>low</th>\n",
       "      <th>close</th>\n",
       "      <th>volume</th>\n",
       "    </tr>\n",
       "  </thead>\n",
       "  <tbody>\n",
       "    <tr>\n",
       "      <th>0</th>\n",
       "      <td>206.899994</td>\n",
       "      <td>206.899994</td>\n",
       "      <td>206.899994</td>\n",
       "      <td>206.899994</td>\n",
       "      <td>1.0</td>\n",
       "    </tr>\n",
       "    <tr>\n",
       "      <th>1</th>\n",
       "      <td>206.100006</td>\n",
       "      <td>206.100006</td>\n",
       "      <td>206.100006</td>\n",
       "      <td>206.100006</td>\n",
       "      <td>1.0</td>\n",
       "    </tr>\n",
       "    <tr>\n",
       "      <th>2</th>\n",
       "      <td>204.899994</td>\n",
       "      <td>204.899994</td>\n",
       "      <td>204.899994</td>\n",
       "      <td>204.899994</td>\n",
       "      <td>8.0</td>\n",
       "    </tr>\n",
       "    <tr>\n",
       "      <th>3</th>\n",
       "      <td>205.000000</td>\n",
       "      <td>205.000000</td>\n",
       "      <td>205.000000</td>\n",
       "      <td>205.000000</td>\n",
       "      <td>1.0</td>\n",
       "    </tr>\n",
       "    <tr>\n",
       "      <th>4</th>\n",
       "      <td>205.000000</td>\n",
       "      <td>205.000000</td>\n",
       "      <td>205.000000</td>\n",
       "      <td>205.000000</td>\n",
       "      <td>41.0</td>\n",
       "    </tr>\n",
       "    <tr>\n",
       "      <th>5</th>\n",
       "      <td>205.000000</td>\n",
       "      <td>205.000000</td>\n",
       "      <td>205.000000</td>\n",
       "      <td>205.000000</td>\n",
       "      <td>5.0</td>\n",
       "    </tr>\n",
       "    <tr>\n",
       "      <th>6</th>\n",
       "      <td>205.000000</td>\n",
       "      <td>205.000000</td>\n",
       "      <td>205.000000</td>\n",
       "      <td>205.000000</td>\n",
       "      <td>3.0</td>\n",
       "    </tr>\n",
       "    <tr>\n",
       "      <th>7</th>\n",
       "      <td>205.000000</td>\n",
       "      <td>205.000000</td>\n",
       "      <td>204.940002</td>\n",
       "      <td>204.940002</td>\n",
       "      <td>16.0</td>\n",
       "    </tr>\n",
       "    <tr>\n",
       "      <th>8</th>\n",
       "      <td>205.300003</td>\n",
       "      <td>205.300003</td>\n",
       "      <td>205.199997</td>\n",
       "      <td>205.199997</td>\n",
       "      <td>41.0</td>\n",
       "    </tr>\n",
       "    <tr>\n",
       "      <th>9</th>\n",
       "      <td>205.130005</td>\n",
       "      <td>205.990005</td>\n",
       "      <td>205.130005</td>\n",
       "      <td>205.990005</td>\n",
       "      <td>12.0</td>\n",
       "    </tr>\n",
       "  </tbody>\n",
       "</table>\n",
       "</div>"
      ],
      "text/plain": [
       "         open        high         low       close  volume\n",
       "0  206.899994  206.899994  206.899994  206.899994     1.0\n",
       "1  206.100006  206.100006  206.100006  206.100006     1.0\n",
       "2  204.899994  204.899994  204.899994  204.899994     8.0\n",
       "3  205.000000  205.000000  205.000000  205.000000     1.0\n",
       "4  205.000000  205.000000  205.000000  205.000000    41.0\n",
       "5  205.000000  205.000000  205.000000  205.000000     5.0\n",
       "6  205.000000  205.000000  205.000000  205.000000     3.0\n",
       "7  205.000000  205.000000  204.940002  204.940002    16.0\n",
       "8  205.300003  205.300003  205.199997  205.199997    41.0\n",
       "9  205.130005  205.990005  205.130005  205.990005    12.0"
      ]
     },
     "execution_count": 16,
     "metadata": {},
     "output_type": "execute_result"
    }
   ],
   "source": [
    "data.head(10)"
   ]
  },
  {
   "cell_type": "code",
   "execution_count": 17,
   "metadata": {
    "id": "kJNdxsWLJ-ak"
   },
   "outputs": [],
   "source": [
    "# data.iloc[0].unix_time"
   ]
  },
  {
   "cell_type": "code",
   "execution_count": 18,
   "metadata": {},
   "outputs": [
    {
     "data": {
      "text/plain": [
       "[<matplotlib.lines.Line2D at 0x7fcdb20b5160>]"
      ]
     },
     "execution_count": 18,
     "metadata": {},
     "output_type": "execute_result"
    },
    {
     "data": {
      "image/png": "[encoded data removed]",
      "text/plain": [
       "<Figure size 432x288 with 1 Axes>"
      ]
     },
     "metadata": {
      "needs_background": "light"
     },
     "output_type": "display_data"
    }
   ],
   "source": [
    "plt.plot(data.close.values)"
   ]
  },
  {
   "cell_type": "code",
   "execution_count": 19,
   "metadata": {
    "colab": {
     "base_uri": "https://localhost:8080/",
     "height": 265
    },
    "id": "FlNgXJ-Hzk8q",
    "outputId": "55027fa9-ff79-4df9-8a9e-763cba511fab"
   },
   "outputs": [
    {
     "data": {
      "image/png": "[encoded data removed]",
      "text/plain": [
       "<Figure size 432x288 with 1 Axes>"
      ]
     },
     "metadata": {
      "needs_background": "light"
     },
     "output_type": "display_data"
    }
   ],
   "source": [
    "plt.plot(data.close.diff().values)\n",
    "plt.show()"
   ]
  },
  {
   "cell_type": "markdown",
   "metadata": {
    "id": "NabsV8O5BBd5"
   },
   "source": [
    "## Dataloading"
   ]
  },
  {
   "cell_type": "code",
   "execution_count": 20,
   "metadata": {
    "id": "G8aLC4xdzk8r"
   },
   "outputs": [],
   "source": [
    "class TsCNNDataset(Dataset):\n",
    "    def __init__(self, raw_data_df, window_size):\n",
    "        self.raw_data_df = raw_data_df[['open', 'high', 'low', 'volume', 'close']]#, 'unix_time']]\n",
    "        self.window_size = window_size\n",
    "\n",
    "    def __len__(self):\n",
    "        return self.raw_data_df.shape[0] - self.window_size\n",
    "\n",
    "    def __getitem__(self, idx):\n",
    "        start = idx\n",
    "        end = idx + self.window_size\n",
    "        # return self.raw_data_df.iloc[start:end].values, self.raw_data_df.iloc[end]['close']\n",
    "        return torch.tensor(np.swapaxes(self.raw_data_df.iloc[start:end].diff().dropna().values, 0, 1)), torch.tensor(self.raw_data_df.iloc[end].values), torch.tensor(self.raw_data_df.iloc[end-1].values)\n",
    "        # return [self.raw_data_df.iloc[start:end]['open'].values, self.raw_data_df.iloc[start:end]['high'].values, self.raw_data_df.iloc[start:end]['low'].values, self.raw_data_df.iloc[start:end]['close'].values, self.raw_data_df.iloc[start:end]['volume'].values, self.raw_data_df.iloc[start:end]['unix_time'].values], self.raw_data_df.iloc[end]['close']"
   ]
  },
  {
   "cell_type": "code",
   "execution_count": 61,
   "metadata": {
    "id": "BDW1jPZUj9YM"
   },
   "outputs": [],
   "source": [
    "class TsLSTMDataset(Dataset):\n",
    "    def __init__(self, raw_data_df, window_size):\n",
    "        self.raw_data_df = raw_data_df[['open', 'high', 'low', 'volume', 'close']]\n",
    "        self.window_size = window_size\n",
    "\n",
    "    def __len__(self):\n",
    "        return self.raw_data_df.shape[0] - self.window_size\n",
    "\n",
    "    def __getitem__(self, idx):\n",
    "        start = idx\n",
    "        end = idx + self.window_size\n",
    "        return self.raw_data_df.iloc[start:end].diff().dropna().values, self.raw_data_df.iloc[end].values, self.raw_data_df.iloc[end-1].values"
   ]
  },
  {
   "cell_type": "markdown",
   "metadata": {
    "id": "--1LVbHOBSIy"
   },
   "source": [
    "## Model"
   ]
  },
  {
   "cell_type": "code",
   "execution_count": 62,
   "metadata": {
    "id": "_BcDEjcABRVz"
   },
   "outputs": [],
   "source": [
    "class tsLSTM(nn.Module):\n",
    "\n",
    "    def __init__(self, n_features, n_hidden=128, n_layers=2):\n",
    "        super().__init__()\n",
    "        \n",
    "        self.n_hidden = n_hidden\n",
    "        \n",
    "        self.lstm = nn.LSTM(\n",
    "            input_size=n_features,\n",
    "            hidden_size=n_hidden,\n",
    "            batch_first=True,\n",
    "            num_layers=n_layers#,\n",
    "#             dropout=0.2\n",
    "        )\n",
    "        \n",
    "        self.regressor = nn.Linear(n_hidden, 5)\n",
    "        \n",
    "    def forward(self, x):\n",
    "#         self.lstm.flattern_parameters()\n",
    "        \n",
    "        _, (hidden, _) = self.lstm(x)\n",
    "        \n",
    "        return self.regressor(hidden[-1])\n",
    "\n",
    "class tsCNN(nn.Module):\n",
    "\n",
    "    def __init__(self):\n",
    "        super().__init__()\n",
    "        self.conv1 = nn.Conv1d(5, 10, 360)\n",
    "        self.pool = nn.MaxPool1d(3)\n",
    "        self.conv2 = nn.Conv1d(10, 20, 360)\n",
    "        self.conv3 = nn.Conv1d(20, 30, 120)\n",
    "        self.conv4 = nn.Conv1d(30, 40, 10)\n",
    "        self.fc1 = nn.Linear(400, 100)\n",
    "        self.fc2 = nn.Linear(100, 10)\n",
    "        self.fc3 = nn.Linear(10, 5)\n",
    "\n",
    "    def forward(self, x):\n",
    "        # print(x.shape)\n",
    "        # bias = x[:-1:-1]\n",
    "        # print(bias.shape)\n",
    "        # print(bias)\n",
    "        # x = torch.diff(x)\n",
    "        # print('input', x.shape)\n",
    "        x = self.conv1(x)\n",
    "        x = F.relu(x)\n",
    "        # print('conv1', x.shape)\n",
    "        x = self.pool(x)\n",
    "        # print('pool1', x.shape)\n",
    "\n",
    "        x = self.conv2(x)\n",
    "        x = F.relu(x)\n",
    "        # print('conv2', x.shape)\n",
    "        x = self.pool(x)\n",
    "        # print('pool2', x.shape)\n",
    "\n",
    "        x = self.conv3(x)\n",
    "        x = F.relu(x)\n",
    "        # print('conv3', x.shape)\n",
    "        x = self.pool(x)\n",
    "        # print('pool3', x.shape)\n",
    "\n",
    "        x = self.conv4(x)\n",
    "        x = F.relu(x)\n",
    "        # print('conv3', x.shape)\n",
    "        x = self.pool(x)\n",
    "        # print('pool3', x.shape)\n",
    "        x = torch.flatten(x, 1)\n",
    "        # print('flatten', x.shape)\n",
    "\n",
    "        x = self.fc1(x)\n",
    "        x = F.relu(x)\n",
    "        # print('fc1', x.shape)\n",
    "\n",
    "        x = self.fc2(x)\n",
    "        x = F.relu(x)\n",
    "        # print('fc2', x.shape) \n",
    "\n",
    "        x = self.fc3(x)\n",
    "        return x# + bias\n",
    "\n",
    "        # x = self.pool(F.relu(self.conv2(x)))\n",
    "        # x = torch.flatten(x, 1) # flatten all dimensions except batch\n",
    "        # x = F.relu(self.fc1(x))\n",
    "        # x = F.relu(self.fc2(x))\n",
    "        # x = self.fc3(x)\n",
    "        # return x\n",
    "        "
   ]
  },
  {
   "cell_type": "code",
   "execution_count": 76,
   "metadata": {
    "id": "IqJQoKzCzk8u"
   },
   "outputs": [],
   "source": [
    "class TSPredictor():\n",
    "              \n",
    "    def __init__(self, needLoad = False, path_to_model=None, model_type = None, window_size=3600):\n",
    "        self.window_size = window_size\n",
    "        self.isModelrained = False\n",
    "        self.model_type = model_type\n",
    "        self.y_true = None\n",
    "        self.y_pred = None\n",
    "        \n",
    "        self.max_plt = None\n",
    "        self.min_plt = None\n",
    "        \n",
    "        if needLoad:\n",
    "\n",
    "            if model_type == 'CNN':\n",
    "                self.model = tsCNN()\n",
    "\n",
    "            if model_type == 'LSTM':\n",
    "                self.model = tsLSTM(n_features=5)\n",
    "                \n",
    "            self.model.load_state_dict(torch.load(path_to_model))\n",
    "            self.model.eval()\n",
    "            self.isModelrained = True\n",
    "\n",
    "        else:\n",
    "            if model_type == 'CNN':\n",
    "                self.model = tsCNN()\n",
    "            if model_type == 'LSTM':\n",
    "                self.model = tsLSTM(n_features=5)\n",
    "  \n",
    "    def train(self, num_epochs = 5, learning_rate=0.01, data_df=None, test_start_idx=285016, BATCH_SIZE = 512):\n",
    "    \n",
    "        self.min_plt = data_df.close.min()\n",
    "        self.max_plt = data_df.close.max()\n",
    "        \n",
    "        print('preprocess data')\n",
    "        if self.model_type == 'CNN':\n",
    "            dataset = TsCNNDataset(data_df, self.window_size)\n",
    "        if self.model_type == 'LSTM':\n",
    "            dataset = TsLSTMDataset(data_df, self.window_size)\n",
    "\n",
    "        train_split = Subset(dataset, range(test_start_idx))\n",
    "        test_split = Subset(dataset, range(test_start_idx, len(dataset)))\n",
    "        train_batches = DataLoader(train_split, batch_size=BATCH_SIZE, shuffle=False)\n",
    "        test_batches = DataLoader(test_split, batch_size=BATCH_SIZE, shuffle=False)\n",
    "        criterion = torch.nn.MSELoss()\n",
    "        optimizer = torch.optim.Adam(self.model.parameters(), lr=learning_rate)\n",
    "        self.model.to('cuda');\n",
    "\n",
    "        for epoch in range(num_epochs):\n",
    "            self.y_true = data_df.close.values.copy()\n",
    "            self.y_pred = data_df.close.values.copy()\n",
    "            i = 3600\n",
    "            tepoch = tqdm(train_batches, unit=\"batch\")\n",
    "            self.model.train()\n",
    "            for inputs, targets, bias in tepoch:\n",
    "                # break\n",
    "#                 print(inputs.shape)\n",
    "                inputs = inputs.to('cuda')\n",
    "                targets = targets.to('cuda')\n",
    "#                 print('bias.shape')\n",
    "#                 print(bias.shape)\n",
    "#                 bias = torch.unsqueeze(bias, 1)\n",
    "                bias = bias.to('cuda')\n",
    "                optimizer.zero_grad()\n",
    "                pred = self.model(inputs)\n",
    "#                 print('pred.shape')\n",
    "#                 print(pred.shape)\n",
    "\n",
    "                pred = pred + bias\n",
    "                loss = criterion(pred, targets)\n",
    "\n",
    "                pred = pred.detach().cpu().numpy()\n",
    "                # print(pred)\n",
    "                # print(bias.detach().cpu().numpy().shape)\n",
    "                # assert False\n",
    "                self.y_pred[i:i+pred.shape[0]] = pred[:, -1].flatten().copy()\n",
    "                # print(i)\n",
    "                # print(i + pred.flatten().shape[0])\n",
    "                # print(pred.flatten().shape)\n",
    "\n",
    "                i += pred.shape[0]\n",
    "                # print(i)\n",
    "                # assert False\n",
    "\n",
    "                tepoch.set_description(\"loss: « %s »\" % str(loss.detach().cpu().numpy()))\n",
    "                loss.backward()\n",
    "                optimizer.step()\n",
    "\n",
    "            tepoch = tqdm(test_batches, unit=\"batch\")\n",
    "            self.model.eval()\n",
    "            optimizer.zero_grad()\n",
    "            for inputs, targets, bias in tepoch:\n",
    "                inputs = inputs.to('cuda')\n",
    "                targets = targets.to('cuda')\n",
    "#                 bias = torch.unsqueeze(bias, 1)\n",
    "                bias = bias.to('cuda')\n",
    "                pred = self.model(inputs)\n",
    "                pred = pred + bias\n",
    "\n",
    "                pred = pred.detach().cpu().numpy()\n",
    "                # print(pred.flatten())\n",
    "                self.y_pred[i:i+pred.shape[0]] = pred[:, -1].flatten().copy()\n",
    "                i += pred.shape[0]         \n",
    "\n",
    "            plt.axvline(x=test_start_idx, c='r', linestyle='--')\n",
    "            plt.ylim(self.min_plt, self.max_plt)\n",
    "\n",
    "            plt.plot(self.y_pred, color='orange')\n",
    "            plt.plot(self.y_true, color='blue')\n",
    "\n",
    "            plt.suptitle('Time-Series Prediction')\n",
    "            plt.show()\n",
    "\n",
    "\n",
    "        self.model.eval()\n",
    "        self.model.to('cpu')\n",
    "        self.isModelrained = True\n",
    "\n",
    "    def save_model(self, path):\n",
    "        self.model.eval()\n",
    "        self.model.to('cpu')\n",
    "        torch.save(self.model.state_dict(), path)\n",
    "        self.isModelrained = True\n",
    "        print('model saved to ' + path)    \n",
    "    \n",
    "    def inference_df(self, df):\n",
    "        if not self.isModelrained:\n",
    "            print('model is not trained')\n",
    "            return None\n",
    "        else:\n",
    "            if df.shape[0] != self.window_size:\n",
    "                print('incorrect input df shape')\n",
    "                return None\n",
    "            else:\n",
    "                bias = df.values[-1]\n",
    "                data = df[['open', 'high', 'low', 'volume', 'close']].diff().dropna()\n",
    "                vals = data.values\n",
    "\n",
    "                if self.model_type == 'CNN':\n",
    "                    vals = np.swapaxes(vals, 0, 1)\n",
    "                vals = np.expand_dims(vals, axis=0)\n",
    "                \n",
    "#                 print(vals.shape)\n",
    "                return self.model(torch.tensor(vals)).detach().cpu().numpy()[0] + bias\n",
    "  \n",
    "    def inference_dict(self, d):\n",
    "        pass\n",
    "\n",
    "  "
   ]
  },
  {
   "cell_type": "code",
   "execution_count": 56,
   "metadata": {
    "id": "KjIySGyglzLJ"
   },
   "outputs": [],
   "source": [
    "# predictor = TSPredictor(needLoad=True, model_type='CNN', path_to_model='./FB_CNN.pt')"
   ]
  },
  {
   "cell_type": "code",
   "execution_count": 64,
   "metadata": {},
   "outputs": [],
   "source": [
    "torch.cuda.empty_cache()"
   ]
  },
  {
   "cell_type": "code",
   "execution_count": 63,
   "metadata": {},
   "outputs": [],
   "source": [
    "predictor = TSPredictor(needLoad=False, model_type='LSTM')"
   ]
  },
  {
   "cell_type": "code",
   "execution_count": 59,
   "metadata": {
    "colab": {
     "base_uri": "https://localhost:8080/",
     "height": 206
    },
    "id": "0vQRfY-qsT-m",
    "outputId": "5a0641bc-def6-431a-f6cb-7c30622904d1"
   },
   "outputs": [
    {
     "data": {
      "text/html": [
       "<div>\n",
       "<style scoped>\n",
       "    .dataframe tbody tr th:only-of-type {\n",
       "        vertical-align: middle;\n",
       "    }\n",
       "\n",
       "    .dataframe tbody tr th {\n",
       "        vertical-align: top;\n",
       "    }\n",
       "\n",
       "    .dataframe thead th {\n",
       "        text-align: right;\n",
       "    }\n",
       "</style>\n",
       "<table border=\"1\" class=\"dataframe\">\n",
       "  <thead>\n",
       "    <tr style=\"text-align: right;\">\n",
       "      <th></th>\n",
       "      <th>open</th>\n",
       "      <th>high</th>\n",
       "      <th>low</th>\n",
       "      <th>close</th>\n",
       "      <th>volume</th>\n",
       "    </tr>\n",
       "  </thead>\n",
       "  <tbody>\n",
       "    <tr>\n",
       "      <th>0</th>\n",
       "      <td>206.899994</td>\n",
       "      <td>206.899994</td>\n",
       "      <td>206.899994</td>\n",
       "      <td>206.899994</td>\n",
       "      <td>1.0</td>\n",
       "    </tr>\n",
       "    <tr>\n",
       "      <th>1</th>\n",
       "      <td>206.100006</td>\n",
       "      <td>206.100006</td>\n",
       "      <td>206.100006</td>\n",
       "      <td>206.100006</td>\n",
       "      <td>1.0</td>\n",
       "    </tr>\n",
       "    <tr>\n",
       "      <th>2</th>\n",
       "      <td>204.899994</td>\n",
       "      <td>204.899994</td>\n",
       "      <td>204.899994</td>\n",
       "      <td>204.899994</td>\n",
       "      <td>8.0</td>\n",
       "    </tr>\n",
       "    <tr>\n",
       "      <th>3</th>\n",
       "      <td>205.000000</td>\n",
       "      <td>205.000000</td>\n",
       "      <td>205.000000</td>\n",
       "      <td>205.000000</td>\n",
       "      <td>1.0</td>\n",
       "    </tr>\n",
       "    <tr>\n",
       "      <th>4</th>\n",
       "      <td>205.000000</td>\n",
       "      <td>205.000000</td>\n",
       "      <td>205.000000</td>\n",
       "      <td>205.000000</td>\n",
       "      <td>41.0</td>\n",
       "    </tr>\n",
       "  </tbody>\n",
       "</table>\n",
       "</div>"
      ],
      "text/plain": [
       "         open        high         low       close  volume\n",
       "0  206.899994  206.899994  206.899994  206.899994     1.0\n",
       "1  206.100006  206.100006  206.100006  206.100006     1.0\n",
       "2  204.899994  204.899994  204.899994  204.899994     8.0\n",
       "3  205.000000  205.000000  205.000000  205.000000     1.0\n",
       "4  205.000000  205.000000  205.000000  205.000000    41.0"
      ]
     },
     "execution_count": 59,
     "metadata": {},
     "output_type": "execute_result"
    }
   ],
   "source": [
    "data.head()"
   ]
  },
  {
   "cell_type": "code",
   "execution_count": 65,
   "metadata": {
    "colab": {
     "base_uri": "https://localhost:8080/",
     "height": 1000
    },
    "id": "PWI9olzemuwe",
    "outputId": "35963fb9-1fb9-4dfe-ef7d-c7705583ab81",
    "scrolled": true
   },
   "outputs": [
    {
     "name": "stdout",
     "output_type": "stream",
     "text": [
      "preprocess data\n"
     ]
    },
    {
     "name": "stderr",
     "output_type": "stream",
     "text": [
      "loss: « 6200581600.0 »: 100%|████████████| 1485/1485 [11:43<00:00,  2.11batch/s]\n",
      "100%|██████████████████████████████████████| 882/882 [04:04<00:00,  3.60batch/s]\n"
     ]
    },
    {
     "data": {
      "image/png": "[encoded data removed]",
      "text/plain": [
       "<Figure size 432x288 with 1 Axes>"
      ]
     },
     "metadata": {
      "needs_background": "light"
     },
     "output_type": "display_data"
    }
   ],
   "source": [
    "predictor.train(data_df=data, num_epochs=1, BATCH_SIZE=192)#192 4096)"
   ]
  },
  {
   "cell_type": "code",
   "execution_count": 68,
   "metadata": {},
   "outputs": [
    {
     "name": "stdout",
     "output_type": "stream",
     "text": [
      "model saved to ./FB_LSTM.pt\n"
     ]
    }
   ],
   "source": [
    "predictor.save_model('./FB_LSTM.pt')"
   ]
  },
  {
   "cell_type": "code",
   "execution_count": null,
   "metadata": {},
   "outputs": [],
   "source": []
  },
  {
   "cell_type": "code",
   "execution_count": null,
   "metadata": {},
   "outputs": [],
   "source": [
    "for ticker in tqdm(['AMZN', 'AAPL', 'FB', 'GOOGL', 'GOOG', 'MSFT', 'NVDA', 'TSLA']):\n",
    "    for mdl_type, batch_size in [('CNN', 4096), ('LSTM', 192)]:\n",
    "        data =  pd.read_csv('./tinkoff-data/' + ticker + '.csv')\n",
    "        predictor = TSPredictor(needLoad=False, model_type=mdl_type)\n",
    "        predictor.train(data_df=data, num_epochs=1, BATCH_SIZE=batch_size)\n",
    "        predictor.save_model('./' + ticker + '_' + model_type + '.pt')\n",
    "        predictor = None\n",
    "        torch.cuda.empty_cache()"
   ]
  },
  {
   "cell_type": "code",
   "execution_count": null,
   "metadata": {},
   "outputs": [],
   "source": []
  },
  {
   "cell_type": "code",
   "execution_count": 66,
   "metadata": {
    "id": "HLRnTihL-Ns0"
   },
   "outputs": [],
   "source": [
    "y_true = predictor.y_true\n",
    "y_pred = predictor.y_pred"
   ]
  },
  {
   "cell_type": "code",
   "execution_count": 30,
   "metadata": {},
   "outputs": [],
   "source": [
    "from sklearn.metrics import mean_absolute_error"
   ]
  },
  {
   "cell_type": "code",
   "execution_count": 67,
   "metadata": {},
   "outputs": [
    {
     "data": {
      "text/plain": [
       "0.22005692"
      ]
     },
     "execution_count": 67,
     "metadata": {},
     "output_type": "execute_result"
    }
   ],
   "source": [
    "mean_absolute_error(y_true, y_pred)"
   ]
  },
  {
   "cell_type": "code",
   "execution_count": 33,
   "metadata": {},
   "outputs": [
    {
     "data": {
      "image/png": "[encoded data removed]",
      "text/plain": [
       "<Figure size 432x288 with 1 Axes>"
      ]
     },
     "metadata": {
      "needs_background": "light"
     },
     "output_type": "display_data"
    }
   ],
   "source": [
    "plt.axvline(x=285016, c='r', linestyle='--')\n",
    "plt.ylim(predictor.min_plt, predictor.max_plt)\n",
    "\n",
    "plt.plot(y_true, color='blue', linewidth=1)\n",
    "plt.plot(y_pred, color='orange', linewidth=1)\n",
    "\n",
    "\n",
    "plt.suptitle('Time-Series Prediction')\n",
    "plt.show()"
   ]
  },
  {
   "cell_type": "code",
   "execution_count": null,
   "metadata": {
    "colab": {
     "base_uri": "https://localhost:8080/"
    },
    "id": "o5UlqbGN9qjB",
    "outputId": "4fd11469-c2c3-451a-ce23-72db051884e7"
   },
   "outputs": [],
   "source": [
    "# counter = 0\n",
    "# for i in range(len(y_true)):\n",
    "#     if y_pred[i] != y_true[i]:\n",
    "#         counter += 1\n",
    "# #         print(i, y_pred[i], y_true[i])\n",
    "# #     if i > 100:\n",
    "# #         break\n",
    "# print(counter)\n",
    "# print(len(y_true))"
   ]
  },
  {
   "cell_type": "code",
   "execution_count": 35,
   "metadata": {},
   "outputs": [],
   "source": [
    "predictor.isModelrained = True"
   ]
  },
  {
   "cell_type": "code",
   "execution_count": 37,
   "metadata": {},
   "outputs": [
    {
     "data": {
      "text/plain": [
       "tsCNN(\n",
       "  (conv1): Conv1d(5, 10, kernel_size=(360,), stride=(1,))\n",
       "  (pool): MaxPool1d(kernel_size=3, stride=3, padding=0, dilation=1, ceil_mode=False)\n",
       "  (conv2): Conv1d(10, 20, kernel_size=(360,), stride=(1,))\n",
       "  (conv3): Conv1d(20, 30, kernel_size=(120,), stride=(1,))\n",
       "  (conv4): Conv1d(30, 40, kernel_size=(10,), stride=(1,))\n",
       "  (fc1): Linear(in_features=400, out_features=100, bias=True)\n",
       "  (fc2): Linear(in_features=100, out_features=10, bias=True)\n",
       "  (fc3): Linear(in_features=10, out_features=5, bias=True)\n",
       ")"
      ]
     },
     "execution_count": 37,
     "metadata": {},
     "output_type": "execute_result"
    }
   ],
   "source": [
    "predictor.model.to('cpu')"
   ]
  },
  {
   "cell_type": "code",
   "execution_count": 77,
   "metadata": {},
   "outputs": [],
   "source": [
    "predictor = TSPredictor(needLoad=True, model_type='LSTM', path_to_model='./FB_LSTM.pt')"
   ]
  },
  {
   "cell_type": "code",
   "execution_count": 78,
   "metadata": {
    "id": "HnOF5EScs8Vg"
   },
   "outputs": [
    {
     "data": {
      "text/plain": [
       "array([209.74094  , 209.72176  , 209.67517  , 319.67316  ,   3.9752765],\n",
       "      dtype=float32)"
      ]
     },
     "execution_count": 78,
     "metadata": {},
     "output_type": "execute_result"
    }
   ],
   "source": [
    "predictor.inference_df(data[:3600])"
   ]
  },
  {
   "cell_type": "code",
   "execution_count": 43,
   "metadata": {
    "collapsed": true
   },
   "outputs": [
    {
     "data": {
      "text/html": [
       "<div>\n",
       "<style scoped>\n",
       "    .dataframe tbody tr th:only-of-type {\n",
       "        vertical-align: middle;\n",
       "    }\n",
       "\n",
       "    .dataframe tbody tr th {\n",
       "        vertical-align: top;\n",
       "    }\n",
       "\n",
       "    .dataframe thead th {\n",
       "        text-align: right;\n",
       "    }\n",
       "</style>\n",
       "<table border=\"1\" class=\"dataframe\">\n",
       "  <thead>\n",
       "    <tr style=\"text-align: right;\">\n",
       "      <th></th>\n",
       "      <th>open</th>\n",
       "      <th>high</th>\n",
       "      <th>low</th>\n",
       "      <th>close</th>\n",
       "      <th>volume</th>\n",
       "    </tr>\n",
       "  </thead>\n",
       "  <tbody>\n",
       "    <tr>\n",
       "      <th>0</th>\n",
       "      <td>206.899994</td>\n",
       "      <td>206.899994</td>\n",
       "      <td>206.899994</td>\n",
       "      <td>206.899994</td>\n",
       "      <td>1.0</td>\n",
       "    </tr>\n",
       "    <tr>\n",
       "      <th>1</th>\n",
       "      <td>206.100006</td>\n",
       "      <td>206.100006</td>\n",
       "      <td>206.100006</td>\n",
       "      <td>206.100006</td>\n",
       "      <td>1.0</td>\n",
       "    </tr>\n",
       "    <tr>\n",
       "      <th>2</th>\n",
       "      <td>204.899994</td>\n",
       "      <td>204.899994</td>\n",
       "      <td>204.899994</td>\n",
       "      <td>204.899994</td>\n",
       "      <td>8.0</td>\n",
       "    </tr>\n",
       "    <tr>\n",
       "      <th>3</th>\n",
       "      <td>205.000000</td>\n",
       "      <td>205.000000</td>\n",
       "      <td>205.000000</td>\n",
       "      <td>205.000000</td>\n",
       "      <td>1.0</td>\n",
       "    </tr>\n",
       "    <tr>\n",
       "      <th>4</th>\n",
       "      <td>205.000000</td>\n",
       "      <td>205.000000</td>\n",
       "      <td>205.000000</td>\n",
       "      <td>205.000000</td>\n",
       "      <td>41.0</td>\n",
       "    </tr>\n",
       "    <tr>\n",
       "      <th>...</th>\n",
       "      <td>...</td>\n",
       "      <td>...</td>\n",
       "      <td>...</td>\n",
       "      <td>...</td>\n",
       "      <td>...</td>\n",
       "    </tr>\n",
       "    <tr>\n",
       "      <th>457776</th>\n",
       "      <td>210.259995</td>\n",
       "      <td>210.259995</td>\n",
       "      <td>210.259995</td>\n",
       "      <td>210.259995</td>\n",
       "      <td>13.0</td>\n",
       "    </tr>\n",
       "    <tr>\n",
       "      <th>457777</th>\n",
       "      <td>210.100006</td>\n",
       "      <td>210.259995</td>\n",
       "      <td>210.100006</td>\n",
       "      <td>210.259995</td>\n",
       "      <td>5.0</td>\n",
       "    </tr>\n",
       "    <tr>\n",
       "      <th>457778</th>\n",
       "      <td>210.259995</td>\n",
       "      <td>210.259995</td>\n",
       "      <td>210.240005</td>\n",
       "      <td>210.240005</td>\n",
       "      <td>7.0</td>\n",
       "    </tr>\n",
       "    <tr>\n",
       "      <th>457779</th>\n",
       "      <td>210.190002</td>\n",
       "      <td>210.190002</td>\n",
       "      <td>210.399994</td>\n",
       "      <td>210.399994</td>\n",
       "      <td>108.0</td>\n",
       "    </tr>\n",
       "    <tr>\n",
       "      <th>457780</th>\n",
       "      <td>210.100006</td>\n",
       "      <td>210.100006</td>\n",
       "      <td>210.100006</td>\n",
       "      <td>210.100006</td>\n",
       "      <td>2.0</td>\n",
       "    </tr>\n",
       "  </tbody>\n",
       "</table>\n",
       "<p>457781 rows × 5 columns</p>\n",
       "</div>"
      ],
      "text/plain": [
       "              open        high         low       close  volume\n",
       "0       206.899994  206.899994  206.899994  206.899994     1.0\n",
       "1       206.100006  206.100006  206.100006  206.100006     1.0\n",
       "2       204.899994  204.899994  204.899994  204.899994     8.0\n",
       "3       205.000000  205.000000  205.000000  205.000000     1.0\n",
       "4       205.000000  205.000000  205.000000  205.000000    41.0\n",
       "...            ...         ...         ...         ...     ...\n",
       "457776  210.259995  210.259995  210.259995  210.259995    13.0\n",
       "457777  210.100006  210.259995  210.100006  210.259995     5.0\n",
       "457778  210.259995  210.259995  210.240005  210.240005     7.0\n",
       "457779  210.190002  210.190002  210.399994  210.399994   108.0\n",
       "457780  210.100006  210.100006  210.100006  210.100006     2.0\n",
       "\n",
       "[457781 rows x 5 columns]"
      ]
     },
     "execution_count": 43,
     "metadata": {},
     "output_type": "execute_result"
    }
   ],
   "source": [
    "data"
   ]
  },
  {
   "cell_type": "code",
   "execution_count": 53,
   "metadata": {},
   "outputs": [
    {
     "data": {
      "text/plain": [
       "(1, 5, 3599)"
      ]
     },
     "execution_count": 53,
     "metadata": {},
     "output_type": "execute_result"
    }
   ],
   "source": [
    "np.swapaxes(np.expand_dims(data[:3600].diff().dropna().values, axis=0), 1, 2).shape"
   ]
  },
  {
   "cell_type": "code",
   "execution_count": 69,
   "metadata": {
    "collapsed": true
   },
   "outputs": [
    {
     "ename": "RuntimeError",
     "evalue": "input.size(-1) must be equal to input_size. Expected 5, got 3599",
     "output_type": "error",
     "traceback": [
      "\u001b[0;31m---------------------------------------------------------------------------\u001b[0m",
      "\u001b[0;31mRuntimeError\u001b[0m                              Traceback (most recent call last)",
      "Input \u001b[0;32mIn [69]\u001b[0m, in \u001b[0;36m<module>\u001b[0;34m\u001b[0m\n\u001b[0;32m----> 1\u001b[0m \u001b[43mpredictor\u001b[49m\u001b[38;5;241;43m.\u001b[39;49m\u001b[43mmodel\u001b[49m\u001b[43m(\u001b[49m\u001b[43mtorch\u001b[49m\u001b[38;5;241;43m.\u001b[39;49m\u001b[43mtensor\u001b[49m\u001b[43m(\u001b[49m\u001b[43mnp\u001b[49m\u001b[38;5;241;43m.\u001b[39;49m\u001b[43mswapaxes\u001b[49m\u001b[43m(\u001b[49m\u001b[43mnp\u001b[49m\u001b[38;5;241;43m.\u001b[39;49m\u001b[43mexpand_dims\u001b[49m\u001b[43m(\u001b[49m\u001b[43mdata\u001b[49m\u001b[43m[\u001b[49m\u001b[43m:\u001b[49m\u001b[38;5;241;43m3600\u001b[39;49m\u001b[43m]\u001b[49m\u001b[38;5;241;43m.\u001b[39;49m\u001b[43mdiff\u001b[49m\u001b[43m(\u001b[49m\u001b[43m)\u001b[49m\u001b[38;5;241;43m.\u001b[39;49m\u001b[43mdropna\u001b[49m\u001b[43m(\u001b[49m\u001b[43m)\u001b[49m\u001b[38;5;241;43m.\u001b[39;49m\u001b[43mvalues\u001b[49m\u001b[43m,\u001b[49m\u001b[43m \u001b[49m\u001b[43maxis\u001b[49m\u001b[38;5;241;43m=\u001b[39;49m\u001b[38;5;241;43m0\u001b[39;49m\u001b[43m)\u001b[49m\u001b[43m,\u001b[49m\u001b[43m \u001b[49m\u001b[38;5;241;43m1\u001b[39;49m\u001b[43m,\u001b[49m\u001b[43m \u001b[49m\u001b[38;5;241;43m2\u001b[39;49m\u001b[43m)\u001b[49m\u001b[43m)\u001b[49m\u001b[43m)\u001b[49m\n",
      "File \u001b[0;32m~/envs/hse-proj-py38/lib/python3.8/site-packages/torch/nn/modules/module.py:1102\u001b[0m, in \u001b[0;36mModule._call_impl\u001b[0;34m(self, *input, **kwargs)\u001b[0m\n\u001b[1;32m   1098\u001b[0m \u001b[38;5;66;03m# If we don't have any hooks, we want to skip the rest of the logic in\u001b[39;00m\n\u001b[1;32m   1099\u001b[0m \u001b[38;5;66;03m# this function, and just call forward.\u001b[39;00m\n\u001b[1;32m   1100\u001b[0m \u001b[38;5;28;01mif\u001b[39;00m \u001b[38;5;129;01mnot\u001b[39;00m (\u001b[38;5;28mself\u001b[39m\u001b[38;5;241m.\u001b[39m_backward_hooks \u001b[38;5;129;01mor\u001b[39;00m \u001b[38;5;28mself\u001b[39m\u001b[38;5;241m.\u001b[39m_forward_hooks \u001b[38;5;129;01mor\u001b[39;00m \u001b[38;5;28mself\u001b[39m\u001b[38;5;241m.\u001b[39m_forward_pre_hooks \u001b[38;5;129;01mor\u001b[39;00m _global_backward_hooks\n\u001b[1;32m   1101\u001b[0m         \u001b[38;5;129;01mor\u001b[39;00m _global_forward_hooks \u001b[38;5;129;01mor\u001b[39;00m _global_forward_pre_hooks):\n\u001b[0;32m-> 1102\u001b[0m     \u001b[38;5;28;01mreturn\u001b[39;00m \u001b[43mforward_call\u001b[49m\u001b[43m(\u001b[49m\u001b[38;5;241;43m*\u001b[39;49m\u001b[38;5;28;43minput\u001b[39;49m\u001b[43m,\u001b[49m\u001b[43m \u001b[49m\u001b[38;5;241;43m*\u001b[39;49m\u001b[38;5;241;43m*\u001b[39;49m\u001b[43mkwargs\u001b[49m\u001b[43m)\u001b[49m\n\u001b[1;32m   1103\u001b[0m \u001b[38;5;66;03m# Do not call functions when jit is used\u001b[39;00m\n\u001b[1;32m   1104\u001b[0m full_backward_hooks, non_full_backward_hooks \u001b[38;5;241m=\u001b[39m [], []\n",
      "Input \u001b[0;32mIn [62]\u001b[0m, in \u001b[0;36mtsLSTM.forward\u001b[0;34m(self, x)\u001b[0m\n\u001b[1;32m     18\u001b[0m     \u001b[38;5;28;01mdef\u001b[39;00m \u001b[38;5;21mforward\u001b[39m(\u001b[38;5;28mself\u001b[39m, x):\n\u001b[1;32m     19\u001b[0m \u001b[38;5;66;03m#         self.lstm.flattern_parameters()\u001b[39;00m\n\u001b[0;32m---> 21\u001b[0m         _, (hidden, _) \u001b[38;5;241m=\u001b[39m \u001b[38;5;28;43mself\u001b[39;49m\u001b[38;5;241;43m.\u001b[39;49m\u001b[43mlstm\u001b[49m\u001b[43m(\u001b[49m\u001b[43mx\u001b[49m\u001b[43m)\u001b[49m\n\u001b[1;32m     23\u001b[0m         \u001b[38;5;28;01mreturn\u001b[39;00m \u001b[38;5;28mself\u001b[39m\u001b[38;5;241m.\u001b[39mregressor(hidden[\u001b[38;5;241m-\u001b[39m\u001b[38;5;241m1\u001b[39m])\n",
      "File \u001b[0;32m~/envs/hse-proj-py38/lib/python3.8/site-packages/torch/nn/modules/module.py:1102\u001b[0m, in \u001b[0;36mModule._call_impl\u001b[0;34m(self, *input, **kwargs)\u001b[0m\n\u001b[1;32m   1098\u001b[0m \u001b[38;5;66;03m# If we don't have any hooks, we want to skip the rest of the logic in\u001b[39;00m\n\u001b[1;32m   1099\u001b[0m \u001b[38;5;66;03m# this function, and just call forward.\u001b[39;00m\n\u001b[1;32m   1100\u001b[0m \u001b[38;5;28;01mif\u001b[39;00m \u001b[38;5;129;01mnot\u001b[39;00m (\u001b[38;5;28mself\u001b[39m\u001b[38;5;241m.\u001b[39m_backward_hooks \u001b[38;5;129;01mor\u001b[39;00m \u001b[38;5;28mself\u001b[39m\u001b[38;5;241m.\u001b[39m_forward_hooks \u001b[38;5;129;01mor\u001b[39;00m \u001b[38;5;28mself\u001b[39m\u001b[38;5;241m.\u001b[39m_forward_pre_hooks \u001b[38;5;129;01mor\u001b[39;00m _global_backward_hooks\n\u001b[1;32m   1101\u001b[0m         \u001b[38;5;129;01mor\u001b[39;00m _global_forward_hooks \u001b[38;5;129;01mor\u001b[39;00m _global_forward_pre_hooks):\n\u001b[0;32m-> 1102\u001b[0m     \u001b[38;5;28;01mreturn\u001b[39;00m \u001b[43mforward_call\u001b[49m\u001b[43m(\u001b[49m\u001b[38;5;241;43m*\u001b[39;49m\u001b[38;5;28;43minput\u001b[39;49m\u001b[43m,\u001b[49m\u001b[43m \u001b[49m\u001b[38;5;241;43m*\u001b[39;49m\u001b[38;5;241;43m*\u001b[39;49m\u001b[43mkwargs\u001b[49m\u001b[43m)\u001b[49m\n\u001b[1;32m   1103\u001b[0m \u001b[38;5;66;03m# Do not call functions when jit is used\u001b[39;00m\n\u001b[1;32m   1104\u001b[0m full_backward_hooks, non_full_backward_hooks \u001b[38;5;241m=\u001b[39m [], []\n",
      "File \u001b[0;32m~/envs/hse-proj-py38/lib/python3.8/site-packages/torch/nn/modules/rnn.py:689\u001b[0m, in \u001b[0;36mLSTM.forward\u001b[0;34m(self, input, hx)\u001b[0m\n\u001b[1;32m    684\u001b[0m \u001b[38;5;28;01melse\u001b[39;00m:\n\u001b[1;32m    685\u001b[0m     \u001b[38;5;66;03m# Each batch of the hidden state should match the input sequence that\u001b[39;00m\n\u001b[1;32m    686\u001b[0m     \u001b[38;5;66;03m# the user believes he/she is passing in.\u001b[39;00m\n\u001b[1;32m    687\u001b[0m     hx \u001b[38;5;241m=\u001b[39m \u001b[38;5;28mself\u001b[39m\u001b[38;5;241m.\u001b[39mpermute_hidden(hx, sorted_indices)\n\u001b[0;32m--> 689\u001b[0m \u001b[38;5;28;43mself\u001b[39;49m\u001b[38;5;241;43m.\u001b[39;49m\u001b[43mcheck_forward_args\u001b[49m\u001b[43m(\u001b[49m\u001b[38;5;28;43minput\u001b[39;49m\u001b[43m,\u001b[49m\u001b[43m \u001b[49m\u001b[43mhx\u001b[49m\u001b[43m,\u001b[49m\u001b[43m \u001b[49m\u001b[43mbatch_sizes\u001b[49m\u001b[43m)\u001b[49m\n\u001b[1;32m    690\u001b[0m \u001b[38;5;28;01mif\u001b[39;00m batch_sizes \u001b[38;5;129;01mis\u001b[39;00m \u001b[38;5;28;01mNone\u001b[39;00m:\n\u001b[1;32m    691\u001b[0m     result \u001b[38;5;241m=\u001b[39m _VF\u001b[38;5;241m.\u001b[39mlstm(\u001b[38;5;28minput\u001b[39m, hx, \u001b[38;5;28mself\u001b[39m\u001b[38;5;241m.\u001b[39m_flat_weights, \u001b[38;5;28mself\u001b[39m\u001b[38;5;241m.\u001b[39mbias, \u001b[38;5;28mself\u001b[39m\u001b[38;5;241m.\u001b[39mnum_layers,\n\u001b[1;32m    692\u001b[0m                       \u001b[38;5;28mself\u001b[39m\u001b[38;5;241m.\u001b[39mdropout, \u001b[38;5;28mself\u001b[39m\u001b[38;5;241m.\u001b[39mtraining, \u001b[38;5;28mself\u001b[39m\u001b[38;5;241m.\u001b[39mbidirectional, \u001b[38;5;28mself\u001b[39m\u001b[38;5;241m.\u001b[39mbatch_first)\n",
      "File \u001b[0;32m~/envs/hse-proj-py38/lib/python3.8/site-packages/torch/nn/modules/rnn.py:632\u001b[0m, in \u001b[0;36mLSTM.check_forward_args\u001b[0;34m(self, input, hidden, batch_sizes)\u001b[0m\n\u001b[1;32m    627\u001b[0m \u001b[38;5;28;01mdef\u001b[39;00m \u001b[38;5;21mcheck_forward_args\u001b[39m(\u001b[38;5;28mself\u001b[39m,  \u001b[38;5;66;03m# type: ignore[override]\u001b[39;00m\n\u001b[1;32m    628\u001b[0m                        \u001b[38;5;28minput\u001b[39m: Tensor,\n\u001b[1;32m    629\u001b[0m                        hidden: Tuple[Tensor, Tensor],\n\u001b[1;32m    630\u001b[0m                        batch_sizes: Optional[Tensor],\n\u001b[1;32m    631\u001b[0m                        ):\n\u001b[0;32m--> 632\u001b[0m     \u001b[38;5;28;43mself\u001b[39;49m\u001b[38;5;241;43m.\u001b[39;49m\u001b[43mcheck_input\u001b[49m\u001b[43m(\u001b[49m\u001b[38;5;28;43minput\u001b[39;49m\u001b[43m,\u001b[49m\u001b[43m \u001b[49m\u001b[43mbatch_sizes\u001b[49m\u001b[43m)\u001b[49m\n\u001b[1;32m    633\u001b[0m     \u001b[38;5;28mself\u001b[39m\u001b[38;5;241m.\u001b[39mcheck_hidden_size(hidden[\u001b[38;5;241m0\u001b[39m], \u001b[38;5;28mself\u001b[39m\u001b[38;5;241m.\u001b[39mget_expected_hidden_size(\u001b[38;5;28minput\u001b[39m, batch_sizes),\n\u001b[1;32m    634\u001b[0m                            \u001b[38;5;124m'\u001b[39m\u001b[38;5;124mExpected hidden[0] size \u001b[39m\u001b[38;5;132;01m{}\u001b[39;00m\u001b[38;5;124m, got \u001b[39m\u001b[38;5;132;01m{}\u001b[39;00m\u001b[38;5;124m'\u001b[39m)\n\u001b[1;32m    635\u001b[0m     \u001b[38;5;28mself\u001b[39m\u001b[38;5;241m.\u001b[39mcheck_hidden_size(hidden[\u001b[38;5;241m1\u001b[39m], \u001b[38;5;28mself\u001b[39m\u001b[38;5;241m.\u001b[39mget_expected_cell_size(\u001b[38;5;28minput\u001b[39m, batch_sizes),\n\u001b[1;32m    636\u001b[0m                            \u001b[38;5;124m'\u001b[39m\u001b[38;5;124mExpected hidden[1] size \u001b[39m\u001b[38;5;132;01m{}\u001b[39;00m\u001b[38;5;124m, got \u001b[39m\u001b[38;5;132;01m{}\u001b[39;00m\u001b[38;5;124m'\u001b[39m)\n",
      "File \u001b[0;32m~/envs/hse-proj-py38/lib/python3.8/site-packages/torch/nn/modules/rnn.py:205\u001b[0m, in \u001b[0;36mRNNBase.check_input\u001b[0;34m(self, input, batch_sizes)\u001b[0m\n\u001b[1;32m    201\u001b[0m     \u001b[38;5;28;01mraise\u001b[39;00m \u001b[38;5;167;01mRuntimeError\u001b[39;00m(\n\u001b[1;32m    202\u001b[0m         \u001b[38;5;124m'\u001b[39m\u001b[38;5;124minput must have \u001b[39m\u001b[38;5;132;01m{}\u001b[39;00m\u001b[38;5;124m dimensions, got \u001b[39m\u001b[38;5;132;01m{}\u001b[39;00m\u001b[38;5;124m'\u001b[39m\u001b[38;5;241m.\u001b[39mformat(\n\u001b[1;32m    203\u001b[0m             expected_input_dim, \u001b[38;5;28minput\u001b[39m\u001b[38;5;241m.\u001b[39mdim()))\n\u001b[1;32m    204\u001b[0m \u001b[38;5;28;01mif\u001b[39;00m \u001b[38;5;28mself\u001b[39m\u001b[38;5;241m.\u001b[39minput_size \u001b[38;5;241m!=\u001b[39m \u001b[38;5;28minput\u001b[39m\u001b[38;5;241m.\u001b[39msize(\u001b[38;5;241m-\u001b[39m\u001b[38;5;241m1\u001b[39m):\n\u001b[0;32m--> 205\u001b[0m     \u001b[38;5;28;01mraise\u001b[39;00m \u001b[38;5;167;01mRuntimeError\u001b[39;00m(\n\u001b[1;32m    206\u001b[0m         \u001b[38;5;124m'\u001b[39m\u001b[38;5;124minput.size(-1) must be equal to input_size. Expected \u001b[39m\u001b[38;5;132;01m{}\u001b[39;00m\u001b[38;5;124m, got \u001b[39m\u001b[38;5;132;01m{}\u001b[39;00m\u001b[38;5;124m'\u001b[39m\u001b[38;5;241m.\u001b[39mformat(\n\u001b[1;32m    207\u001b[0m             \u001b[38;5;28mself\u001b[39m\u001b[38;5;241m.\u001b[39minput_size, \u001b[38;5;28minput\u001b[39m\u001b[38;5;241m.\u001b[39msize(\u001b[38;5;241m-\u001b[39m\u001b[38;5;241m1\u001b[39m)))\n",
      "\u001b[0;31mRuntimeError\u001b[0m: input.size(-1) must be equal to input_size. Expected 5, got 3599"
     ]
    }
   ],
   "source": [
    "predictor.model(torch.tensor(np.swapaxes(np.expand_dims(data[:3600].diff().dropna().values, axis=0), 1, 2)))"
   ]
  },
  {
   "cell_type": "code",
   "execution_count": 74,
   "metadata": {},
   "outputs": [
    {
     "data": {
      "text/plain": [
       "array([-8.8264912e-02,  6.0212016e-03, -8.3648756e-02, -1.8402092e+02,\n",
       "       -6.6040851e-02], dtype=float32)"
      ]
     },
     "execution_count": 74,
     "metadata": {},
     "output_type": "execute_result"
    }
   ],
   "source": [
    "predictor.model(torch.tensor(np.expand_dims(data[:3600].diff().dropna().values, axis=0))).cpu().detach().numpy()[0]"
   ]
  },
  {
   "cell_type": "code",
   "execution_count": null,
   "metadata": {
    "id": "Nu9DNbXCsZ_k"
   },
   "outputs": [],
   "source": [
    "# predictor.save_model('/content/drive/MyDrive/iad_project/LSTM.pt')"
   ]
  },
  {
   "cell_type": "code",
   "execution_count": null,
   "metadata": {
    "id": "Troz-4rnqFkh"
   },
   "outputs": [],
   "source": [
    "# data[:3600].close.diff().shape"
   ]
  },
  {
   "cell_type": "code",
   "execution_count": null,
   "metadata": {
    "id": "UPb3RG-1qT4v"
   },
   "outputs": [],
   "source": [
    "# data[:3600].close"
   ]
  },
  {
   "cell_type": "code",
   "execution_count": null,
   "metadata": {
    "id": "MpDwWlAPqG_Y"
   },
   "outputs": [],
   "source": [
    "# data[:3600].close.diff().dropna()"
   ]
  },
  {
   "cell_type": "code",
   "execution_count": null,
   "metadata": {
    "id": "EZzqamnxqPG2"
   },
   "outputs": [],
   "source": [
    "# 86.300003 - 86.699997"
   ]
  }
 ],
 "metadata": {
  "accelerator": "GPU",
  "colab": {
   "collapsed_sections": [],
   "name": "predictor-demo.ipynb",
   "provenance": []
  },
  "kernelspec": {
   "display_name": "hse-proj-py38",
   "language": "python",
   "name": "hse-proj-py38"
  },
  "language_info": {
   "codemirror_mode": {
    "name": "ipython",
    "version": 3
   },
   "file_extension": ".py",
   "mimetype": "text/x-python",
   "name": "python",
   "nbconvert_exporter": "python",
   "pygments_lexer": "ipython3",
   "version": "3.8.13"
  }
 },
 "nbformat": 4,
 "nbformat_minor": 1
}
