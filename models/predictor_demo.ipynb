{
 "cells": [
  {
   "cell_type": "markdown",
   "metadata": {
    "id": "xSItPJipBaZ5"
   },
   "source": [
    "## Library"
   ]
  },
  {
   "cell_type": "code",
   "execution_count": 1,
   "metadata": {
    "id": "wb-Z7wNKUJko"
   },
   "outputs": [
    {
     "name": "stderr",
     "output_type": "stream",
     "text": [
      "/home/azarius/envs/hse-proj-py38/lib/python3.8/site-packages/tqdm/auto.py:22: TqdmWarning: IProgress not found. Please update jupyter and ipywidgets. See https://ipywidgets.readthedocs.io/en/stable/user_install.html\n",
      "  from .autonotebook import tqdm as notebook_tqdm\n"
     ]
    }
   ],
   "source": [
    "import numpy as np\n",
    "import matplotlib.pyplot as plt\n",
    "import pandas as pd\n",
    "import torch\n",
    "import torch.nn as nn\n",
    "from torch.autograd import Variable\n",
    "from sklearn.preprocessing import MinMaxScaler"
   ]
  },
  {
   "cell_type": "code",
   "execution_count": 2,
   "metadata": {
    "id": "rjERGz6Jzk8l"
   },
   "outputs": [],
   "source": [
    "from torch.utils.data import Dataset\n",
    "from torch.utils.data import random_split\n",
    "from sklearn.model_selection import train_test_split\n",
    "from torch.utils.data import DataLoader, Subset"
   ]
  },
  {
   "cell_type": "code",
   "execution_count": 3,
   "metadata": {
    "id": "QZ_AO2_Yzk8m"
   },
   "outputs": [],
   "source": [
    "from tqdm import tqdm"
   ]
  },
  {
   "cell_type": "code",
   "execution_count": 4,
   "metadata": {
    "id": "YhWRz7QAzk8m"
   },
   "outputs": [],
   "source": [
    "from datetime import datetime"
   ]
  },
  {
   "cell_type": "code",
   "execution_count": 5,
   "metadata": {
    "id": "XbOAKhwXzk8n"
   },
   "outputs": [],
   "source": [
    "import torch.nn.functional as F"
   ]
  },
  {
   "cell_type": "code",
   "execution_count": 6,
   "metadata": {
    "colab": {
     "base_uri": "https://localhost:8080/"
    },
    "id": "7ECDyoOGzk8n",
    "outputId": "a8755a9d-01eb-4c65-9e97-cd6fc849470b"
   },
   "outputs": [
    {
     "name": "stdout",
     "output_type": "stream",
     "text": [
      "/home/azarius/Projects\r\n"
     ]
    }
   ],
   "source": [
    "!pwd"
   ]
  },
  {
   "cell_type": "code",
   "execution_count": 7,
   "metadata": {
    "colab": {
     "base_uri": "https://localhost:8080/"
    },
    "id": "JCV_BX8rzwP4",
    "outputId": "6718d707-c5ca-4f73-afd5-f82df8caa22f"
   },
   "outputs": [],
   "source": [
    "# from google.colab import drive\n",
    "# drive.mount('/content/drive')"
   ]
  },
  {
   "cell_type": "code",
   "execution_count": 8,
   "metadata": {
    "colab": {
     "base_uri": "https://localhost:8080/"
    },
    "id": "-2QTWwnez9u_",
    "outputId": "90fe8902-054d-4f69-d57c-62ef626f764a"
   },
   "outputs": [
    {
     "name": "stdout",
     "output_type": "stream",
     "text": [
      "ls: cannot access '/content/drive/MyDrive/iad_project/': No such file or directory\r\n"
     ]
    }
   ],
   "source": [
    "!ls /content/drive/MyDrive/iad_project/"
   ]
  },
  {
   "cell_type": "markdown",
   "metadata": {
    "id": "e31mswiSBEEB"
   },
   "source": [
    "## Data Plot"
   ]
  },
  {
   "cell_type": "code",
   "execution_count": 9,
   "metadata": {
    "id": "ooQPXSYhA_ps"
   },
   "outputs": [],
   "source": [
    "data = pd.read_csv('./tinkoff-data/FB.csv')"
   ]
  },
  {
   "cell_type": "code",
   "execution_count": 10,
   "metadata": {
    "colab": {
     "base_uri": "https://localhost:8080/",
     "height": 206
    },
    "id": "w3Pw9HX1zk8o",
    "outputId": "ec0c44e7-171d-4322-baec-20397df43da0"
   },
   "outputs": [
    {
     "data": {
      "text/html": [
       "<div>\n",
       "<style scoped>\n",
       "    .dataframe tbody tr th:only-of-type {\n",
       "        vertical-align: middle;\n",
       "    }\n",
       "\n",
       "    .dataframe tbody tr th {\n",
       "        vertical-align: top;\n",
       "    }\n",
       "\n",
       "    .dataframe thead th {\n",
       "        text-align: right;\n",
       "    }\n",
       "</style>\n",
       "<table border=\"1\" class=\"dataframe\">\n",
       "  <thead>\n",
       "    <tr style=\"text-align: right;\">\n",
       "      <th></th>\n",
       "      <th>open</th>\n",
       "      <th>high</th>\n",
       "      <th>low</th>\n",
       "      <th>close</th>\n",
       "      <th>volume</th>\n",
       "      <th>time</th>\n",
       "    </tr>\n",
       "  </thead>\n",
       "  <tbody>\n",
       "    <tr>\n",
       "      <th>0</th>\n",
       "      <td>206.9</td>\n",
       "      <td>206.9</td>\n",
       "      <td>206.9</td>\n",
       "      <td>206.9</td>\n",
       "      <td>1</td>\n",
       "      <td>2019-12-23 07:00:00+00:00</td>\n",
       "    </tr>\n",
       "    <tr>\n",
       "      <th>1</th>\n",
       "      <td>206.1</td>\n",
       "      <td>206.1</td>\n",
       "      <td>206.1</td>\n",
       "      <td>206.1</td>\n",
       "      <td>1</td>\n",
       "      <td>2019-12-23 07:01:00+00:00</td>\n",
       "    </tr>\n",
       "    <tr>\n",
       "      <th>2</th>\n",
       "      <td>204.9</td>\n",
       "      <td>204.9</td>\n",
       "      <td>204.9</td>\n",
       "      <td>204.9</td>\n",
       "      <td>8</td>\n",
       "      <td>2019-12-23 07:04:00+00:00</td>\n",
       "    </tr>\n",
       "    <tr>\n",
       "      <th>3</th>\n",
       "      <td>205.0</td>\n",
       "      <td>205.0</td>\n",
       "      <td>205.0</td>\n",
       "      <td>205.0</td>\n",
       "      <td>1</td>\n",
       "      <td>2019-12-23 07:07:00+00:00</td>\n",
       "    </tr>\n",
       "    <tr>\n",
       "      <th>4</th>\n",
       "      <td>205.0</td>\n",
       "      <td>205.0</td>\n",
       "      <td>205.0</td>\n",
       "      <td>205.0</td>\n",
       "      <td>41</td>\n",
       "      <td>2019-12-23 07:08:00+00:00</td>\n",
       "    </tr>\n",
       "  </tbody>\n",
       "</table>\n",
       "</div>"
      ],
      "text/plain": [
       "    open   high    low  close  volume                       time\n",
       "0  206.9  206.9  206.9  206.9       1  2019-12-23 07:00:00+00:00\n",
       "1  206.1  206.1  206.1  206.1       1  2019-12-23 07:01:00+00:00\n",
       "2  204.9  204.9  204.9  204.9       8  2019-12-23 07:04:00+00:00\n",
       "3  205.0  205.0  205.0  205.0       1  2019-12-23 07:07:00+00:00\n",
       "4  205.0  205.0  205.0  205.0      41  2019-12-23 07:08:00+00:00"
      ]
     },
     "execution_count": 10,
     "metadata": {},
     "output_type": "execute_result"
    }
   ],
   "source": [
    "data.head()"
   ]
  },
  {
   "cell_type": "code",
   "execution_count": 11,
   "metadata": {},
   "outputs": [
    {
     "data": {
      "text/plain": [
       "(457781, 6)"
      ]
     },
     "execution_count": 11,
     "metadata": {},
     "output_type": "execute_result"
    }
   ],
   "source": [
    "data.shape"
   ]
  },
  {
   "cell_type": "code",
   "execution_count": 12,
   "metadata": {
    "id": "aFZZAheZzk8p"
   },
   "outputs": [],
   "source": [
    "# data['unix_time'] = data.time.apply(lambda x: (datetime.strptime(x[:-6], '%Y-%m-%d %H:%M:%S') - datetime(1970, 1, 1)).total_seconds())"
   ]
  },
  {
   "cell_type": "code",
   "execution_count": 13,
   "metadata": {
    "id": "tjX1rDXWzk8p"
   },
   "outputs": [],
   "source": [
    "data.drop(columns=['time'], inplace=True)"
   ]
  },
  {
   "cell_type": "code",
   "execution_count": 14,
   "metadata": {
    "id": "TSTGuIaQzk8p"
   },
   "outputs": [],
   "source": [
    "data = data.astype('float32')"
   ]
  },
  {
   "cell_type": "code",
   "execution_count": 15,
   "metadata": {
    "colab": {
     "base_uri": "https://localhost:8080/"
    },
    "id": "1wV33JRbzk8q",
    "outputId": "9dd2190b-77a5-49a7-ef69-405f0ff1925c"
   },
   "outputs": [
    {
     "name": "stdout",
     "output_type": "stream",
     "text": [
      "<class 'pandas.core.frame.DataFrame'>\n",
      "RangeIndex: 457781 entries, 0 to 457780\n",
      "Data columns (total 5 columns):\n",
      " #   Column  Non-Null Count   Dtype  \n",
      "---  ------  --------------   -----  \n",
      " 0   open    457781 non-null  float32\n",
      " 1   high    457781 non-null  float32\n",
      " 2   low     457781 non-null  float32\n",
      " 3   close   457781 non-null  float32\n",
      " 4   volume  457781 non-null  float32\n",
      "dtypes: float32(5)\n",
      "memory usage: 8.7 MB\n"
     ]
    }
   ],
   "source": [
    "data.info()"
   ]
  },
  {
   "cell_type": "code",
   "execution_count": 16,
   "metadata": {
    "colab": {
     "base_uri": "https://localhost:8080/",
     "height": 363
    },
    "id": "yVWA6Kpbzk8q",
    "outputId": "de823003-da0d-4e3e-f83b-247b5ed34c09"
   },
   "outputs": [
    {
     "data": {
      "text/html": [
       "<div>\n",
       "<style scoped>\n",
       "    .dataframe tbody tr th:only-of-type {\n",
       "        vertical-align: middle;\n",
       "    }\n",
       "\n",
       "    .dataframe tbody tr th {\n",
       "        vertical-align: top;\n",
       "    }\n",
       "\n",
       "    .dataframe thead th {\n",
       "        text-align: right;\n",
       "    }\n",
       "</style>\n",
       "<table border=\"1\" class=\"dataframe\">\n",
       "  <thead>\n",
       "    <tr style=\"text-align: right;\">\n",
       "      <th></th>\n",
       "      <th>open</th>\n",
       "      <th>high</th>\n",
       "      <th>low</th>\n",
       "      <th>close</th>\n",
       "      <th>volume</th>\n",
       "    </tr>\n",
       "  </thead>\n",
       "  <tbody>\n",
       "    <tr>\n",
       "      <th>0</th>\n",
       "      <td>206.899994</td>\n",
       "      <td>206.899994</td>\n",
       "      <td>206.899994</td>\n",
       "      <td>206.899994</td>\n",
       "      <td>1.0</td>\n",
       "    </tr>\n",
       "    <tr>\n",
       "      <th>1</th>\n",
       "      <td>206.100006</td>\n",
       "      <td>206.100006</td>\n",
       "      <td>206.100006</td>\n",
       "      <td>206.100006</td>\n",
       "      <td>1.0</td>\n",
       "    </tr>\n",
       "    <tr>\n",
       "      <th>2</th>\n",
       "      <td>204.899994</td>\n",
       "      <td>204.899994</td>\n",
       "      <td>204.899994</td>\n",
       "      <td>204.899994</td>\n",
       "      <td>8.0</td>\n",
       "    </tr>\n",
       "    <tr>\n",
       "      <th>3</th>\n",
       "      <td>205.000000</td>\n",
       "      <td>205.000000</td>\n",
       "      <td>205.000000</td>\n",
       "      <td>205.000000</td>\n",
       "      <td>1.0</td>\n",
       "    </tr>\n",
       "    <tr>\n",
       "      <th>4</th>\n",
       "      <td>205.000000</td>\n",
       "      <td>205.000000</td>\n",
       "      <td>205.000000</td>\n",
       "      <td>205.000000</td>\n",
       "      <td>41.0</td>\n",
       "    </tr>\n",
       "    <tr>\n",
       "      <th>5</th>\n",
       "      <td>205.000000</td>\n",
       "      <td>205.000000</td>\n",
       "      <td>205.000000</td>\n",
       "      <td>205.000000</td>\n",
       "      <td>5.0</td>\n",
       "    </tr>\n",
       "    <tr>\n",
       "      <th>6</th>\n",
       "      <td>205.000000</td>\n",
       "      <td>205.000000</td>\n",
       "      <td>205.000000</td>\n",
       "      <td>205.000000</td>\n",
       "      <td>3.0</td>\n",
       "    </tr>\n",
       "    <tr>\n",
       "      <th>7</th>\n",
       "      <td>205.000000</td>\n",
       "      <td>205.000000</td>\n",
       "      <td>204.940002</td>\n",
       "      <td>204.940002</td>\n",
       "      <td>16.0</td>\n",
       "    </tr>\n",
       "    <tr>\n",
       "      <th>8</th>\n",
       "      <td>205.300003</td>\n",
       "      <td>205.300003</td>\n",
       "      <td>205.199997</td>\n",
       "      <td>205.199997</td>\n",
       "      <td>41.0</td>\n",
       "    </tr>\n",
       "    <tr>\n",
       "      <th>9</th>\n",
       "      <td>205.130005</td>\n",
       "      <td>205.990005</td>\n",
       "      <td>205.130005</td>\n",
       "      <td>205.990005</td>\n",
       "      <td>12.0</td>\n",
       "    </tr>\n",
       "  </tbody>\n",
       "</table>\n",
       "</div>"
      ],
      "text/plain": [
       "         open        high         low       close  volume\n",
       "0  206.899994  206.899994  206.899994  206.899994     1.0\n",
       "1  206.100006  206.100006  206.100006  206.100006     1.0\n",
       "2  204.899994  204.899994  204.899994  204.899994     8.0\n",
       "3  205.000000  205.000000  205.000000  205.000000     1.0\n",
       "4  205.000000  205.000000  205.000000  205.000000    41.0\n",
       "5  205.000000  205.000000  205.000000  205.000000     5.0\n",
       "6  205.000000  205.000000  205.000000  205.000000     3.0\n",
       "7  205.000000  205.000000  204.940002  204.940002    16.0\n",
       "8  205.300003  205.300003  205.199997  205.199997    41.0\n",
       "9  205.130005  205.990005  205.130005  205.990005    12.0"
      ]
     },
     "execution_count": 16,
     "metadata": {},
     "output_type": "execute_result"
    }
   ],
   "source": [
    "data.head(10)"
   ]
  },
  {
   "cell_type": "code",
   "execution_count": 17,
   "metadata": {
    "id": "kJNdxsWLJ-ak"
   },
   "outputs": [],
   "source": [
    "# data.iloc[0].unix_time"
   ]
  },
  {
   "cell_type": "code",
   "execution_count": 18,
   "metadata": {},
   "outputs": [
    {
     "data": {
      "text/plain": [
       "[<matplotlib.lines.Line2D at 0x7fce477c5b50>]"
      ]
     },
     "execution_count": 18,
     "metadata": {},
     "output_type": "execute_result"
    },
    {
     "data": {
      "image/png": "[encoded data removed]",
      "text/plain": [
       "<Figure size 432x288 with 1 Axes>"
      ]
     },
     "metadata": {
      "needs_background": "light"
     },
     "output_type": "display_data"
    }
   ],
   "source": [
    "plt.plot(data.close.values)"
   ]
  },
  {
   "cell_type": "code",
   "execution_count": 19,
   "metadata": {
    "colab": {
     "base_uri": "https://localhost:8080/",
     "height": 265
    },
    "id": "FlNgXJ-Hzk8q",
    "outputId": "55027fa9-ff79-4df9-8a9e-763cba511fab"
   },
   "outputs": [
    {
     "data": {
      "image/png": "[encoded data removed]",
      "text/plain": [
       "<Figure size 432x288 with 1 Axes>"
      ]
     },
     "metadata": {
      "needs_background": "light"
     },
     "output_type": "display_data"
    }
   ],
   "source": [
    "plt.plot(data.close.diff().values)\n",
    "plt.show()"
   ]
  },
  {
   "cell_type": "markdown",
   "metadata": {
    "id": "NabsV8O5BBd5"
   },
   "source": [
    "## Dataloading"
   ]
  },
  {
   "cell_type": "code",
   "execution_count": 20,
   "metadata": {
    "id": "G8aLC4xdzk8r"
   },
   "outputs": [],
   "source": [
    "class TsCNNDataset(Dataset):\n",
    "    def __init__(self, raw_data_df, window_size):\n",
    "        self.raw_data_df = raw_data_df[['open', 'high', 'low', 'volume', 'close']]#, 'unix_time']]\n",
    "        self.window_size = window_size\n",
    "\n",
    "    def __len__(self):\n",
    "        return self.raw_data_df.shape[0] - self.window_size\n",
    "\n",
    "    def __getitem__(self, idx):\n",
    "        start = idx\n",
    "        end = idx + self.window_size\n",
    "        # return self.raw_data_df.iloc[start:end].values, self.raw_data_df.iloc[end]['close']\n",
    "        return torch.tensor(np.swapaxes(self.raw_data_df.iloc[start:end].diff().dropna().values, 0, 1)), torch.tensor(self.raw_data_df.iloc[end]['close']), torch.tensor(self.raw_data_df.iloc[end-1]['close'])\n",
    "        # return [self.raw_data_df.iloc[start:end]['open'].values, self.raw_data_df.iloc[start:end]['high'].values, self.raw_data_df.iloc[start:end]['low'].values, self.raw_data_df.iloc[start:end]['close'].values, self.raw_data_df.iloc[start:end]['volume'].values, self.raw_data_df.iloc[start:end]['unix_time'].values], self.raw_data_df.iloc[end]['close']"
   ]
  },
  {
   "cell_type": "code",
   "execution_count": 21,
   "metadata": {
    "id": "BDW1jPZUj9YM"
   },
   "outputs": [],
   "source": [
    "class TsLSTMDataset(Dataset):\n",
    "    def __init__(self, raw_data_df, window_size):\n",
    "        self.raw_data_df = raw_data_df[['open', 'high', 'low', 'volume', 'close']]\n",
    "        self.window_size = window_size\n",
    "\n",
    "    def __len__(self):\n",
    "        return self.raw_data_df.shape[0] - self.window_size\n",
    "\n",
    "    def __getitem__(self, idx):\n",
    "        start = idx\n",
    "        end = idx + self.window_size\n",
    "        return self.raw_data_df.iloc[start:end].diff().dropna().values, self.raw_data_df.iloc[end]['close'], self.raw_data_df.iloc[end-1]['close']"
   ]
  },
  {
   "cell_type": "markdown",
   "metadata": {
    "id": "--1LVbHOBSIy"
   },
   "source": [
    "## Model"
   ]
  },
  {
   "cell_type": "code",
   "execution_count": 22,
   "metadata": {
    "id": "_BcDEjcABRVz"
   },
   "outputs": [],
   "source": [
    "class tsLSTM(nn.Module):\n",
    "\n",
    "    def __init__(self, n_features, n_hidden=128, n_layers=2):\n",
    "        super().__init__()\n",
    "        \n",
    "        self.n_hidden = n_hidden\n",
    "        \n",
    "        self.lstm = nn.LSTM(\n",
    "            input_size=n_features,\n",
    "            hidden_size=n_hidden,\n",
    "            batch_first=True,\n",
    "            num_layers=n_layers#,\n",
    "#             dropout=0.2\n",
    "        )\n",
    "        \n",
    "        self.regressor = nn.Linear(n_hidden, 1)\n",
    "        \n",
    "    def forward(self, x):\n",
    "#         self.lstm.flattern_parameters()\n",
    "        \n",
    "        _, (hidden, _) = self.lstm(x)\n",
    "        \n",
    "        return self.regressor(hidden[-1])\n",
    "\n",
    "class tsCNN(nn.Module):\n",
    "\n",
    "    def __init__(self):\n",
    "        super().__init__()\n",
    "        self.conv1 = nn.Conv1d(5, 10, 360)\n",
    "        self.pool = nn.MaxPool1d(3)\n",
    "        self.conv2 = nn.Conv1d(10, 20, 360)\n",
    "        self.conv3 = nn.Conv1d(20, 30, 120)\n",
    "        self.conv4 = nn.Conv1d(30, 40, 10)\n",
    "        self.fc1 = nn.Linear(400, 100)\n",
    "        self.fc2 = nn.Linear(100, 10)\n",
    "        self.fc3 = nn.Linear(10, 1)\n",
    "\n",
    "    def forward(self, x):\n",
    "        # print(x.shape)\n",
    "        # bias = x[:-1:-1]\n",
    "        # print(bias.shape)\n",
    "        # print(bias)\n",
    "        # x = torch.diff(x)\n",
    "        # print('input', x.shape)\n",
    "        x = self.conv1(x)\n",
    "        x = F.relu(x)\n",
    "        # print('conv1', x.shape)\n",
    "        x = self.pool(x)\n",
    "        # print('pool1', x.shape)\n",
    "\n",
    "        x = self.conv2(x)\n",
    "        x = F.relu(x)\n",
    "        # print('conv2', x.shape)\n",
    "        x = self.pool(x)\n",
    "        # print('pool2', x.shape)\n",
    "\n",
    "        x = self.conv3(x)\n",
    "        x = F.relu(x)\n",
    "        # print('conv3', x.shape)\n",
    "        x = self.pool(x)\n",
    "        # print('pool3', x.shape)\n",
    "\n",
    "        x = self.conv4(x)\n",
    "        x = F.relu(x)\n",
    "        # print('conv3', x.shape)\n",
    "        x = self.pool(x)\n",
    "        # print('pool3', x.shape)\n",
    "        x = torch.flatten(x, 1)\n",
    "        # print('flatten', x.shape)\n",
    "\n",
    "        x = self.fc1(x)\n",
    "        x = F.relu(x)\n",
    "        # print('fc1', x.shape)\n",
    "\n",
    "        x = self.fc2(x)\n",
    "        x = F.relu(x)\n",
    "        # print('fc2', x.shape) \n",
    "\n",
    "        x = self.fc3(x)\n",
    "        return x# + bias\n",
    "\n",
    "        # x = self.pool(F.relu(self.conv2(x)))\n",
    "        # x = torch.flatten(x, 1) # flatten all dimensions except batch\n",
    "        # x = F.relu(self.fc1(x))\n",
    "        # x = F.relu(self.fc2(x))\n",
    "        # x = self.fc3(x)\n",
    "        # return x\n",
    "        "
   ]
  },
  {
   "cell_type": "code",
   "execution_count": 23,
   "metadata": {
    "id": "IqJQoKzCzk8u"
   },
   "outputs": [],
   "source": [
    "class TSPredictor():\n",
    "              \n",
    "    def __init__(self, needLoad = False, path_to_model=None, model_type = None, window_size=3600):\n",
    "        self.window_size = window_size\n",
    "        self.isModelrained = False\n",
    "        self.model_type = model_type\n",
    "        self.y_true = None\n",
    "        self.y_pred = None\n",
    "        \n",
    "        self.max_plt = None\n",
    "        self.min_plt = None\n",
    "        \n",
    "        if needLoad:\n",
    "\n",
    "            if model_type == 'CNN':\n",
    "                self.model = tsCNN()\n",
    "\n",
    "            if model_type == 'LSTM':\n",
    "                self.model = tsLSTM(n_features=5)\n",
    "                \n",
    "            self.model.load_state_dict(torch.load(path_to_model))\n",
    "            self.model.eval()\n",
    "            self.isModelrained = True\n",
    "\n",
    "        else:\n",
    "            if model_type == 'CNN':\n",
    "                self.model = tsCNN()\n",
    "            if model_type == 'LSTM':\n",
    "                self.model = tsLSTM(n_features=5)\n",
    "  \n",
    "    def train(self, num_epochs = 5, learning_rate=0.01, data_df=None, test_start_idx=285016, BATCH_SIZE = 512):\n",
    "    \n",
    "        self.min_plt = data_df.close.min()\n",
    "        self.max_plt = data_df.close.max()\n",
    "        \n",
    "        print('preprocess data')\n",
    "        if self.model_type == 'CNN':\n",
    "            dataset = TsCNNDataset(data_df, self.window_size)\n",
    "        if self.model_type == 'LSTM':\n",
    "            dataset = TsLSTMDataset(data_df, self.window_size)\n",
    "\n",
    "        train_split = Subset(dataset, range(test_start_idx))\n",
    "        test_split = Subset(dataset, range(test_start_idx, len(dataset)))\n",
    "        train_batches = DataLoader(train_split, batch_size=BATCH_SIZE, shuffle=False)\n",
    "        test_batches = DataLoader(test_split, batch_size=BATCH_SIZE, shuffle=False)\n",
    "        criterion = torch.nn.MSELoss()\n",
    "        optimizer = torch.optim.Adam(self.model.parameters(), lr=learning_rate)\n",
    "        self.model.to('cuda');\n",
    "\n",
    "        for epoch in range(num_epochs):\n",
    "            self.y_true = data_df.close.values.copy()\n",
    "            self.y_pred = data_df.close.values.copy()\n",
    "            i = 3600\n",
    "            tepoch = tqdm(train_batches, unit=\"batch\")\n",
    "            self.model.train()\n",
    "            for inputs, targets, bias in tepoch:\n",
    "                # break\n",
    "#                 print(inputs.shape)\n",
    "                inputs = inputs.to('cuda')\n",
    "                targets = targets.to('cuda')\n",
    "                bias = torch.unsqueeze(bias, 1)\n",
    "                bias = bias.to('cuda')\n",
    "                optimizer.zero_grad()\n",
    "                pred = self.model(inputs)\n",
    "                pred = pred + bias\n",
    "                loss = criterion(pred, targets)\n",
    "\n",
    "                pred = pred.detach().cpu().numpy()\n",
    "                # print(pred.shape)\n",
    "                # print(pred)\n",
    "                # print(bias.detach().cpu().numpy().shape)\n",
    "                # assert False\n",
    "                self.y_pred[i:i+pred.shape[0]] = pred.flatten().copy()\n",
    "                # print(i)\n",
    "                # print(i + pred.flatten().shape[0])\n",
    "                # print(pred.flatten().shape)\n",
    "\n",
    "                i += pred.shape[0]\n",
    "                # print(i)\n",
    "                # assert False\n",
    "\n",
    "                tepoch.set_description(\"loss: « %s »\" % str(loss.detach().cpu().numpy()))\n",
    "                loss.backward()\n",
    "                optimizer.step()\n",
    "\n",
    "            tepoch = tqdm(test_batches, unit=\"batch\")\n",
    "            self.model.eval()\n",
    "            optimizer.zero_grad()\n",
    "            for inputs, targets, bias in tepoch:\n",
    "                inputs = inputs.to('cuda')\n",
    "                targets = targets.to('cuda')\n",
    "                bias = torch.unsqueeze(bias, 1)\n",
    "                bias = bias.to('cuda')\n",
    "                pred = self.model(inputs)\n",
    "                pred = pred + bias\n",
    "\n",
    "                pred = pred.detach().cpu().numpy()\n",
    "                # print(pred.flatten())\n",
    "                self.y_pred[i:i+pred.shape[0]] = pred.flatten()\n",
    "                i += pred.shape[0]         \n",
    "\n",
    "            plt.axvline(x=test_start_idx, c='r', linestyle='--')\n",
    "            plt.ylim(self.min_plt, self.max_plt)\n",
    "\n",
    "            plt.plot(self.y_pred, color='orange')\n",
    "            plt.plot(self.y_true, color='blue')\n",
    "\n",
    "            plt.suptitle('Time-Series Prediction')\n",
    "            plt.show()\n",
    "\n",
    "\n",
    "        self.model.eval()\n",
    "        self.model.to('cpu')\n",
    "        self.isModelrained = True\n",
    "\n",
    "    def save_model(self, path):\n",
    "        self.model.eval()\n",
    "        self.model.to('cpu')\n",
    "        torch.save(self.model.state_dict(), path)\n",
    "        self.isModelrained = True\n",
    "        print('model saved to ' + path)    \n",
    "    \n",
    "    def inference_df(self, df):\n",
    "        if not self.isModelrained:\n",
    "            print('model is not trained')\n",
    "            return None\n",
    "        else:\n",
    "            if df.shape[0] != self.window_size:\n",
    "                print('incorrect input df shape')\n",
    "                return None\n",
    "            else:\n",
    "                bias = df.close.values[-1]\n",
    "                data = df[['open', 'high', 'low', 'volume', 'close']].diff().dropna()\n",
    "                vals = data.values\n",
    "\n",
    "                if self.model_type == 'CNN':\n",
    "                    vals = np.swapaxes(vals, 0, 1)\n",
    "                vals = np.expand_dims(vals, axis=0)\n",
    "                \n",
    "                print(vals.shape)\n",
    "                return self.model(torch.tensor(vals)).detach().cpu().numpy()[0][0] + bias\n",
    "  \n",
    "    def inference_dict(self, d):\n",
    "        pass\n",
    "\n",
    "  "
   ]
  },
  {
   "cell_type": "code",
   "execution_count": 24,
   "metadata": {
    "id": "KjIySGyglzLJ"
   },
   "outputs": [],
   "source": [
    "predictor = TSPredictor(needLoad=True, model_type='CNN', path_to_model='./FB_CNN.pt')"
   ]
  },
  {
   "cell_type": "code",
   "execution_count": null,
   "metadata": {},
   "outputs": [],
   "source": []
  },
  {
   "cell_type": "code",
   "execution_count": null,
   "metadata": {},
   "outputs": [],
   "source": [
    "predictor = TSPredictor(needLoad=False, model_type='CNN')"
   ]
  },
  {
   "cell_type": "code",
   "execution_count": 25,
   "metadata": {
    "colab": {
     "base_uri": "https://localhost:8080/",
     "height": 206
    },
    "id": "0vQRfY-qsT-m",
    "outputId": "5a0641bc-def6-431a-f6cb-7c30622904d1"
   },
   "outputs": [
    {
     "data": {
      "text/html": [
       "<div>\n",
       "<style scoped>\n",
       "    .dataframe tbody tr th:only-of-type {\n",
       "        vertical-align: middle;\n",
       "    }\n",
       "\n",
       "    .dataframe tbody tr th {\n",
       "        vertical-align: top;\n",
       "    }\n",
       "\n",
       "    .dataframe thead th {\n",
       "        text-align: right;\n",
       "    }\n",
       "</style>\n",
       "<table border=\"1\" class=\"dataframe\">\n",
       "  <thead>\n",
       "    <tr style=\"text-align: right;\">\n",
       "      <th></th>\n",
       "      <th>open</th>\n",
       "      <th>high</th>\n",
       "      <th>low</th>\n",
       "      <th>close</th>\n",
       "      <th>volume</th>\n",
       "    </tr>\n",
       "  </thead>\n",
       "  <tbody>\n",
       "    <tr>\n",
       "      <th>0</th>\n",
       "      <td>206.899994</td>\n",
       "      <td>206.899994</td>\n",
       "      <td>206.899994</td>\n",
       "      <td>206.899994</td>\n",
       "      <td>1.0</td>\n",
       "    </tr>\n",
       "    <tr>\n",
       "      <th>1</th>\n",
       "      <td>206.100006</td>\n",
       "      <td>206.100006</td>\n",
       "      <td>206.100006</td>\n",
       "      <td>206.100006</td>\n",
       "      <td>1.0</td>\n",
       "    </tr>\n",
       "    <tr>\n",
       "      <th>2</th>\n",
       "      <td>204.899994</td>\n",
       "      <td>204.899994</td>\n",
       "      <td>204.899994</td>\n",
       "      <td>204.899994</td>\n",
       "      <td>8.0</td>\n",
       "    </tr>\n",
       "    <tr>\n",
       "      <th>3</th>\n",
       "      <td>205.000000</td>\n",
       "      <td>205.000000</td>\n",
       "      <td>205.000000</td>\n",
       "      <td>205.000000</td>\n",
       "      <td>1.0</td>\n",
       "    </tr>\n",
       "    <tr>\n",
       "      <th>4</th>\n",
       "      <td>205.000000</td>\n",
       "      <td>205.000000</td>\n",
       "      <td>205.000000</td>\n",
       "      <td>205.000000</td>\n",
       "      <td>41.0</td>\n",
       "    </tr>\n",
       "  </tbody>\n",
       "</table>\n",
       "</div>"
      ],
      "text/plain": [
       "         open        high         low       close  volume\n",
       "0  206.899994  206.899994  206.899994  206.899994     1.0\n",
       "1  206.100006  206.100006  206.100006  206.100006     1.0\n",
       "2  204.899994  204.899994  204.899994  204.899994     8.0\n",
       "3  205.000000  205.000000  205.000000  205.000000     1.0\n",
       "4  205.000000  205.000000  205.000000  205.000000    41.0"
      ]
     },
     "execution_count": 25,
     "metadata": {},
     "output_type": "execute_result"
    }
   ],
   "source": [
    "data.head()"
   ]
  },
  {
   "cell_type": "code",
   "execution_count": 26,
   "metadata": {
    "colab": {
     "base_uri": "https://localhost:8080/",
     "height": 1000
    },
    "id": "PWI9olzemuwe",
    "outputId": "35963fb9-1fb9-4dfe-ef7d-c7705583ab81",
    "scrolled": true
   },
   "outputs": [
    {
     "name": "stdout",
     "output_type": "stream",
     "text": [
      "preprocess data\n"
     ]
    },
    {
     "name": "stderr",
     "output_type": "stream",
     "text": [
      "  0%|                                                 | 0/70 [00:00<?, ?batch/s]/home/azarius/envs/hse-proj-py38/lib/python3.8/site-packages/torch/nn/modules/loss.py:520: UserWarning: Using a target size (torch.Size([4096])) that is different to the input size (torch.Size([4096, 1])). This will likely lead to incorrect results due to broadcasting. Please ensure they have the same size.\n",
      "  return F.mse_loss(input, target, reduction=self.reduction)\n",
      "loss: « 72.20869 »:  99%|███████████████████▋| 69/70 [03:27<00:02,  2.99s/batch]/home/azarius/envs/hse-proj-py38/lib/python3.8/site-packages/torch/nn/modules/loss.py:520: UserWarning: Using a target size (torch.Size([2392])) that is different to the input size (torch.Size([2392, 1])). This will likely lead to incorrect results due to broadcasting. Please ensure they have the same size.\n",
      "  return F.mse_loss(input, target, reduction=self.reduction)\n",
      "loss: « 8.35174 »: 100%|█████████████████████| 70/70 [03:29<00:00,  2.99s/batch]\n",
      "100%|████████████████████████████████████████| 42/42 [02:04<00:00,  2.95s/batch]\n"
     ]
    },
    {
     "data": {
      "image/png": "[encoded data removed]",
      "text/plain": [
       "<Figure size 432x288 with 1 Axes>"
      ]
     },
     "metadata": {
      "needs_background": "light"
     },
     "output_type": "display_data"
    }
   ],
   "source": [
    "predictor.train(data_df=data, num_epochs=1, BATCH_SIZE=4096)#192 4096)"
   ]
  },
  {
   "cell_type": "code",
   "execution_count": 27,
   "metadata": {},
   "outputs": [
    {
     "name": "stdout",
     "output_type": "stream",
     "text": [
      "model saved to ./FB_CNN.pt\n"
     ]
    }
   ],
   "source": [
    "predictor.save_model('./FB_CNN.pt')"
   ]
  },
  {
   "cell_type": "code",
   "execution_count": 28,
   "metadata": {
    "id": "HLRnTihL-Ns0"
   },
   "outputs": [],
   "source": [
    "y_true = predictor.y_true\n",
    "y_pred = predictor.y_pred"
   ]
  },
  {
   "cell_type": "code",
   "execution_count": 29,
   "metadata": {},
   "outputs": [],
   "source": [
    "from sklearn.metrics import mean_absolute_error"
   ]
  },
  {
   "cell_type": "code",
   "execution_count": 30,
   "metadata": {},
   "outputs": [
    {
     "data": {
      "text/plain": [
       "61094.023"
      ]
     },
     "execution_count": 30,
     "metadata": {},
     "output_type": "execute_result"
    }
   ],
   "source": [
    "mean_absolute_error(y_true, y_pred)"
   ]
  },
  {
   "cell_type": "code",
   "execution_count": 31,
   "metadata": {},
   "outputs": [
    {
     "data": {
      "image/png": "[encoded data removed]",
      "text/plain": [
       "<Figure size 432x288 with 1 Axes>"
      ]
     },
     "metadata": {
      "needs_background": "light"
     },
     "output_type": "display_data"
    }
   ],
   "source": [
    "plt.axvline(x=285016, c='r', linestyle='--')\n",
    "plt.ylim(1500, 4000)\n",
    "\n",
    "plt.plot(y_true, color='blue', linewidth=1)\n",
    "plt.plot(y_pred, color='orange', linewidth=1)\n",
    "\n",
    "\n",
    "plt.suptitle('Time-Series Prediction')\n",
    "plt.show()"
   ]
  },
  {
   "cell_type": "code",
   "execution_count": 32,
   "metadata": {
    "colab": {
     "base_uri": "https://localhost:8080/"
    },
    "id": "o5UlqbGN9qjB",
    "outputId": "4fd11469-c2c3-451a-ce23-72db051884e7"
   },
   "outputs": [],
   "source": [
    "# counter = 0\n",
    "# for i in range(len(y_true)):\n",
    "#     if y_pred[i] != y_true[i]:\n",
    "#         counter += 1\n",
    "# #         print(i, y_pred[i], y_true[i])\n",
    "# #     if i > 100:\n",
    "# #         break\n",
    "# print(counter)\n",
    "# print(len(y_true))"
   ]
  },
  {
   "cell_type": "code",
   "execution_count": 33,
   "metadata": {},
   "outputs": [],
   "source": [
    "# predictor.isModelrained = True"
   ]
  },
  {
   "cell_type": "code",
   "execution_count": 26,
   "metadata": {
    "id": "HnOF5EScs8Vg"
   },
   "outputs": [
    {
     "name": "stdout",
     "output_type": "stream",
     "text": [
      "(1, 5, 3599)\n"
     ]
    },
    {
     "data": {
      "text/plain": [
       "209.66759"
      ]
     },
     "execution_count": 26,
     "metadata": {},
     "output_type": "execute_result"
    }
   ],
   "source": [
    "predictor.inference_df(data[:3600])"
   ]
  },
  {
   "cell_type": "code",
   "execution_count": 35,
   "metadata": {
    "id": "Nu9DNbXCsZ_k"
   },
   "outputs": [],
   "source": [
    "# predictor.save_model('/content/drive/MyDrive/iad_project/LSTM.pt')"
   ]
  },
  {
   "cell_type": "code",
   "execution_count": 36,
   "metadata": {
    "id": "Troz-4rnqFkh"
   },
   "outputs": [],
   "source": [
    "# data[:3600].close.diff().shape"
   ]
  },
  {
   "cell_type": "code",
   "execution_count": 37,
   "metadata": {
    "id": "UPb3RG-1qT4v"
   },
   "outputs": [],
   "source": [
    "# data[:3600].close"
   ]
  },
  {
   "cell_type": "code",
   "execution_count": 38,
   "metadata": {
    "id": "MpDwWlAPqG_Y"
   },
   "outputs": [],
   "source": [
    "# data[:3600].close.diff().dropna()"
   ]
  },
  {
   "cell_type": "code",
   "execution_count": 39,
   "metadata": {
    "id": "EZzqamnxqPG2"
   },
   "outputs": [],
   "source": [
    "# 86.300003 - 86.699997"
   ]
  }
 ],
 "metadata": {
  "accelerator": "GPU",
  "colab": {
   "collapsed_sections": [],
   "name": "predictor-demo.ipynb",
   "provenance": []
  },
  "kernelspec": {
   "display_name": "hse-proj-py38",
   "language": "python",
   "name": "hse-proj-py38"
  },
  "language_info": {
   "codemirror_mode": {
    "name": "ipython",
    "version": 3
   },
   "file_extension": ".py",
   "mimetype": "text/x-python",
   "name": "python",
   "nbconvert_exporter": "python",
   "pygments_lexer": "ipython3",
   "version": "3.8.13"
  }
 },
 "nbformat": 4,
 "nbformat_minor": 1
}
