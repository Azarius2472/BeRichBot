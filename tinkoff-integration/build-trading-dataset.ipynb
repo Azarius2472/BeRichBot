{
 "cells": [
  {
   "cell_type": "code",
   "execution_count": 117,
   "metadata": {
    "collapsed": true
   },
   "outputs": [],
   "source": [
    "import sys\n",
    "from datetime import datetime, timedelta\n",
    "\n",
    "from tinkoff.invest import CandleInterval, Client\n",
    "from tinkoff.invest.token import TOKEN\n",
    "import numpy as np\n",
    "import matplotlib.pyplot as plt\n",
    "%matplotlib inline\n",
    "import pandas as pd\n",
    "import pytz\n",
    "import time"
   ]
  },
  {
   "cell_type": "code",
   "execution_count": 10,
   "outputs": [],
   "source": [
    "companies_as_df = pd.read_csv('companies_dataset.csv')"
   ],
   "metadata": {
    "collapsed": false,
    "pycharm": {
     "name": "#%%\n"
    }
   }
  },
  {
   "cell_type": "code",
   "execution_count": 15,
   "outputs": [
    {
     "data": {
      "text/plain": "             figi                          name ticker exchCode compositeFIGI  \\\n0    BBG0025Y4RY4                    ABBVIE INC   ABBV       US  BBG0025Y4RY4   \n1    BBG000C101X4                   ABIOMED INC   ABMD       US  BBG000C101X4   \n2    BBG000D9D830            ACCENTURE PLC-CL A    ACN       US  BBG000D9D830   \n3    BBG000CVWGS6       ACTIVISION BLIZZARD INC   ATVI       US  BBG000CVWGS6   \n4    BBG000BB5006                     ADOBE INC   ADBE       US  BBG000BB5006   \n..            ...                           ...    ...      ...           ...   \n496  BBG000BH3GZ2               YUM! BRANDS INC    YUM       US  BBG000BH3GZ2   \n497  BBG000CC7LQ7  ZEBRA TECHNOLOGIES CORP-CL A   ZBRA       US  BBG000CC7LQ7   \n498  BBG000BKPL53    ZIMMER BIOMET HOLDINGS INC    ZBH       US  BBG000BKPL53   \n499  BBG000BX9WL1              ZIONS BANCORP NA   ZION       US  BBG000BX9WL1   \n500  BBG0039320N9                    ZOETIS INC    ZTS       US  BBG0039320N9   \n\n     securityType marketSector shareClassFIGI securityType2  \\\n0    Common Stock       Equity   BBG0025Y4RZ3  Common Stock   \n1    Common Stock       Equity   BBG001S64SQ9  Common Stock   \n2    Common Stock       Equity   BBG001SCXK90  Common Stock   \n3    Common Stock       Equity   BBG001S6C009  Common Stock   \n4    Common Stock       Equity   BBG001S5NCQ5  Common Stock   \n..            ...          ...            ...           ...   \n496  Common Stock       Equity   BBG001S7JQ30  Common Stock   \n497  Common Stock       Equity   BBG001S6SX73  Common Stock   \n498  Common Stock       Equity   BBG001S7DQJ9  Common Stock   \n499  Common Stock       Equity   BBG001S5XN80  Common Stock   \n500  Common Stock       Equity   BBG0039320P7  Common Stock   \n\n    securityDescription  \n0                  ABBV  \n1                  ABMD  \n2                   ACN  \n3                  ATVI  \n4                  ADBE  \n..                  ...  \n496                 YUM  \n497                ZBRA  \n498                 ZBH  \n499                ZION  \n500                 ZTS  \n\n[501 rows x 10 columns]",
      "text/html": "<div>\n<style scoped>\n    .dataframe tbody tr th:only-of-type {\n        vertical-align: middle;\n    }\n\n    .dataframe tbody tr th {\n        vertical-align: top;\n    }\n\n    .dataframe thead th {\n        text-align: right;\n    }\n</style>\n<table border=\"1\" class=\"dataframe\">\n  <thead>\n    <tr style=\"text-align: right;\">\n      <th></th>\n      <th>figi</th>\n      <th>name</th>\n      <th>ticker</th>\n      <th>exchCode</th>\n      <th>compositeFIGI</th>\n      <th>securityType</th>\n      <th>marketSector</th>\n      <th>shareClassFIGI</th>\n      <th>securityType2</th>\n      <th>securityDescription</th>\n    </tr>\n  </thead>\n  <tbody>\n    <tr>\n      <th>0</th>\n      <td>BBG0025Y4RY4</td>\n      <td>ABBVIE INC</td>\n      <td>ABBV</td>\n      <td>US</td>\n      <td>BBG0025Y4RY4</td>\n      <td>Common Stock</td>\n      <td>Equity</td>\n      <td>BBG0025Y4RZ3</td>\n      <td>Common Stock</td>\n      <td>ABBV</td>\n    </tr>\n    <tr>\n      <th>1</th>\n      <td>BBG000C101X4</td>\n      <td>ABIOMED INC</td>\n      <td>ABMD</td>\n      <td>US</td>\n      <td>BBG000C101X4</td>\n      <td>Common Stock</td>\n      <td>Equity</td>\n      <td>BBG001S64SQ9</td>\n      <td>Common Stock</td>\n      <td>ABMD</td>\n    </tr>\n    <tr>\n      <th>2</th>\n      <td>BBG000D9D830</td>\n      <td>ACCENTURE PLC-CL A</td>\n      <td>ACN</td>\n      <td>US</td>\n      <td>BBG000D9D830</td>\n      <td>Common Stock</td>\n      <td>Equity</td>\n      <td>BBG001SCXK90</td>\n      <td>Common Stock</td>\n      <td>ACN</td>\n    </tr>\n    <tr>\n      <th>3</th>\n      <td>BBG000CVWGS6</td>\n      <td>ACTIVISION BLIZZARD INC</td>\n      <td>ATVI</td>\n      <td>US</td>\n      <td>BBG000CVWGS6</td>\n      <td>Common Stock</td>\n      <td>Equity</td>\n      <td>BBG001S6C009</td>\n      <td>Common Stock</td>\n      <td>ATVI</td>\n    </tr>\n    <tr>\n      <th>4</th>\n      <td>BBG000BB5006</td>\n      <td>ADOBE INC</td>\n      <td>ADBE</td>\n      <td>US</td>\n      <td>BBG000BB5006</td>\n      <td>Common Stock</td>\n      <td>Equity</td>\n      <td>BBG001S5NCQ5</td>\n      <td>Common Stock</td>\n      <td>ADBE</td>\n    </tr>\n    <tr>\n      <th>...</th>\n      <td>...</td>\n      <td>...</td>\n      <td>...</td>\n      <td>...</td>\n      <td>...</td>\n      <td>...</td>\n      <td>...</td>\n      <td>...</td>\n      <td>...</td>\n      <td>...</td>\n    </tr>\n    <tr>\n      <th>496</th>\n      <td>BBG000BH3GZ2</td>\n      <td>YUM! BRANDS INC</td>\n      <td>YUM</td>\n      <td>US</td>\n      <td>BBG000BH3GZ2</td>\n      <td>Common Stock</td>\n      <td>Equity</td>\n      <td>BBG001S7JQ30</td>\n      <td>Common Stock</td>\n      <td>YUM</td>\n    </tr>\n    <tr>\n      <th>497</th>\n      <td>BBG000CC7LQ7</td>\n      <td>ZEBRA TECHNOLOGIES CORP-CL A</td>\n      <td>ZBRA</td>\n      <td>US</td>\n      <td>BBG000CC7LQ7</td>\n      <td>Common Stock</td>\n      <td>Equity</td>\n      <td>BBG001S6SX73</td>\n      <td>Common Stock</td>\n      <td>ZBRA</td>\n    </tr>\n    <tr>\n      <th>498</th>\n      <td>BBG000BKPL53</td>\n      <td>ZIMMER BIOMET HOLDINGS INC</td>\n      <td>ZBH</td>\n      <td>US</td>\n      <td>BBG000BKPL53</td>\n      <td>Common Stock</td>\n      <td>Equity</td>\n      <td>BBG001S7DQJ9</td>\n      <td>Common Stock</td>\n      <td>ZBH</td>\n    </tr>\n    <tr>\n      <th>499</th>\n      <td>BBG000BX9WL1</td>\n      <td>ZIONS BANCORP NA</td>\n      <td>ZION</td>\n      <td>US</td>\n      <td>BBG000BX9WL1</td>\n      <td>Common Stock</td>\n      <td>Equity</td>\n      <td>BBG001S5XN80</td>\n      <td>Common Stock</td>\n      <td>ZION</td>\n    </tr>\n    <tr>\n      <th>500</th>\n      <td>BBG0039320N9</td>\n      <td>ZOETIS INC</td>\n      <td>ZTS</td>\n      <td>US</td>\n      <td>BBG0039320N9</td>\n      <td>Common Stock</td>\n      <td>Equity</td>\n      <td>BBG0039320P7</td>\n      <td>Common Stock</td>\n      <td>ZTS</td>\n    </tr>\n  </tbody>\n</table>\n<p>501 rows × 10 columns</p>\n</div>"
     },
     "execution_count": 15,
     "metadata": {},
     "output_type": "execute_result"
    }
   ],
   "source": [
    "companies_as_df"
   ],
   "metadata": {
    "collapsed": false,
    "pycharm": {
     "name": "#%%\n"
    }
   }
  },
  {
   "cell_type": "code",
   "execution_count": 13,
   "outputs": [],
   "source": [
    "companies_as_df = companies_as_df.drop('uniqueID', axis=1)\n",
    "companies_as_df = companies_as_df.drop('uniqueIDFutOpt', axis=1)"
   ],
   "metadata": {
    "collapsed": false,
    "pycharm": {
     "name": "#%%\n"
    }
   }
  },
  {
   "cell_type": "code",
   "execution_count": 14,
   "outputs": [
    {
     "data": {
      "text/plain": "                figi        name ticker exchCode compositeFIGI  securityType  \\\ncount            501         501    501      501           501           501   \nunique           501         501    501        1           501             3   \ntop     BBG0025Y4RY4  ABBVIE INC   ABBV       US  BBG0025Y4RY4  Common Stock   \nfreq               1           1      1      501             1           472   \n\n       marketSector shareClassFIGI securityType2 securityDescription  \ncount           501            501           501                 501  \nunique            1            501             3                 501  \ntop          Equity   BBG0025Y4RZ3  Common Stock                ABBV  \nfreq            501              1           472                   1  ",
      "text/html": "<div>\n<style scoped>\n    .dataframe tbody tr th:only-of-type {\n        vertical-align: middle;\n    }\n\n    .dataframe tbody tr th {\n        vertical-align: top;\n    }\n\n    .dataframe thead th {\n        text-align: right;\n    }\n</style>\n<table border=\"1\" class=\"dataframe\">\n  <thead>\n    <tr style=\"text-align: right;\">\n      <th></th>\n      <th>figi</th>\n      <th>name</th>\n      <th>ticker</th>\n      <th>exchCode</th>\n      <th>compositeFIGI</th>\n      <th>securityType</th>\n      <th>marketSector</th>\n      <th>shareClassFIGI</th>\n      <th>securityType2</th>\n      <th>securityDescription</th>\n    </tr>\n  </thead>\n  <tbody>\n    <tr>\n      <th>count</th>\n      <td>501</td>\n      <td>501</td>\n      <td>501</td>\n      <td>501</td>\n      <td>501</td>\n      <td>501</td>\n      <td>501</td>\n      <td>501</td>\n      <td>501</td>\n      <td>501</td>\n    </tr>\n    <tr>\n      <th>unique</th>\n      <td>501</td>\n      <td>501</td>\n      <td>501</td>\n      <td>1</td>\n      <td>501</td>\n      <td>3</td>\n      <td>1</td>\n      <td>501</td>\n      <td>3</td>\n      <td>501</td>\n    </tr>\n    <tr>\n      <th>top</th>\n      <td>BBG0025Y4RY4</td>\n      <td>ABBVIE INC</td>\n      <td>ABBV</td>\n      <td>US</td>\n      <td>BBG0025Y4RY4</td>\n      <td>Common Stock</td>\n      <td>Equity</td>\n      <td>BBG0025Y4RZ3</td>\n      <td>Common Stock</td>\n      <td>ABBV</td>\n    </tr>\n    <tr>\n      <th>freq</th>\n      <td>1</td>\n      <td>1</td>\n      <td>1</td>\n      <td>501</td>\n      <td>1</td>\n      <td>472</td>\n      <td>501</td>\n      <td>1</td>\n      <td>472</td>\n      <td>1</td>\n    </tr>\n  </tbody>\n</table>\n</div>"
     },
     "execution_count": 14,
     "metadata": {},
     "output_type": "execute_result"
    }
   ],
   "source": [
    "companies_as_df.describe()"
   ],
   "metadata": {
    "collapsed": false,
    "pycharm": {
     "name": "#%%\n"
    }
   }
  },
  {
   "cell_type": "code",
   "execution_count": 30,
   "outputs": [
    {
     "data": {
      "text/plain": "datetime.datetime(2021, 2, 24, 21, 51, 38, 416845)"
     },
     "execution_count": 30,
     "metadata": {},
     "output_type": "execute_result"
    }
   ],
   "source": [
    "datetime.utcnow() - timedelta(days=365*2)"
   ],
   "metadata": {
    "collapsed": false,
    "pycharm": {
     "name": "#%%\n"
    }
   }
  },
  {
   "cell_type": "code",
   "execution_count": 118,
   "outputs": [
    {
     "name": "stdout",
     "output_type": "stream",
     "text": [
      "from 2021-11-17 03:00:00 to 2022-02-25 03:00:00\n",
      "36892\n",
      "actually from 2021-11-17 07:07:00+00:00 to 2022-02-24 22:44:00+00:00\n"
     ]
    }
   ],
   "source": [
    "from tinkoff.invest import CandleInterval, Client\n",
    "from tinkoff.invest.token import TOKEN\n",
    "\n",
    "figi = 'BBG0025Y4RY4'\n",
    "with Client(TOKEN) as client:\n",
    "    now = datetime.now().replace(hour=3, minute=0, second=0, microsecond=0)\n",
    "\n",
    "    # for year in [1,2]:\n",
    "    from_ = now - timedelta(days=100)\n",
    "    to = now\n",
    "    print(f'from {from_} to {to}')\n",
    "    candles = list(client.get_all_candles(figi=figi, from_=from_, to=to, interval=CandleInterval.CANDLE_INTERVAL_1_MIN))\n",
    "    print(len(candles))\n",
    "    print(f'actually from {candles[0].time} to {candles[len(candles) -1].time}')\n",
    "\n",
    "    # for c in candles:\n",
    "    #     print(c.__dict__['time'])"
   ],
   "metadata": {
    "collapsed": false,
    "pycharm": {
     "name": "#%%\n"
    }
   }
  },
  {
   "cell_type": "code",
   "execution_count": 119,
   "outputs": [
    {
     "data": {
      "text/plain": "                                    open                               high  \\\n0      {'units': 116, 'nano': 340000000}  {'units': 116, 'nano': 610000000}   \n1      {'units': 116, 'nano': 610000000}  {'units': 116, 'nano': 610000000}   \n2      {'units': 116, 'nano': 610000000}  {'units': 116, 'nano': 610000000}   \n3      {'units': 116, 'nano': 610000000}  {'units': 116, 'nano': 610000000}   \n4      {'units': 116, 'nano': 560000000}  {'units': 116, 'nano': 560000000}   \n...                                  ...                                ...   \n36887          {'units': 145, 'nano': 0}          {'units': 145, 'nano': 0}   \n36888  {'units': 145, 'nano': 300000000}  {'units': 145, 'nano': 300000000}   \n36889  {'units': 145, 'nano': 270000000}  {'units': 145, 'nano': 270000000}   \n36890  {'units': 144, 'nano': 840000000}  {'units': 144, 'nano': 840000000}   \n36891  {'units': 144, 'nano': 590000000}  {'units': 144, 'nano': 590000000}   \n\n                                     low                              close  \\\n0      {'units': 116, 'nano': 340000000}  {'units': 116, 'nano': 610000000}   \n1      {'units': 116, 'nano': 610000000}  {'units': 116, 'nano': 610000000}   \n2      {'units': 116, 'nano': 610000000}  {'units': 116, 'nano': 610000000}   \n3      {'units': 116, 'nano': 610000000}  {'units': 116, 'nano': 610000000}   \n4      {'units': 116, 'nano': 550000000}  {'units': 116, 'nano': 550000000}   \n...                                  ...                                ...   \n36887          {'units': 145, 'nano': 0}          {'units': 145, 'nano': 0}   \n36888  {'units': 145, 'nano': 300000000}  {'units': 145, 'nano': 300000000}   \n36889  {'units': 144, 'nano': 590000000}  {'units': 144, 'nano': 590000000}   \n36890  {'units': 144, 'nano': 610000000}  {'units': 144, 'nano': 610000000}   \n36891  {'units': 144, 'nano': 590000000}  {'units': 144, 'nano': 590000000}   \n\n       volume                      time  is_complete  \n0           3 2021-11-17 07:07:00+00:00         True  \n1           1 2021-11-17 07:09:00+00:00         True  \n2           3 2021-11-17 07:12:00+00:00         True  \n3          23 2021-11-17 07:23:00+00:00         True  \n4           2 2021-11-17 07:25:00+00:00         True  \n...       ...                       ...          ...  \n36887       1 2022-02-24 22:12:00+00:00         True  \n36888       1 2022-02-24 22:31:00+00:00         True  \n36889      50 2022-02-24 22:40:00+00:00         True  \n36890      16 2022-02-24 22:42:00+00:00         True  \n36891      16 2022-02-24 22:44:00+00:00         True  \n\n[36892 rows x 7 columns]",
      "text/html": "<div>\n<style scoped>\n    .dataframe tbody tr th:only-of-type {\n        vertical-align: middle;\n    }\n\n    .dataframe tbody tr th {\n        vertical-align: top;\n    }\n\n    .dataframe thead th {\n        text-align: right;\n    }\n</style>\n<table border=\"1\" class=\"dataframe\">\n  <thead>\n    <tr style=\"text-align: right;\">\n      <th></th>\n      <th>open</th>\n      <th>high</th>\n      <th>low</th>\n      <th>close</th>\n      <th>volume</th>\n      <th>time</th>\n      <th>is_complete</th>\n    </tr>\n  </thead>\n  <tbody>\n    <tr>\n      <th>0</th>\n      <td>{'units': 116, 'nano': 340000000}</td>\n      <td>{'units': 116, 'nano': 610000000}</td>\n      <td>{'units': 116, 'nano': 340000000}</td>\n      <td>{'units': 116, 'nano': 610000000}</td>\n      <td>3</td>\n      <td>2021-11-17 07:07:00+00:00</td>\n      <td>True</td>\n    </tr>\n    <tr>\n      <th>1</th>\n      <td>{'units': 116, 'nano': 610000000}</td>\n      <td>{'units': 116, 'nano': 610000000}</td>\n      <td>{'units': 116, 'nano': 610000000}</td>\n      <td>{'units': 116, 'nano': 610000000}</td>\n      <td>1</td>\n      <td>2021-11-17 07:09:00+00:00</td>\n      <td>True</td>\n    </tr>\n    <tr>\n      <th>2</th>\n      <td>{'units': 116, 'nano': 610000000}</td>\n      <td>{'units': 116, 'nano': 610000000}</td>\n      <td>{'units': 116, 'nano': 610000000}</td>\n      <td>{'units': 116, 'nano': 610000000}</td>\n      <td>3</td>\n      <td>2021-11-17 07:12:00+00:00</td>\n      <td>True</td>\n    </tr>\n    <tr>\n      <th>3</th>\n      <td>{'units': 116, 'nano': 610000000}</td>\n      <td>{'units': 116, 'nano': 610000000}</td>\n      <td>{'units': 116, 'nano': 610000000}</td>\n      <td>{'units': 116, 'nano': 610000000}</td>\n      <td>23</td>\n      <td>2021-11-17 07:23:00+00:00</td>\n      <td>True</td>\n    </tr>\n    <tr>\n      <th>4</th>\n      <td>{'units': 116, 'nano': 560000000}</td>\n      <td>{'units': 116, 'nano': 560000000}</td>\n      <td>{'units': 116, 'nano': 550000000}</td>\n      <td>{'units': 116, 'nano': 550000000}</td>\n      <td>2</td>\n      <td>2021-11-17 07:25:00+00:00</td>\n      <td>True</td>\n    </tr>\n    <tr>\n      <th>...</th>\n      <td>...</td>\n      <td>...</td>\n      <td>...</td>\n      <td>...</td>\n      <td>...</td>\n      <td>...</td>\n      <td>...</td>\n    </tr>\n    <tr>\n      <th>36887</th>\n      <td>{'units': 145, 'nano': 0}</td>\n      <td>{'units': 145, 'nano': 0}</td>\n      <td>{'units': 145, 'nano': 0}</td>\n      <td>{'units': 145, 'nano': 0}</td>\n      <td>1</td>\n      <td>2022-02-24 22:12:00+00:00</td>\n      <td>True</td>\n    </tr>\n    <tr>\n      <th>36888</th>\n      <td>{'units': 145, 'nano': 300000000}</td>\n      <td>{'units': 145, 'nano': 300000000}</td>\n      <td>{'units': 145, 'nano': 300000000}</td>\n      <td>{'units': 145, 'nano': 300000000}</td>\n      <td>1</td>\n      <td>2022-02-24 22:31:00+00:00</td>\n      <td>True</td>\n    </tr>\n    <tr>\n      <th>36889</th>\n      <td>{'units': 145, 'nano': 270000000}</td>\n      <td>{'units': 145, 'nano': 270000000}</td>\n      <td>{'units': 144, 'nano': 590000000}</td>\n      <td>{'units': 144, 'nano': 590000000}</td>\n      <td>50</td>\n      <td>2022-02-24 22:40:00+00:00</td>\n      <td>True</td>\n    </tr>\n    <tr>\n      <th>36890</th>\n      <td>{'units': 144, 'nano': 840000000}</td>\n      <td>{'units': 144, 'nano': 840000000}</td>\n      <td>{'units': 144, 'nano': 610000000}</td>\n      <td>{'units': 144, 'nano': 610000000}</td>\n      <td>16</td>\n      <td>2022-02-24 22:42:00+00:00</td>\n      <td>True</td>\n    </tr>\n    <tr>\n      <th>36891</th>\n      <td>{'units': 144, 'nano': 590000000}</td>\n      <td>{'units': 144, 'nano': 590000000}</td>\n      <td>{'units': 144, 'nano': 590000000}</td>\n      <td>{'units': 144, 'nano': 590000000}</td>\n      <td>16</td>\n      <td>2022-02-24 22:44:00+00:00</td>\n      <td>True</td>\n    </tr>\n  </tbody>\n</table>\n<p>36892 rows × 7 columns</p>\n</div>"
     },
     "execution_count": 119,
     "metadata": {},
     "output_type": "execute_result"
    }
   ],
   "source": [
    "pd.DataFrame(candles)"
   ],
   "metadata": {
    "collapsed": false,
    "pycharm": {
     "name": "#%%\n"
    }
   }
  },
  {
   "cell_type": "code",
   "execution_count": 158,
   "outputs": [],
   "source": [
    "now = datetime.now().replace(hour=3, minute=0, second=0, microsecond=0)\n",
    "\n",
    "def build_dataframe_for_figi(company, days, step=100):\n",
    "    start_time = time.time()\n",
    "    candles = []\n",
    "    with Client(TOKEN) as client:\n",
    "        for i in range(step, days + 1, step):\n",
    "            from_ = now - timedelta(days= i)\n",
    "            to = now - timedelta(days = i - step)\n",
    "            print(f\"Iteration:={i // step} from:={from_} to:= {to}\")\n",
    "\n",
    "            error = {}\n",
    "            while error is not None:\n",
    "                try:\n",
    "                    response = list(client.get_all_candles(figi=company['figi'], from_=from_, to=to, interval=CandleInterval.CANDLE_INTERVAL_1_MIN))\n",
    "                    candles.extend(response)\n",
    "                    error = None\n",
    "                except Exception as e:\n",
    "                    error = e\n",
    "                    print(f\"Request limit. Waiting 60 sec...\")\n",
    "                    time.sleep(60)\n",
    "\n",
    "    print(f\"Loaded data for company :={company['ticker']} size:={len(candles)}  time:={time.time() - start_time }\")\n",
    "\n",
    "    candles_as_dict = []\n",
    "    for c in candles:\n",
    "        c_open = float(str(c.open.units) + \".\" + str(c.open.nano))\n",
    "        c_close = float(str(c.close.units) + \".\" + str(c.close.nano))\n",
    "        c_high = float(str(c.high.units) + \".\" + str(c.high.nano))\n",
    "        c_low = float(str(c.low.units) + \".\" + str(c.low.nano))\n",
    "\n",
    "        c_dict = c.__dict__\n",
    "        c_dict['open'] = c_open\n",
    "        c_dict['close'] = c_close\n",
    "        c_dict['high'] = c_high\n",
    "        c_dict['low'] = c_low\n",
    "        del c_dict['is_complete']\n",
    "        candles_as_dict.append(c_dict)\n",
    "\n",
    "    return pd.DataFrame(candles_as_dict)"
   ],
   "metadata": {
    "collapsed": false,
    "pycharm": {
     "name": "#%%\n"
    }
   }
  },
  {
   "cell_type": "code",
   "execution_count": 159,
   "outputs": [],
   "source": [
    "companies = companies_as_df.to_dict('records')"
   ],
   "metadata": {
    "collapsed": false,
    "pycharm": {
     "name": "#%%\n"
    }
   }
  },
  {
   "cell_type": "code",
   "execution_count": 160,
   "outputs": [
    {
     "data": {
      "text/plain": "{'figi': 'BBG0025Y4RY4',\n 'name': 'ABBVIE INC',\n 'ticker': 'ABBV',\n 'exchCode': 'US',\n 'compositeFIGI': 'BBG0025Y4RY4',\n 'securityType': 'Common Stock',\n 'marketSector': 'Equity',\n 'shareClassFIGI': 'BBG0025Y4RZ3',\n 'securityType2': 'Common Stock',\n 'securityDescription': 'ABBV'}"
     },
     "execution_count": 160,
     "metadata": {},
     "output_type": "execute_result"
    }
   ],
   "source": [
    "companies[0]"
   ],
   "metadata": {
    "collapsed": false,
    "pycharm": {
     "name": "#%%\n"
    }
   }
  },
  {
   "cell_type": "code",
   "execution_count": 161,
   "outputs": [
    {
     "name": "stdout",
     "output_type": "stream",
     "text": [
      "Iteration:=1 from:=2021-11-17 03:00:00 to:= 2022-02-25 03:00:00\n",
      "Iteration:=2 from:=2021-08-09 03:00:00 to:= 2021-11-17 03:00:00\n"
     ]
    },
    {
     "name": "stderr",
     "output_type": "stream",
     "text": [
      "None GetCandles RESOURCE_EXHAUSTED \n"
     ]
    },
    {
     "name": "stdout",
     "output_type": "stream",
     "text": [
      "Iteration:=3 from:=2021-05-01 03:00:00 to:= 2021-08-09 03:00:00\n",
      "Request limit. Waiting 60 sec...\n",
      "Iteration:=4 from:=2021-01-21 03:00:00 to:= 2021-05-01 03:00:00\n",
      "Iteration:=5 from:=2020-10-13 03:00:00 to:= 2021-01-21 03:00:00\n"
     ]
    },
    {
     "name": "stderr",
     "output_type": "stream",
     "text": [
      "None GetCandles RESOURCE_EXHAUSTED \n"
     ]
    },
    {
     "name": "stdout",
     "output_type": "stream",
     "text": [
      "Request limit. Waiting 60 sec...\n",
      "Iteration:=6 from:=2020-07-05 03:00:00 to:= 2020-10-13 03:00:00\n",
      "Iteration:=7 from:=2020-03-27 03:00:00 to:= 2020-07-05 03:00:00\n",
      "Iteration:=8 from:=2019-12-18 03:00:00 to:= 2020-03-27 03:00:00\n"
     ]
    },
    {
     "name": "stderr",
     "output_type": "stream",
     "text": [
      "None GetCandles RESOURCE_EXHAUSTED \n"
     ]
    },
    {
     "name": "stdout",
     "output_type": "stream",
     "text": [
      "Request limit. Waiting 60 sec...\n",
      "Loaded data for company :=ABBV size:=317476  time:=305.28980565071106\n"
     ]
    },
    {
     "data": {
      "text/plain": "          open    high     low   close  volume                      time\n0       116.34  116.61  116.34  116.61       3 2021-11-17 07:07:00+00:00\n1       116.61  116.61  116.61  116.61       1 2021-11-17 07:09:00+00:00\n2       116.61  116.61  116.61  116.61       3 2021-11-17 07:12:00+00:00\n3       116.61  116.61  116.61  116.61      23 2021-11-17 07:23:00+00:00\n4       116.56  116.56  116.55  116.55       2 2021-11-17 07:25:00+00:00\n...        ...     ...     ...     ...     ...                       ...\n317471   74.29   74.29   74.29   74.29      32 2020-03-26 21:44:00+00:00\n317472   74.00   74.00   74.00   74.00      50 2020-03-26 22:13:00+00:00\n317473   74.00   74.00   74.00   74.00       4 2020-03-26 22:15:00+00:00\n317474   74.14   74.14   74.14   74.14       4 2020-03-26 22:43:00+00:00\n317475   74.14   74.14   74.14   74.14      50 2020-03-26 22:44:00+00:00\n\n[317476 rows x 6 columns]",
      "text/html": "<div>\n<style scoped>\n    .dataframe tbody tr th:only-of-type {\n        vertical-align: middle;\n    }\n\n    .dataframe tbody tr th {\n        vertical-align: top;\n    }\n\n    .dataframe thead th {\n        text-align: right;\n    }\n</style>\n<table border=\"1\" class=\"dataframe\">\n  <thead>\n    <tr style=\"text-align: right;\">\n      <th></th>\n      <th>open</th>\n      <th>high</th>\n      <th>low</th>\n      <th>close</th>\n      <th>volume</th>\n      <th>time</th>\n    </tr>\n  </thead>\n  <tbody>\n    <tr>\n      <th>0</th>\n      <td>116.34</td>\n      <td>116.61</td>\n      <td>116.34</td>\n      <td>116.61</td>\n      <td>3</td>\n      <td>2021-11-17 07:07:00+00:00</td>\n    </tr>\n    <tr>\n      <th>1</th>\n      <td>116.61</td>\n      <td>116.61</td>\n      <td>116.61</td>\n      <td>116.61</td>\n      <td>1</td>\n      <td>2021-11-17 07:09:00+00:00</td>\n    </tr>\n    <tr>\n      <th>2</th>\n      <td>116.61</td>\n      <td>116.61</td>\n      <td>116.61</td>\n      <td>116.61</td>\n      <td>3</td>\n      <td>2021-11-17 07:12:00+00:00</td>\n    </tr>\n    <tr>\n      <th>3</th>\n      <td>116.61</td>\n      <td>116.61</td>\n      <td>116.61</td>\n      <td>116.61</td>\n      <td>23</td>\n      <td>2021-11-17 07:23:00+00:00</td>\n    </tr>\n    <tr>\n      <th>4</th>\n      <td>116.56</td>\n      <td>116.56</td>\n      <td>116.55</td>\n      <td>116.55</td>\n      <td>2</td>\n      <td>2021-11-17 07:25:00+00:00</td>\n    </tr>\n    <tr>\n      <th>...</th>\n      <td>...</td>\n      <td>...</td>\n      <td>...</td>\n      <td>...</td>\n      <td>...</td>\n      <td>...</td>\n    </tr>\n    <tr>\n      <th>317471</th>\n      <td>74.29</td>\n      <td>74.29</td>\n      <td>74.29</td>\n      <td>74.29</td>\n      <td>32</td>\n      <td>2020-03-26 21:44:00+00:00</td>\n    </tr>\n    <tr>\n      <th>317472</th>\n      <td>74.00</td>\n      <td>74.00</td>\n      <td>74.00</td>\n      <td>74.00</td>\n      <td>50</td>\n      <td>2020-03-26 22:13:00+00:00</td>\n    </tr>\n    <tr>\n      <th>317473</th>\n      <td>74.00</td>\n      <td>74.00</td>\n      <td>74.00</td>\n      <td>74.00</td>\n      <td>4</td>\n      <td>2020-03-26 22:15:00+00:00</td>\n    </tr>\n    <tr>\n      <th>317474</th>\n      <td>74.14</td>\n      <td>74.14</td>\n      <td>74.14</td>\n      <td>74.14</td>\n      <td>4</td>\n      <td>2020-03-26 22:43:00+00:00</td>\n    </tr>\n    <tr>\n      <th>317475</th>\n      <td>74.14</td>\n      <td>74.14</td>\n      <td>74.14</td>\n      <td>74.14</td>\n      <td>50</td>\n      <td>2020-03-26 22:44:00+00:00</td>\n    </tr>\n  </tbody>\n</table>\n<p>317476 rows × 6 columns</p>\n</div>"
     },
     "execution_count": 161,
     "metadata": {},
     "output_type": "execute_result"
    }
   ],
   "source": [
    "build_dataframe_for_figi(companies[0], 800)"
   ],
   "metadata": {
    "collapsed": false,
    "pycharm": {
     "name": "#%%\n"
    }
   }
  },
  {
   "cell_type": "code",
   "execution_count": null,
   "outputs": [],
   "source": [
    "for company in companies:\n",
    "    print(\"-\"*50 + f\"\\nProcessing company:={company['ticker']}\\n\" + \"-\"*50 )\n",
    "\n",
    "    df = build_dataframe_for_figi(companies[0], 800)\n",
    "    csv_name = f\"./tinkoff_data/{company['ticker']}.csv\"\n",
    "    df.to_csv(csv_name, index=False)"
   ],
   "metadata": {
    "collapsed": false,
    "pycharm": {
     "name": "#%%\n",
     "is_executing": true
    }
   }
  },
  {
   "cell_type": "code",
   "execution_count": null,
   "outputs": [],
   "source": [],
   "metadata": {
    "collapsed": false,
    "pycharm": {
     "name": "#%%\n"
    }
   }
  }
 ],
 "metadata": {
  "kernelspec": {
   "display_name": "Python 3",
   "language": "python",
   "name": "python3"
  },
  "language_info": {
   "codemirror_mode": {
    "name": "ipython",
    "version": 2
   },
   "file_extension": ".py",
   "mimetype": "text/x-python",
   "name": "python",
   "nbconvert_exporter": "python",
   "pygments_lexer": "ipython2",
   "version": "2.7.6"
  }
 },
 "nbformat": 4,
 "nbformat_minor": 0
}