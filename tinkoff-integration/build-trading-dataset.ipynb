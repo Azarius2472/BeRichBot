{
 "cells": [
  {
   "cell_type": "code",
   "execution_count": 9,
   "metadata": {
    "collapsed": true
   },
   "outputs": [],
   "source": [
    "import sys\n",
    "from datetime import datetime, timedelta\n",
    "\n",
    "from tinkoff.invest import CandleInterval, Client\n",
    "from tinkoff.invest.token import TOKEN\n",
    "import numpy as np\n",
    "import matplotlib.pyplot as plt\n",
    "%matplotlib inline\n",
    "import pandas as pd\n",
    "import pytz\n",
    "import time"
   ]
  },
  {
   "cell_type": "code",
   "execution_count": 10,
   "outputs": [],
   "source": [
    "companies_as_df = pd.read_csv('companies_dataset.csv')"
   ],
   "metadata": {
    "collapsed": false,
    "pycharm": {
     "name": "#%%\n"
    }
   }
  },
  {
   "cell_type": "code",
   "execution_count": 11,
   "outputs": [
    {
     "data": {
      "text/plain": "             figi                          name ticker exchCode compositeFIGI  \\\n0    BBG0025Y4RY4                    ABBVIE INC   ABBV       US  BBG0025Y4RY4   \n1    BBG000C101X4                   ABIOMED INC   ABMD       US  BBG000C101X4   \n2    BBG000D9D830            ACCENTURE PLC-CL A    ACN       US  BBG000D9D830   \n3    BBG000CVWGS6       ACTIVISION BLIZZARD INC   ATVI       US  BBG000CVWGS6   \n4    BBG000BB5006                     ADOBE INC   ADBE       US  BBG000BB5006   \n..            ...                           ...    ...      ...           ...   \n496  BBG000BH3GZ2               YUM! BRANDS INC    YUM       US  BBG000BH3GZ2   \n497  BBG000CC7LQ7  ZEBRA TECHNOLOGIES CORP-CL A   ZBRA       US  BBG000CC7LQ7   \n498  BBG000BKPL53    ZIMMER BIOMET HOLDINGS INC    ZBH       US  BBG000BKPL53   \n499  BBG000BX9WL1              ZIONS BANCORP NA   ZION       US  BBG000BX9WL1   \n500  BBG0039320N9                    ZOETIS INC    ZTS       US  BBG0039320N9   \n\n     uniqueID  securityType marketSector shareClassFIGI  uniqueIDFutOpt  \\\n0         NaN  Common Stock       Equity   BBG0025Y4RZ3             NaN   \n1         NaN  Common Stock       Equity   BBG001S64SQ9             NaN   \n2         NaN  Common Stock       Equity   BBG001SCXK90             NaN   \n3         NaN  Common Stock       Equity   BBG001S6C009             NaN   \n4         NaN  Common Stock       Equity   BBG001S5NCQ5             NaN   \n..        ...           ...          ...            ...             ...   \n496       NaN  Common Stock       Equity   BBG001S7JQ30             NaN   \n497       NaN  Common Stock       Equity   BBG001S6SX73             NaN   \n498       NaN  Common Stock       Equity   BBG001S7DQJ9             NaN   \n499       NaN  Common Stock       Equity   BBG001S5XN80             NaN   \n500       NaN  Common Stock       Equity   BBG0039320P7             NaN   \n\n    securityType2 securityDescription  \n0    Common Stock                ABBV  \n1    Common Stock                ABMD  \n2    Common Stock                 ACN  \n3    Common Stock                ATVI  \n4    Common Stock                ADBE  \n..            ...                 ...  \n496  Common Stock                 YUM  \n497  Common Stock                ZBRA  \n498  Common Stock                 ZBH  \n499  Common Stock                ZION  \n500  Common Stock                 ZTS  \n\n[501 rows x 12 columns]",
      "text/html": "<div>\n<style scoped>\n    .dataframe tbody tr th:only-of-type {\n        vertical-align: middle;\n    }\n\n    .dataframe tbody tr th {\n        vertical-align: top;\n    }\n\n    .dataframe thead th {\n        text-align: right;\n    }\n</style>\n<table border=\"1\" class=\"dataframe\">\n  <thead>\n    <tr style=\"text-align: right;\">\n      <th></th>\n      <th>figi</th>\n      <th>name</th>\n      <th>ticker</th>\n      <th>exchCode</th>\n      <th>compositeFIGI</th>\n      <th>uniqueID</th>\n      <th>securityType</th>\n      <th>marketSector</th>\n      <th>shareClassFIGI</th>\n      <th>uniqueIDFutOpt</th>\n      <th>securityType2</th>\n      <th>securityDescription</th>\n    </tr>\n  </thead>\n  <tbody>\n    <tr>\n      <th>0</th>\n      <td>BBG0025Y4RY4</td>\n      <td>ABBVIE INC</td>\n      <td>ABBV</td>\n      <td>US</td>\n      <td>BBG0025Y4RY4</td>\n      <td>NaN</td>\n      <td>Common Stock</td>\n      <td>Equity</td>\n      <td>BBG0025Y4RZ3</td>\n      <td>NaN</td>\n      <td>Common Stock</td>\n      <td>ABBV</td>\n    </tr>\n    <tr>\n      <th>1</th>\n      <td>BBG000C101X4</td>\n      <td>ABIOMED INC</td>\n      <td>ABMD</td>\n      <td>US</td>\n      <td>BBG000C101X4</td>\n      <td>NaN</td>\n      <td>Common Stock</td>\n      <td>Equity</td>\n      <td>BBG001S64SQ9</td>\n      <td>NaN</td>\n      <td>Common Stock</td>\n      <td>ABMD</td>\n    </tr>\n    <tr>\n      <th>2</th>\n      <td>BBG000D9D830</td>\n      <td>ACCENTURE PLC-CL A</td>\n      <td>ACN</td>\n      <td>US</td>\n      <td>BBG000D9D830</td>\n      <td>NaN</td>\n      <td>Common Stock</td>\n      <td>Equity</td>\n      <td>BBG001SCXK90</td>\n      <td>NaN</td>\n      <td>Common Stock</td>\n      <td>ACN</td>\n    </tr>\n    <tr>\n      <th>3</th>\n      <td>BBG000CVWGS6</td>\n      <td>ACTIVISION BLIZZARD INC</td>\n      <td>ATVI</td>\n      <td>US</td>\n      <td>BBG000CVWGS6</td>\n      <td>NaN</td>\n      <td>Common Stock</td>\n      <td>Equity</td>\n      <td>BBG001S6C009</td>\n      <td>NaN</td>\n      <td>Common Stock</td>\n      <td>ATVI</td>\n    </tr>\n    <tr>\n      <th>4</th>\n      <td>BBG000BB5006</td>\n      <td>ADOBE INC</td>\n      <td>ADBE</td>\n      <td>US</td>\n      <td>BBG000BB5006</td>\n      <td>NaN</td>\n      <td>Common Stock</td>\n      <td>Equity</td>\n      <td>BBG001S5NCQ5</td>\n      <td>NaN</td>\n      <td>Common Stock</td>\n      <td>ADBE</td>\n    </tr>\n    <tr>\n      <th>...</th>\n      <td>...</td>\n      <td>...</td>\n      <td>...</td>\n      <td>...</td>\n      <td>...</td>\n      <td>...</td>\n      <td>...</td>\n      <td>...</td>\n      <td>...</td>\n      <td>...</td>\n      <td>...</td>\n      <td>...</td>\n    </tr>\n    <tr>\n      <th>496</th>\n      <td>BBG000BH3GZ2</td>\n      <td>YUM! BRANDS INC</td>\n      <td>YUM</td>\n      <td>US</td>\n      <td>BBG000BH3GZ2</td>\n      <td>NaN</td>\n      <td>Common Stock</td>\n      <td>Equity</td>\n      <td>BBG001S7JQ30</td>\n      <td>NaN</td>\n      <td>Common Stock</td>\n      <td>YUM</td>\n    </tr>\n    <tr>\n      <th>497</th>\n      <td>BBG000CC7LQ7</td>\n      <td>ZEBRA TECHNOLOGIES CORP-CL A</td>\n      <td>ZBRA</td>\n      <td>US</td>\n      <td>BBG000CC7LQ7</td>\n      <td>NaN</td>\n      <td>Common Stock</td>\n      <td>Equity</td>\n      <td>BBG001S6SX73</td>\n      <td>NaN</td>\n      <td>Common Stock</td>\n      <td>ZBRA</td>\n    </tr>\n    <tr>\n      <th>498</th>\n      <td>BBG000BKPL53</td>\n      <td>ZIMMER BIOMET HOLDINGS INC</td>\n      <td>ZBH</td>\n      <td>US</td>\n      <td>BBG000BKPL53</td>\n      <td>NaN</td>\n      <td>Common Stock</td>\n      <td>Equity</td>\n      <td>BBG001S7DQJ9</td>\n      <td>NaN</td>\n      <td>Common Stock</td>\n      <td>ZBH</td>\n    </tr>\n    <tr>\n      <th>499</th>\n      <td>BBG000BX9WL1</td>\n      <td>ZIONS BANCORP NA</td>\n      <td>ZION</td>\n      <td>US</td>\n      <td>BBG000BX9WL1</td>\n      <td>NaN</td>\n      <td>Common Stock</td>\n      <td>Equity</td>\n      <td>BBG001S5XN80</td>\n      <td>NaN</td>\n      <td>Common Stock</td>\n      <td>ZION</td>\n    </tr>\n    <tr>\n      <th>500</th>\n      <td>BBG0039320N9</td>\n      <td>ZOETIS INC</td>\n      <td>ZTS</td>\n      <td>US</td>\n      <td>BBG0039320N9</td>\n      <td>NaN</td>\n      <td>Common Stock</td>\n      <td>Equity</td>\n      <td>BBG0039320P7</td>\n      <td>NaN</td>\n      <td>Common Stock</td>\n      <td>ZTS</td>\n    </tr>\n  </tbody>\n</table>\n<p>501 rows × 12 columns</p>\n</div>"
     },
     "execution_count": 11,
     "metadata": {},
     "output_type": "execute_result"
    }
   ],
   "source": [
    "companies_as_df"
   ],
   "metadata": {
    "collapsed": false,
    "pycharm": {
     "name": "#%%\n"
    }
   }
  },
  {
   "cell_type": "code",
   "execution_count": 12,
   "outputs": [],
   "source": [
    "companies_as_df = companies_as_df.drop('uniqueID', axis=1)\n",
    "companies_as_df = companies_as_df.drop('uniqueIDFutOpt', axis=1)"
   ],
   "metadata": {
    "collapsed": false,
    "pycharm": {
     "name": "#%%\n"
    }
   }
  },
  {
   "cell_type": "code",
   "execution_count": 13,
   "outputs": [
    {
     "data": {
      "text/plain": "                figi        name ticker exchCode compositeFIGI  securityType  \\\ncount            501         501    501      501           501           501   \nunique           501         501    501        1           501             3   \ntop     BBG0025Y4RY4  ABBVIE INC   ABBV       US  BBG0025Y4RY4  Common Stock   \nfreq               1           1      1      501             1           472   \n\n       marketSector shareClassFIGI securityType2 securityDescription  \ncount           501            501           501                 501  \nunique            1            501             3                 501  \ntop          Equity   BBG0025Y4RZ3  Common Stock                ABBV  \nfreq            501              1           472                   1  ",
      "text/html": "<div>\n<style scoped>\n    .dataframe tbody tr th:only-of-type {\n        vertical-align: middle;\n    }\n\n    .dataframe tbody tr th {\n        vertical-align: top;\n    }\n\n    .dataframe thead th {\n        text-align: right;\n    }\n</style>\n<table border=\"1\" class=\"dataframe\">\n  <thead>\n    <tr style=\"text-align: right;\">\n      <th></th>\n      <th>figi</th>\n      <th>name</th>\n      <th>ticker</th>\n      <th>exchCode</th>\n      <th>compositeFIGI</th>\n      <th>securityType</th>\n      <th>marketSector</th>\n      <th>shareClassFIGI</th>\n      <th>securityType2</th>\n      <th>securityDescription</th>\n    </tr>\n  </thead>\n  <tbody>\n    <tr>\n      <th>count</th>\n      <td>501</td>\n      <td>501</td>\n      <td>501</td>\n      <td>501</td>\n      <td>501</td>\n      <td>501</td>\n      <td>501</td>\n      <td>501</td>\n      <td>501</td>\n      <td>501</td>\n    </tr>\n    <tr>\n      <th>unique</th>\n      <td>501</td>\n      <td>501</td>\n      <td>501</td>\n      <td>1</td>\n      <td>501</td>\n      <td>3</td>\n      <td>1</td>\n      <td>501</td>\n      <td>3</td>\n      <td>501</td>\n    </tr>\n    <tr>\n      <th>top</th>\n      <td>BBG0025Y4RY4</td>\n      <td>ABBVIE INC</td>\n      <td>ABBV</td>\n      <td>US</td>\n      <td>BBG0025Y4RY4</td>\n      <td>Common Stock</td>\n      <td>Equity</td>\n      <td>BBG0025Y4RZ3</td>\n      <td>Common Stock</td>\n      <td>ABBV</td>\n    </tr>\n    <tr>\n      <th>freq</th>\n      <td>1</td>\n      <td>1</td>\n      <td>1</td>\n      <td>501</td>\n      <td>1</td>\n      <td>472</td>\n      <td>501</td>\n      <td>1</td>\n      <td>472</td>\n      <td>1</td>\n    </tr>\n  </tbody>\n</table>\n</div>"
     },
     "execution_count": 13,
     "metadata": {},
     "output_type": "execute_result"
    }
   ],
   "source": [
    "companies_as_df.describe()"
   ],
   "metadata": {
    "collapsed": false,
    "pycharm": {
     "name": "#%%\n"
    }
   }
  },
  {
   "cell_type": "code",
   "execution_count": 14,
   "outputs": [
    {
     "data": {
      "text/plain": "datetime.datetime(2020, 2, 28, 21, 55, 5, 30681)"
     },
     "execution_count": 14,
     "metadata": {},
     "output_type": "execute_result"
    }
   ],
   "source": [
    "datetime.utcnow() - timedelta(days=365*2)"
   ],
   "metadata": {
    "collapsed": false,
    "pycharm": {
     "name": "#%%\n"
    }
   }
  },
  {
   "cell_type": "code",
   "execution_count": 15,
   "outputs": [
    {
     "name": "stdout",
     "output_type": "stream",
     "text": [
      "from 2021-11-20 03:00:00 to 2022-02-28 03:00:00\n",
      "35754\n",
      "actually from 2021-11-22 07:00:00+00:00 to 2022-02-25 22:44:00+00:00\n"
     ]
    }
   ],
   "source": [
    "from tinkoff.invest import CandleInterval, Client\n",
    "from tinkoff.invest.token import TOKEN\n",
    "\n",
    "figi = 'BBG0025Y4RY4'\n",
    "with Client(TOKEN) as client:\n",
    "    now = datetime.now().replace(hour=3, minute=0, second=0, microsecond=0)\n",
    "\n",
    "    # for year in [1,2]:\n",
    "    from_ = now - timedelta(days=100)\n",
    "    to = now\n",
    "    print(f'from {from_} to {to}')\n",
    "    candles = list(client.get_all_candles(figi=figi, from_=from_, to=to, interval=CandleInterval.CANDLE_INTERVAL_1_MIN))\n",
    "    print(len(candles))\n",
    "    print(f'actually from {candles[0].time} to {candles[len(candles) -1].time}')\n",
    "\n",
    "    # for c in candles:\n",
    "    #     print(c.__dict__['time'])"
   ],
   "metadata": {
    "collapsed": false,
    "pycharm": {
     "name": "#%%\n"
    }
   }
  },
  {
   "cell_type": "code",
   "execution_count": 16,
   "outputs": [
    {
     "data": {
      "text/plain": "                                    open                               high  \\\n0       {'units': 116, 'nano': 50000000}   {'units': 116, 'nano': 70000000}   \n1      {'units': 116, 'nano': 490000000}  {'units': 116, 'nano': 490000000}   \n2      {'units': 116, 'nano': 130000000}  {'units': 116, 'nano': 130000000}   \n3      {'units': 116, 'nano': 150000000}  {'units': 116, 'nano': 150000000}   \n4      {'units': 116, 'nano': 470000000}  {'units': 116, 'nano': 480000000}   \n...                                  ...                                ...   \n35749  {'units': 149, 'nano': 540000000}  {'units': 149, 'nano': 540000000}   \n35750  {'units': 149, 'nano': 540000000}  {'units': 149, 'nano': 540000000}   \n35751  {'units': 149, 'nano': 540000000}  {'units': 149, 'nano': 540000000}   \n35752  {'units': 149, 'nano': 540000000}  {'units': 149, 'nano': 540000000}   \n35753  {'units': 149, 'nano': 540000000}  {'units': 149, 'nano': 540000000}   \n\n                                     low                              close  \\\n0       {'units': 116, 'nano': 50000000}   {'units': 116, 'nano': 70000000}   \n1      {'units': 116, 'nano': 490000000}  {'units': 116, 'nano': 490000000}   \n2       {'units': 116, 'nano': 60000000}   {'units': 116, 'nano': 60000000}   \n3      {'units': 116, 'nano': 150000000}  {'units': 116, 'nano': 150000000}   \n4      {'units': 116, 'nano': 470000000}  {'units': 116, 'nano': 480000000}   \n...                                  ...                                ...   \n35749  {'units': 149, 'nano': 540000000}  {'units': 149, 'nano': 540000000}   \n35750  {'units': 149, 'nano': 540000000}  {'units': 149, 'nano': 540000000}   \n35751  {'units': 149, 'nano': 540000000}  {'units': 149, 'nano': 540000000}   \n35752  {'units': 149, 'nano': 540000000}  {'units': 149, 'nano': 540000000}   \n35753  {'units': 149, 'nano': 540000000}  {'units': 149, 'nano': 540000000}   \n\n       volume                      time  is_complete  \n0           3 2021-11-22 07:00:00+00:00         True  \n1           1 2021-11-22 07:03:00+00:00         True  \n2           2 2021-11-22 07:04:00+00:00         True  \n3           1 2021-11-22 07:05:00+00:00         True  \n4           2 2021-11-22 07:06:00+00:00         True  \n...       ...                       ...          ...  \n35749      10 2022-02-25 22:38:00+00:00         True  \n35750       4 2022-02-25 22:40:00+00:00         True  \n35751      12 2022-02-25 22:41:00+00:00         True  \n35752       9 2022-02-25 22:43:00+00:00         True  \n35753     166 2022-02-25 22:44:00+00:00         True  \n\n[35754 rows x 7 columns]",
      "text/html": "<div>\n<style scoped>\n    .dataframe tbody tr th:only-of-type {\n        vertical-align: middle;\n    }\n\n    .dataframe tbody tr th {\n        vertical-align: top;\n    }\n\n    .dataframe thead th {\n        text-align: right;\n    }\n</style>\n<table border=\"1\" class=\"dataframe\">\n  <thead>\n    <tr style=\"text-align: right;\">\n      <th></th>\n      <th>open</th>\n      <th>high</th>\n      <th>low</th>\n      <th>close</th>\n      <th>volume</th>\n      <th>time</th>\n      <th>is_complete</th>\n    </tr>\n  </thead>\n  <tbody>\n    <tr>\n      <th>0</th>\n      <td>{'units': 116, 'nano': 50000000}</td>\n      <td>{'units': 116, 'nano': 70000000}</td>\n      <td>{'units': 116, 'nano': 50000000}</td>\n      <td>{'units': 116, 'nano': 70000000}</td>\n      <td>3</td>\n      <td>2021-11-22 07:00:00+00:00</td>\n      <td>True</td>\n    </tr>\n    <tr>\n      <th>1</th>\n      <td>{'units': 116, 'nano': 490000000}</td>\n      <td>{'units': 116, 'nano': 490000000}</td>\n      <td>{'units': 116, 'nano': 490000000}</td>\n      <td>{'units': 116, 'nano': 490000000}</td>\n      <td>1</td>\n      <td>2021-11-22 07:03:00+00:00</td>\n      <td>True</td>\n    </tr>\n    <tr>\n      <th>2</th>\n      <td>{'units': 116, 'nano': 130000000}</td>\n      <td>{'units': 116, 'nano': 130000000}</td>\n      <td>{'units': 116, 'nano': 60000000}</td>\n      <td>{'units': 116, 'nano': 60000000}</td>\n      <td>2</td>\n      <td>2021-11-22 07:04:00+00:00</td>\n      <td>True</td>\n    </tr>\n    <tr>\n      <th>3</th>\n      <td>{'units': 116, 'nano': 150000000}</td>\n      <td>{'units': 116, 'nano': 150000000}</td>\n      <td>{'units': 116, 'nano': 150000000}</td>\n      <td>{'units': 116, 'nano': 150000000}</td>\n      <td>1</td>\n      <td>2021-11-22 07:05:00+00:00</td>\n      <td>True</td>\n    </tr>\n    <tr>\n      <th>4</th>\n      <td>{'units': 116, 'nano': 470000000}</td>\n      <td>{'units': 116, 'nano': 480000000}</td>\n      <td>{'units': 116, 'nano': 470000000}</td>\n      <td>{'units': 116, 'nano': 480000000}</td>\n      <td>2</td>\n      <td>2021-11-22 07:06:00+00:00</td>\n      <td>True</td>\n    </tr>\n    <tr>\n      <th>...</th>\n      <td>...</td>\n      <td>...</td>\n      <td>...</td>\n      <td>...</td>\n      <td>...</td>\n      <td>...</td>\n      <td>...</td>\n    </tr>\n    <tr>\n      <th>35749</th>\n      <td>{'units': 149, 'nano': 540000000}</td>\n      <td>{'units': 149, 'nano': 540000000}</td>\n      <td>{'units': 149, 'nano': 540000000}</td>\n      <td>{'units': 149, 'nano': 540000000}</td>\n      <td>10</td>\n      <td>2022-02-25 22:38:00+00:00</td>\n      <td>True</td>\n    </tr>\n    <tr>\n      <th>35750</th>\n      <td>{'units': 149, 'nano': 540000000}</td>\n      <td>{'units': 149, 'nano': 540000000}</td>\n      <td>{'units': 149, 'nano': 540000000}</td>\n      <td>{'units': 149, 'nano': 540000000}</td>\n      <td>4</td>\n      <td>2022-02-25 22:40:00+00:00</td>\n      <td>True</td>\n    </tr>\n    <tr>\n      <th>35751</th>\n      <td>{'units': 149, 'nano': 540000000}</td>\n      <td>{'units': 149, 'nano': 540000000}</td>\n      <td>{'units': 149, 'nano': 540000000}</td>\n      <td>{'units': 149, 'nano': 540000000}</td>\n      <td>12</td>\n      <td>2022-02-25 22:41:00+00:00</td>\n      <td>True</td>\n    </tr>\n    <tr>\n      <th>35752</th>\n      <td>{'units': 149, 'nano': 540000000}</td>\n      <td>{'units': 149, 'nano': 540000000}</td>\n      <td>{'units': 149, 'nano': 540000000}</td>\n      <td>{'units': 149, 'nano': 540000000}</td>\n      <td>9</td>\n      <td>2022-02-25 22:43:00+00:00</td>\n      <td>True</td>\n    </tr>\n    <tr>\n      <th>35753</th>\n      <td>{'units': 149, 'nano': 540000000}</td>\n      <td>{'units': 149, 'nano': 540000000}</td>\n      <td>{'units': 149, 'nano': 540000000}</td>\n      <td>{'units': 149, 'nano': 540000000}</td>\n      <td>166</td>\n      <td>2022-02-25 22:44:00+00:00</td>\n      <td>True</td>\n    </tr>\n  </tbody>\n</table>\n<p>35754 rows × 7 columns</p>\n</div>"
     },
     "execution_count": 16,
     "metadata": {},
     "output_type": "execute_result"
    }
   ],
   "source": [
    "pd.DataFrame(candles)"
   ],
   "metadata": {
    "collapsed": false,
    "pycharm": {
     "name": "#%%\n"
    }
   }
  },
  {
   "cell_type": "code",
   "execution_count": 26,
   "outputs": [],
   "source": [
    "now = datetime.now().replace(hour=3, minute=0, second=0, microsecond=0)\n",
    "\n",
    "def build_dataframe_for_figi(company, days, step=100):\n",
    "    start_time = time.time()\n",
    "    candles = []\n",
    "    with Client(TOKEN) as client:\n",
    "        for i in range(step, days + 1, step):\n",
    "            from_ = now - timedelta(days= i)\n",
    "            to = now - timedelta(days = i - step)\n",
    "            print(f\"Iteration:={i // step} from:={from_} to:= {to}\")\n",
    "\n",
    "            error = {}\n",
    "            while error is not None:\n",
    "                try:\n",
    "                    response = list(client.get_all_candles(figi=company['figi'], from_=from_, to=to, interval=CandleInterval.CANDLE_INTERVAL_1_MIN))\n",
    "                    candles.extend(response)\n",
    "                    error = None\n",
    "                except Exception as e:\n",
    "                    error = e\n",
    "                    print(f\"Request limit. Waiting 60 sec...\")\n",
    "                    time.sleep(60)\n",
    "\n",
    "    print(f\"Loaded data for company :={company['ticker']} size:={len(candles)}  time:={time.time() - start_time }\")\n",
    "\n",
    "    candles_as_dict = []\n",
    "    for c in candles:\n",
    "        c_open = float(str(c.open.units) + \".\" + str(c.open.nano))\n",
    "        c_close = float(str(c.close.units) + \".\" + str(c.close.nano))\n",
    "        c_high = float(str(c.high.units) + \".\" + str(c.high.nano))\n",
    "        c_low = float(str(c.low.units) + \".\" + str(c.low.nano))\n",
    "\n",
    "        c_dict = c.__dict__\n",
    "        c_dict['open'] = c_open\n",
    "        c_dict['close'] = c_close\n",
    "        c_dict['high'] = c_high\n",
    "        c_dict['low'] = c_low\n",
    "        del c_dict['is_complete']\n",
    "        candles_as_dict.append(c_dict)\n",
    "\n",
    "    return pd.DataFrame(candles_as_dict)"
   ],
   "metadata": {
    "collapsed": false,
    "pycharm": {
     "name": "#%%\n"
    }
   }
  },
  {
   "cell_type": "code",
   "execution_count": 18,
   "outputs": [],
   "source": [
    "companies = companies_as_df.to_dict('records')"
   ],
   "metadata": {
    "collapsed": false,
    "pycharm": {
     "name": "#%%\n"
    }
   }
  },
  {
   "cell_type": "code",
   "execution_count": 19,
   "outputs": [
    {
     "data": {
      "text/plain": "{'figi': 'BBG0025Y4RY4',\n 'name': 'ABBVIE INC',\n 'ticker': 'ABBV',\n 'exchCode': 'US',\n 'compositeFIGI': 'BBG0025Y4RY4',\n 'securityType': 'Common Stock',\n 'marketSector': 'Equity',\n 'shareClassFIGI': 'BBG0025Y4RZ3',\n 'securityType2': 'Common Stock',\n 'securityDescription': 'ABBV'}"
     },
     "execution_count": 19,
     "metadata": {},
     "output_type": "execute_result"
    }
   ],
   "source": [
    "companies[0]"
   ],
   "metadata": {
    "collapsed": false,
    "pycharm": {
     "name": "#%%\n"
    }
   }
  },
  {
   "cell_type": "code",
   "execution_count": 20,
   "outputs": [
    {
     "name": "stdout",
     "output_type": "stream",
     "text": [
      "Iteration:=1 from:=2021-11-20 03:00:00 to:= 2022-02-28 03:00:00\n"
     ]
    },
    {
     "name": "stderr",
     "output_type": "stream",
     "text": [
      "None GetCandles RESOURCE_EXHAUSTED \n"
     ]
    },
    {
     "name": "stdout",
     "output_type": "stream",
     "text": [
      "Iteration:=2 from:=2021-08-12 03:00:00 to:= 2021-11-20 03:00:00\n",
      "Request limit. Waiting 60 sec...\n",
      "Iteration:=3 from:=2021-05-04 03:00:00 to:= 2021-08-12 03:00:00\n",
      "Iteration:=4 from:=2021-01-24 03:00:00 to:= 2021-05-04 03:00:00\n",
      "Iteration:=5 from:=2020-10-16 03:00:00 to:= 2021-01-24 03:00:00\n"
     ]
    },
    {
     "name": "stderr",
     "output_type": "stream",
     "text": [
      "None GetCandles RESOURCE_EXHAUSTED \n"
     ]
    },
    {
     "name": "stdout",
     "output_type": "stream",
     "text": [
      "Request limit. Waiting 60 sec...\n",
      "Iteration:=6 from:=2020-07-08 03:00:00 to:= 2020-10-16 03:00:00\n",
      "Iteration:=7 from:=2020-03-30 03:00:00 to:= 2020-07-08 03:00:00\n"
     ]
    },
    {
     "name": "stderr",
     "output_type": "stream",
     "text": [
      "None GetCandles RESOURCE_EXHAUSTED \n"
     ]
    },
    {
     "name": "stdout",
     "output_type": "stream",
     "text": [
      "Request limit. Waiting 60 sec...\n",
      "Iteration:=8 from:=2019-12-21 03:00:00 to:= 2020-03-30 03:00:00\n",
      "Loaded data for company :=ABBV size:=316619  time:=343.9596712589264\n"
     ]
    },
    {
     "data": {
      "text/plain": "          open    high     low   close  volume                      time\n0       116.50  116.70  116.50  116.70       3 2021-11-22 07:00:00+00:00\n1       116.49  116.49  116.49  116.49       1 2021-11-22 07:03:00+00:00\n2       116.13  116.13  116.60  116.60       2 2021-11-22 07:04:00+00:00\n3       116.15  116.15  116.15  116.15       1 2021-11-22 07:05:00+00:00\n4       116.47  116.48  116.47  116.48       2 2021-11-22 07:06:00+00:00\n...        ...     ...     ...     ...     ...                       ...\n316614   73.39   73.39   73.39   73.39       1 2020-03-27 21:24:00+00:00\n316615   72.67   72.75   72.67   72.75     150 2020-03-27 22:10:00+00:00\n316616   72.71   72.71   72.71   72.71      16 2020-03-27 22:11:00+00:00\n316617   72.75   72.75   72.75   72.75      50 2020-03-27 22:16:00+00:00\n316618   72.69   72.69   72.69   72.69      14 2020-03-27 22:44:00+00:00\n\n[316619 rows x 6 columns]",
      "text/html": "<div>\n<style scoped>\n    .dataframe tbody tr th:only-of-type {\n        vertical-align: middle;\n    }\n\n    .dataframe tbody tr th {\n        vertical-align: top;\n    }\n\n    .dataframe thead th {\n        text-align: right;\n    }\n</style>\n<table border=\"1\" class=\"dataframe\">\n  <thead>\n    <tr style=\"text-align: right;\">\n      <th></th>\n      <th>open</th>\n      <th>high</th>\n      <th>low</th>\n      <th>close</th>\n      <th>volume</th>\n      <th>time</th>\n    </tr>\n  </thead>\n  <tbody>\n    <tr>\n      <th>0</th>\n      <td>116.50</td>\n      <td>116.70</td>\n      <td>116.50</td>\n      <td>116.70</td>\n      <td>3</td>\n      <td>2021-11-22 07:00:00+00:00</td>\n    </tr>\n    <tr>\n      <th>1</th>\n      <td>116.49</td>\n      <td>116.49</td>\n      <td>116.49</td>\n      <td>116.49</td>\n      <td>1</td>\n      <td>2021-11-22 07:03:00+00:00</td>\n    </tr>\n    <tr>\n      <th>2</th>\n      <td>116.13</td>\n      <td>116.13</td>\n      <td>116.60</td>\n      <td>116.60</td>\n      <td>2</td>\n      <td>2021-11-22 07:04:00+00:00</td>\n    </tr>\n    <tr>\n      <th>3</th>\n      <td>116.15</td>\n      <td>116.15</td>\n      <td>116.15</td>\n      <td>116.15</td>\n      <td>1</td>\n      <td>2021-11-22 07:05:00+00:00</td>\n    </tr>\n    <tr>\n      <th>4</th>\n      <td>116.47</td>\n      <td>116.48</td>\n      <td>116.47</td>\n      <td>116.48</td>\n      <td>2</td>\n      <td>2021-11-22 07:06:00+00:00</td>\n    </tr>\n    <tr>\n      <th>...</th>\n      <td>...</td>\n      <td>...</td>\n      <td>...</td>\n      <td>...</td>\n      <td>...</td>\n      <td>...</td>\n    </tr>\n    <tr>\n      <th>316614</th>\n      <td>73.39</td>\n      <td>73.39</td>\n      <td>73.39</td>\n      <td>73.39</td>\n      <td>1</td>\n      <td>2020-03-27 21:24:00+00:00</td>\n    </tr>\n    <tr>\n      <th>316615</th>\n      <td>72.67</td>\n      <td>72.75</td>\n      <td>72.67</td>\n      <td>72.75</td>\n      <td>150</td>\n      <td>2020-03-27 22:10:00+00:00</td>\n    </tr>\n    <tr>\n      <th>316616</th>\n      <td>72.71</td>\n      <td>72.71</td>\n      <td>72.71</td>\n      <td>72.71</td>\n      <td>16</td>\n      <td>2020-03-27 22:11:00+00:00</td>\n    </tr>\n    <tr>\n      <th>316617</th>\n      <td>72.75</td>\n      <td>72.75</td>\n      <td>72.75</td>\n      <td>72.75</td>\n      <td>50</td>\n      <td>2020-03-27 22:16:00+00:00</td>\n    </tr>\n    <tr>\n      <th>316618</th>\n      <td>72.69</td>\n      <td>72.69</td>\n      <td>72.69</td>\n      <td>72.69</td>\n      <td>14</td>\n      <td>2020-03-27 22:44:00+00:00</td>\n    </tr>\n  </tbody>\n</table>\n<p>316619 rows × 6 columns</p>\n</div>"
     },
     "execution_count": 20,
     "metadata": {},
     "output_type": "execute_result"
    }
   ],
   "source": [
    "build_dataframe_for_figi(companies[0], 800)"
   ],
   "metadata": {
    "collapsed": false,
    "pycharm": {
     "name": "#%%\n"
    }
   }
  },
  {
   "cell_type": "code",
   "execution_count": null,
   "outputs": [
    {
     "name": "stdout",
     "output_type": "stream",
     "text": [
      "Iteration:=4 from:=2021-01-24 03:00:00 to:= 2021-05-04 03:00:00\n"
     ]
    },
    {
     "name": "stderr",
     "output_type": "stream",
     "text": [
      "None GetCandles RESOURCE_EXHAUSTED \n"
     ]
    },
    {
     "name": "stdout",
     "output_type": "stream",
     "text": [
      "Iteration:=5 from:=2020-10-16 03:00:00 to:= 2021-01-24 03:00:00\n",
      "Request limit. Waiting 60 sec...\n",
      "Iteration:=6 from:=2020-07-08 03:00:00 to:= 2020-10-16 03:00:00\n",
      "Iteration:=7 from:=2020-03-30 03:00:00 to:= 2020-07-08 03:00:00\n"
     ]
    },
    {
     "name": "stderr",
     "output_type": "stream",
     "text": [
      "None GetCandles RESOURCE_EXHAUSTED \n"
     ]
    },
    {
     "name": "stdout",
     "output_type": "stream",
     "text": [
      "Request limit. Waiting 60 sec...\n",
      "Iteration:=8 from:=2019-12-21 03:00:00 to:= 2020-03-30 03:00:00\n",
      "Loaded data for company :=FBHS size:=194239  time:=354.3969395160675\n"
     ]
    },
    {
     "name": "stderr",
     "output_type": "stream",
     "text": [
      "None GetCandles RESOURCE_EXHAUSTED \n"
     ]
    },
    {
     "name": "stdout",
     "output_type": "stream",
     "text": [
      "--------------------------------------------------\n",
      "Processing company:=FOXA\n",
      "--------------------------------------------------\n",
      "Iteration:=1 from:=2021-11-20 03:00:00 to:= 2022-02-28 03:00:00\n",
      "Request limit. Waiting 60 sec...\n",
      "Iteration:=2 from:=2021-08-12 03:00:00 to:= 2021-11-20 03:00:00\n",
      "Iteration:=3 from:=2021-05-04 03:00:00 to:= 2021-08-12 03:00:00\n"
     ]
    },
    {
     "name": "stderr",
     "output_type": "stream",
     "text": [
      "None GetCandles RESOURCE_EXHAUSTED \n"
     ]
    },
    {
     "name": "stdout",
     "output_type": "stream",
     "text": [
      "Request limit. Waiting 60 sec...\n",
      "Iteration:=4 from:=2021-01-24 03:00:00 to:= 2021-05-04 03:00:00\n"
     ]
    },
    {
     "name": "stderr",
     "output_type": "stream",
     "text": [
      "None GetCandles RESOURCE_EXHAUSTED \n"
     ]
    },
    {
     "name": "stdout",
     "output_type": "stream",
     "text": [
      "Iteration:=5 from:=2020-10-16 03:00:00 to:= 2021-01-24 03:00:00\n",
      "Request limit. Waiting 60 sec...\n",
      "Iteration:=6 from:=2020-07-08 03:00:00 to:= 2020-10-16 03:00:00\n",
      "Iteration:=7 from:=2020-03-30 03:00:00 to:= 2020-07-08 03:00:00\n"
     ]
    },
    {
     "name": "stderr",
     "output_type": "stream",
     "text": [
      "None GetCandles RESOURCE_EXHAUSTED \n"
     ]
    },
    {
     "name": "stdout",
     "output_type": "stream",
     "text": [
      "Request limit. Waiting 60 sec...\n",
      "Iteration:=8 from:=2019-12-21 03:00:00 to:= 2020-03-30 03:00:00\n",
      "Loaded data for company :=FOXA size:=219964  time:=352.22380566596985\n"
     ]
    },
    {
     "name": "stderr",
     "output_type": "stream",
     "text": [
      "None GetCandles RESOURCE_EXHAUSTED \n"
     ]
    },
    {
     "name": "stdout",
     "output_type": "stream",
     "text": [
      "--------------------------------------------------\n",
      "Processing company:=FOX\n",
      "--------------------------------------------------\n",
      "Iteration:=1 from:=2021-11-20 03:00:00 to:= 2022-02-28 03:00:00\n",
      "Request limit. Waiting 60 sec...\n",
      "Iteration:=2 from:=2021-08-12 03:00:00 to:= 2021-11-20 03:00:00\n",
      "Iteration:=3 from:=2021-05-04 03:00:00 to:= 2021-08-12 03:00:00\n",
      "Iteration:=4 from:=2021-01-24 03:00:00 to:= 2021-05-04 03:00:00\n"
     ]
    },
    {
     "name": "stderr",
     "output_type": "stream",
     "text": [
      "None GetCandles RESOURCE_EXHAUSTED \n"
     ]
    },
    {
     "name": "stdout",
     "output_type": "stream",
     "text": [
      "Request limit. Waiting 60 sec...\n",
      "Iteration:=5 from:=2020-10-16 03:00:00 to:= 2021-01-24 03:00:00\n",
      "Iteration:=6 from:=2020-07-08 03:00:00 to:= 2020-10-16 03:00:00\n",
      "Iteration:=7 from:=2020-03-30 03:00:00 to:= 2020-07-08 03:00:00\n"
     ]
    },
    {
     "name": "stderr",
     "output_type": "stream",
     "text": [
      "None GetCandles RESOURCE_EXHAUSTED \n"
     ]
    },
    {
     "name": "stdout",
     "output_type": "stream",
     "text": [
      "Request limit. Waiting 60 sec...\n",
      "Iteration:=8 from:=2019-12-21 03:00:00 to:= 2020-03-30 03:00:00\n",
      "Loaded data for company :=FOX size:=213961  time:=291.8309259414673\n"
     ]
    },
    {
     "name": "stderr",
     "output_type": "stream",
     "text": [
      "None GetCandles RESOURCE_EXHAUSTED \n"
     ]
    },
    {
     "name": "stdout",
     "output_type": "stream",
     "text": [
      "--------------------------------------------------\n",
      "Processing company:=FCX\n",
      "--------------------------------------------------\n",
      "Iteration:=1 from:=2021-11-20 03:00:00 to:= 2022-02-28 03:00:00\n",
      "Request limit. Waiting 60 sec...\n",
      "Iteration:=2 from:=2021-08-12 03:00:00 to:= 2021-11-20 03:00:00\n",
      "Iteration:=3 from:=2021-05-04 03:00:00 to:= 2021-08-12 03:00:00\n",
      "Iteration:=4 from:=2021-01-24 03:00:00 to:= 2021-05-04 03:00:00\n"
     ]
    },
    {
     "name": "stderr",
     "output_type": "stream",
     "text": [
      "None GetCandles RESOURCE_EXHAUSTED \n"
     ]
    },
    {
     "name": "stdout",
     "output_type": "stream",
     "text": [
      "Request limit. Waiting 60 sec...\n",
      "Iteration:=5 from:=2020-10-16 03:00:00 to:= 2021-01-24 03:00:00\n",
      "Iteration:=6 from:=2020-07-08 03:00:00 to:= 2020-10-16 03:00:00\n"
     ]
    },
    {
     "name": "stderr",
     "output_type": "stream",
     "text": [
      "None GetCandles RESOURCE_EXHAUSTED \n"
     ]
    },
    {
     "name": "stdout",
     "output_type": "stream",
     "text": [
      "Request limit. Waiting 60 sec...\n",
      "Iteration:=7 from:=2020-03-30 03:00:00 to:= 2020-07-08 03:00:00\n",
      "Iteration:=8 from:=2019-12-21 03:00:00 to:= 2020-03-30 03:00:00\n"
     ]
    },
    {
     "name": "stderr",
     "output_type": "stream",
     "text": [
      "None GetCandles RESOURCE_EXHAUSTED \n"
     ]
    },
    {
     "name": "stdout",
     "output_type": "stream",
     "text": [
      "Request limit. Waiting 60 sec...\n",
      "Loaded data for company :=FCX size:=308520  time:=402.31890749931335\n",
      "--------------------------------------------------\n",
      "Processing company:=GOOGL\n",
      "--------------------------------------------------\n",
      "Iteration:=1 from:=2021-11-20 03:00:00 to:= 2022-02-28 03:00:00\n"
     ]
    },
    {
     "name": "stderr",
     "output_type": "stream",
     "text": [
      "None GetCandles RESOURCE_EXHAUSTED \n"
     ]
    },
    {
     "name": "stdout",
     "output_type": "stream",
     "text": [
      "Iteration:=2 from:=2021-08-12 03:00:00 to:= 2021-11-20 03:00:00\n",
      "Request limit. Waiting 60 sec...\n",
      "Iteration:=3 from:=2021-05-04 03:00:00 to:= 2021-08-12 03:00:00\n",
      "Iteration:=4 from:=2021-01-24 03:00:00 to:= 2021-05-04 03:00:00\n",
      "Iteration:=5 from:=2020-10-16 03:00:00 to:= 2021-01-24 03:00:00\n"
     ]
    },
    {
     "name": "stderr",
     "output_type": "stream",
     "text": [
      "None GetCandles RESOURCE_EXHAUSTED \n"
     ]
    },
    {
     "name": "stdout",
     "output_type": "stream",
     "text": [
      "Request limit. Waiting 60 sec...\n",
      "Iteration:=6 from:=2020-07-08 03:00:00 to:= 2020-10-16 03:00:00\n",
      "Iteration:=7 from:=2020-03-30 03:00:00 to:= 2020-07-08 03:00:00\n",
      "Iteration:=8 from:=2019-12-21 03:00:00 to:= 2020-03-30 03:00:00\n"
     ]
    },
    {
     "name": "stderr",
     "output_type": "stream",
     "text": [
      "None GetCandles RESOURCE_EXHAUSTED \n"
     ]
    },
    {
     "name": "stdout",
     "output_type": "stream",
     "text": [
      "Request limit. Waiting 60 sec...\n",
      "Loaded data for company :=GOOGL size:=325655  time:=312.42872071266174\n",
      "--------------------------------------------------\n",
      "Processing company:=GOOG\n",
      "--------------------------------------------------\n",
      "Iteration:=1 from:=2021-11-20 03:00:00 to:= 2022-02-28 03:00:00\n"
     ]
    },
    {
     "name": "stderr",
     "output_type": "stream",
     "text": [
      "None GetCandles RESOURCE_EXHAUSTED \n"
     ]
    },
    {
     "name": "stdout",
     "output_type": "stream",
     "text": [
      "Iteration:=2 from:=2021-08-12 03:00:00 to:= 2021-11-20 03:00:00\n",
      "Request limit. Waiting 60 sec...\n",
      "Iteration:=3 from:=2021-05-04 03:00:00 to:= 2021-08-12 03:00:00\n",
      "Iteration:=4 from:=2021-01-24 03:00:00 to:= 2021-05-04 03:00:00\n"
     ]
    },
    {
     "name": "stderr",
     "output_type": "stream",
     "text": [
      "None GetCandles RESOURCE_EXHAUSTED \n"
     ]
    },
    {
     "name": "stdout",
     "output_type": "stream",
     "text": [
      "Request limit. Waiting 60 sec...\n",
      "Iteration:=5 from:=2020-10-16 03:00:00 to:= 2021-01-24 03:00:00\n"
     ]
    },
    {
     "name": "stderr",
     "output_type": "stream",
     "text": [
      "None GetCandles RESOURCE_EXHAUSTED \n"
     ]
    },
    {
     "name": "stdout",
     "output_type": "stream",
     "text": [
      "Iteration:=6 from:=2020-07-08 03:00:00 to:= 2020-10-16 03:00:00\n",
      "Request limit. Waiting 60 sec...\n",
      "Iteration:=7 from:=2020-03-30 03:00:00 to:= 2020-07-08 03:00:00\n",
      "Iteration:=8 from:=2019-12-21 03:00:00 to:= 2020-03-30 03:00:00\n"
     ]
    },
    {
     "name": "stderr",
     "output_type": "stream",
     "text": [
      "None GetCandles RESOURCE_EXHAUSTED \n"
     ]
    },
    {
     "name": "stdout",
     "output_type": "stream",
     "text": [
      "Request limit. Waiting 60 sec...\n",
      "Loaded data for company :=GOOG size:=304589  time:=350.6717939376831\n",
      "--------------------------------------------------\n",
      "Processing company:=GLW\n",
      "--------------------------------------------------\n",
      "Iteration:=1 from:=2021-11-20 03:00:00 to:= 2022-02-28 03:00:00\n"
     ]
    },
    {
     "name": "stderr",
     "output_type": "stream",
     "text": [
      "None GetCandles RESOURCE_EXHAUSTED \n"
     ]
    },
    {
     "name": "stdout",
     "output_type": "stream",
     "text": [
      "Iteration:=2 from:=2021-08-12 03:00:00 to:= 2021-11-20 03:00:00\n",
      "Request limit. Waiting 60 sec...\n",
      "Iteration:=3 from:=2021-05-04 03:00:00 to:= 2021-08-12 03:00:00\n",
      "Iteration:=4 from:=2021-01-24 03:00:00 to:= 2021-05-04 03:00:00\n",
      "Iteration:=5 from:=2020-10-16 03:00:00 to:= 2021-01-24 03:00:00\n"
     ]
    },
    {
     "name": "stderr",
     "output_type": "stream",
     "text": [
      "None GetCandles RESOURCE_EXHAUSTED \n"
     ]
    },
    {
     "name": "stdout",
     "output_type": "stream",
     "text": [
      "Request limit. Waiting 60 sec...\n",
      "Iteration:=6 from:=2020-07-08 03:00:00 to:= 2020-10-16 03:00:00\n",
      "Iteration:=7 from:=2020-03-30 03:00:00 to:= 2020-07-08 03:00:00\n",
      "Iteration:=8 from:=2019-12-21 03:00:00 to:= 2020-03-30 03:00:00\n"
     ]
    },
    {
     "name": "stderr",
     "output_type": "stream",
     "text": [
      "None GetCandles RESOURCE_EXHAUSTED \n"
     ]
    },
    {
     "name": "stdout",
     "output_type": "stream",
     "text": [
      "Request limit. Waiting 60 sec...\n",
      "Loaded data for company :=GLW size:=222464  time:=282.8352324962616\n",
      "--------------------------------------------------\n",
      "Processing company:=GPS\n",
      "--------------------------------------------------\n",
      "Iteration:=1 from:=2021-11-20 03:00:00 to:= 2022-02-28 03:00:00\n"
     ]
    },
    {
     "name": "stderr",
     "output_type": "stream",
     "text": [
      "None GetCandles RESOURCE_EXHAUSTED \n"
     ]
    },
    {
     "name": "stdout",
     "output_type": "stream",
     "text": [
      "Iteration:=2 from:=2021-08-12 03:00:00 to:= 2021-11-20 03:00:00\n",
      "Request limit. Waiting 60 sec...\n",
      "Iteration:=3 from:=2021-05-04 03:00:00 to:= 2021-08-12 03:00:00\n",
      "Iteration:=4 from:=2021-01-24 03:00:00 to:= 2021-05-04 03:00:00\n",
      "Iteration:=5 from:=2020-10-16 03:00:00 to:= 2021-01-24 03:00:00\n"
     ]
    },
    {
     "name": "stderr",
     "output_type": "stream",
     "text": [
      "None GetCandles RESOURCE_EXHAUSTED \n"
     ]
    },
    {
     "name": "stdout",
     "output_type": "stream",
     "text": [
      "Request limit. Waiting 60 sec...\n",
      "Iteration:=6 from:=2020-07-08 03:00:00 to:= 2020-10-16 03:00:00\n",
      "Iteration:=7 from:=2020-03-30 03:00:00 to:= 2020-07-08 03:00:00\n",
      "Iteration:=8 from:=2019-12-21 03:00:00 to:= 2020-03-30 03:00:00\n"
     ]
    },
    {
     "name": "stderr",
     "output_type": "stream",
     "text": [
      "None GetCandles RESOURCE_EXHAUSTED \n"
     ]
    },
    {
     "name": "stdout",
     "output_type": "stream",
     "text": [
      "Request limit. Waiting 60 sec...\n",
      "Loaded data for company :=GPS size:=316516  time:=311.743599653244\n",
      "--------------------------------------------------\n",
      "Processing company:=GRMN\n",
      "--------------------------------------------------\n",
      "Iteration:=1 from:=2021-11-20 03:00:00 to:= 2022-02-28 03:00:00\n"
     ]
    },
    {
     "name": "stderr",
     "output_type": "stream",
     "text": [
      "None GetCandles RESOURCE_EXHAUSTED \n"
     ]
    },
    {
     "name": "stdout",
     "output_type": "stream",
     "text": [
      "Iteration:=2 from:=2021-08-12 03:00:00 to:= 2021-11-20 03:00:00\n",
      "Request limit. Waiting 60 sec...\n",
      "Iteration:=3 from:=2021-05-04 03:00:00 to:= 2021-08-12 03:00:00\n",
      "Iteration:=4 from:=2021-01-24 03:00:00 to:= 2021-05-04 03:00:00\n",
      "Iteration:=5 from:=2020-10-16 03:00:00 to:= 2021-01-24 03:00:00\n"
     ]
    },
    {
     "name": "stderr",
     "output_type": "stream",
     "text": [
      "None GetCandles RESOURCE_EXHAUSTED \n"
     ]
    },
    {
     "name": "stdout",
     "output_type": "stream",
     "text": [
      "Request limit. Waiting 60 sec...\n",
      "Iteration:=6 from:=2020-07-08 03:00:00 to:= 2020-10-16 03:00:00\n",
      "Iteration:=7 from:=2020-03-30 03:00:00 to:= 2020-07-08 03:00:00\n",
      "Iteration:=8 from:=2019-12-21 03:00:00 to:= 2020-03-30 03:00:00\n"
     ]
    },
    {
     "name": "stderr",
     "output_type": "stream",
     "text": [
      "None GetCandles RESOURCE_EXHAUSTED \n"
     ]
    },
    {
     "name": "stdout",
     "output_type": "stream",
     "text": [
      "Request limit. Waiting 60 sec...\n",
      "Loaded data for company :=GRMN size:=219831  time:=279.3968987464905\n",
      "--------------------------------------------------\n",
      "Processing company:=GNRC\n",
      "--------------------------------------------------\n",
      "Iteration:=1 from:=2021-11-20 03:00:00 to:= 2022-02-28 03:00:00\n"
     ]
    },
    {
     "name": "stderr",
     "output_type": "stream",
     "text": [
      "None GetCandles RESOURCE_EXHAUSTED \n"
     ]
    },
    {
     "name": "stdout",
     "output_type": "stream",
     "text": [
      "Iteration:=2 from:=2021-08-12 03:00:00 to:= 2021-11-20 03:00:00\n",
      "Request limit. Waiting 60 sec...\n",
      "Iteration:=3 from:=2021-05-04 03:00:00 to:= 2021-08-12 03:00:00\n"
     ]
    },
    {
     "name": "stderr",
     "output_type": "stream",
     "text": [
      "None GetCandles RESOURCE_EXHAUSTED \n"
     ]
    },
    {
     "name": "stdout",
     "output_type": "stream",
     "text": [
      "Iteration:=4 from:=2021-01-24 03:00:00 to:= 2021-05-04 03:00:00\n",
      "Request limit. Waiting 60 sec...\n",
      "Iteration:=5 from:=2020-10-16 03:00:00 to:= 2021-01-24 03:00:00\n",
      "Iteration:=6 from:=2020-07-08 03:00:00 to:= 2020-10-16 03:00:00\n"
     ]
    },
    {
     "name": "stderr",
     "output_type": "stream",
     "text": [
      "None GetCandles RESOURCE_EXHAUSTED \n"
     ]
    },
    {
     "name": "stdout",
     "output_type": "stream",
     "text": [
      "Request limit. Waiting 60 sec...\n",
      "Iteration:=7 from:=2020-03-30 03:00:00 to:= 2020-07-08 03:00:00\n"
     ]
    },
    {
     "name": "stderr",
     "output_type": "stream",
     "text": [
      "None GetCandles RESOURCE_EXHAUSTED \n"
     ]
    },
    {
     "name": "stdout",
     "output_type": "stream",
     "text": [
      "Iteration:=8 from:=2019-12-21 03:00:00 to:= 2020-03-30 03:00:00\n",
      "Request limit. Waiting 60 sec...\n",
      "Loaded data for company :=GNRC size:=184136  time:=330.55876660346985\n",
      "--------------------------------------------------\n",
      "Processing company:=GD\n",
      "--------------------------------------------------\n",
      "Iteration:=1 from:=2021-11-20 03:00:00 to:= 2022-02-28 03:00:00\n",
      "Iteration:=2 from:=2021-08-12 03:00:00 to:= 2021-11-20 03:00:00\n",
      "Iteration:=3 from:=2021-05-04 03:00:00 to:= 2021-08-12 03:00:00\n"
     ]
    },
    {
     "name": "stderr",
     "output_type": "stream",
     "text": [
      "None GetCandles RESOURCE_EXHAUSTED \n"
     ]
    },
    {
     "name": "stdout",
     "output_type": "stream",
     "text": [
      "Request limit. Waiting 60 sec...\n",
      "Iteration:=4 from:=2021-01-24 03:00:00 to:= 2021-05-04 03:00:00\n"
     ]
    },
    {
     "name": "stderr",
     "output_type": "stream",
     "text": [
      "None GetCandles RESOURCE_EXHAUSTED \n"
     ]
    },
    {
     "name": "stdout",
     "output_type": "stream",
     "text": [
      "Iteration:=5 from:=2020-10-16 03:00:00 to:= 2021-01-24 03:00:00\n",
      "Request limit. Waiting 60 sec...\n",
      "Iteration:=6 from:=2020-07-08 03:00:00 to:= 2020-10-16 03:00:00\n",
      "Iteration:=7 from:=2020-03-30 03:00:00 to:= 2020-07-08 03:00:00\n"
     ]
    },
    {
     "name": "stderr",
     "output_type": "stream",
     "text": [
      "None GetCandles RESOURCE_EXHAUSTED \n"
     ]
    },
    {
     "name": "stdout",
     "output_type": "stream",
     "text": [
      "Request limit. Waiting 60 sec...\n",
      "Iteration:=8 from:=2019-12-21 03:00:00 to:= 2020-03-30 03:00:00\n",
      "Loaded data for company :=GD size:=219105  time:=286.54410672187805\n"
     ]
    },
    {
     "name": "stderr",
     "output_type": "stream",
     "text": [
      "None GetCandles RESOURCE_EXHAUSTED \n"
     ]
    },
    {
     "name": "stdout",
     "output_type": "stream",
     "text": [
      "--------------------------------------------------\n",
      "Processing company:=GE\n",
      "--------------------------------------------------\n",
      "Iteration:=1 from:=2021-11-20 03:00:00 to:= 2022-02-28 03:00:00\n",
      "Request limit. Waiting 60 sec...\n",
      "Iteration:=2 from:=2021-08-12 03:00:00 to:= 2021-11-20 03:00:00\n",
      "Iteration:=3 from:=2021-05-04 03:00:00 to:= 2021-08-12 03:00:00\n"
     ]
    },
    {
     "name": "stderr",
     "output_type": "stream",
     "text": [
      "None GetCandles RESOURCE_EXHAUSTED \n"
     ]
    },
    {
     "name": "stdout",
     "output_type": "stream",
     "text": [
      "Request limit. Waiting 60 sec...\n",
      "Iteration:=4 from:=2021-01-24 03:00:00 to:= 2021-05-04 03:00:00\n",
      "Iteration:=5 from:=2020-10-16 03:00:00 to:= 2021-01-24 03:00:00\n",
      "Iteration:=6 from:=2020-07-08 03:00:00 to:= 2020-10-16 03:00:00\n"
     ]
    },
    {
     "name": "stderr",
     "output_type": "stream",
     "text": [
      "None GetCandles RESOURCE_EXHAUSTED \n"
     ]
    },
    {
     "name": "stdout",
     "output_type": "stream",
     "text": [
      "Request limit. Waiting 60 sec...\n",
      "Iteration:=7 from:=2020-03-30 03:00:00 to:= 2020-07-08 03:00:00\n"
     ]
    },
    {
     "name": "stderr",
     "output_type": "stream",
     "text": [
      "None GetCandles RESOURCE_EXHAUSTED \n"
     ]
    },
    {
     "name": "stdout",
     "output_type": "stream",
     "text": [
      "Iteration:=8 from:=2019-12-21 03:00:00 to:= 2020-03-30 03:00:00\n",
      "Request limit. Waiting 60 sec...\n",
      "Loaded data for company :=GE size:=371148  time:=416.2096462249756\n",
      "--------------------------------------------------\n",
      "Processing company:=GIS\n",
      "--------------------------------------------------\n",
      "Iteration:=1 from:=2021-11-20 03:00:00 to:= 2022-02-28 03:00:00\n"
     ]
    },
    {
     "name": "stderr",
     "output_type": "stream",
     "text": [
      "None GetCandles RESOURCE_EXHAUSTED \n"
     ]
    },
    {
     "name": "stdout",
     "output_type": "stream",
     "text": [
      "Iteration:=2 from:=2021-08-12 03:00:00 to:= 2021-11-20 03:00:00\n",
      "Request limit. Waiting 60 sec...\n",
      "Iteration:=3 from:=2021-05-04 03:00:00 to:= 2021-08-12 03:00:00\n"
     ]
    },
    {
     "name": "stderr",
     "output_type": "stream",
     "text": [
      "None GetCandles RESOURCE_EXHAUSTED \n"
     ]
    },
    {
     "name": "stdout",
     "output_type": "stream",
     "text": [
      "Iteration:=4 from:=2021-01-24 03:00:00 to:= 2021-05-04 03:00:00\n",
      "Request limit. Waiting 60 sec...\n",
      "Iteration:=5 from:=2020-10-16 03:00:00 to:= 2021-01-24 03:00:00\n",
      "Iteration:=6 from:=2020-07-08 03:00:00 to:= 2020-10-16 03:00:00\n",
      "Iteration:=7 from:=2020-03-30 03:00:00 to:= 2020-07-08 03:00:00\n"
     ]
    },
    {
     "name": "stderr",
     "output_type": "stream",
     "text": [
      "None GetCandles RESOURCE_EXHAUSTED \n"
     ]
    },
    {
     "name": "stdout",
     "output_type": "stream",
     "text": [
      "Request limit. Waiting 60 sec...\n",
      "Iteration:=8 from:=2019-12-21 03:00:00 to:= 2020-03-30 03:00:00\n",
      "Loaded data for company :=GIS size:=225555  time:=295.9747529029846\n"
     ]
    },
    {
     "name": "stderr",
     "output_type": "stream",
     "text": [
      "None GetCandles RESOURCE_EXHAUSTED \n"
     ]
    },
    {
     "name": "stdout",
     "output_type": "stream",
     "text": [
      "--------------------------------------------------\n",
      "Processing company:=GM\n",
      "--------------------------------------------------\n",
      "Iteration:=1 from:=2021-11-20 03:00:00 to:= 2022-02-28 03:00:00\n",
      "Request limit. Waiting 60 sec...\n",
      "Iteration:=2 from:=2021-08-12 03:00:00 to:= 2021-11-20 03:00:00\n",
      "Iteration:=3 from:=2021-05-04 03:00:00 to:= 2021-08-12 03:00:00\n"
     ]
    },
    {
     "name": "stderr",
     "output_type": "stream",
     "text": [
      "None GetCandles RESOURCE_EXHAUSTED \n"
     ]
    },
    {
     "name": "stdout",
     "output_type": "stream",
     "text": [
      "Request limit. Waiting 60 sec...\n",
      "Iteration:=4 from:=2021-01-24 03:00:00 to:= 2021-05-04 03:00:00\n",
      "Iteration:=5 from:=2020-10-16 03:00:00 to:= 2021-01-24 03:00:00\n",
      "Iteration:=6 from:=2020-07-08 03:00:00 to:= 2020-10-16 03:00:00\n"
     ]
    },
    {
     "name": "stderr",
     "output_type": "stream",
     "text": [
      "None GetCandles RESOURCE_EXHAUSTED \n"
     ]
    },
    {
     "name": "stdout",
     "output_type": "stream",
     "text": [
      "Request limit. Waiting 60 sec...\n",
      "Iteration:=7 from:=2020-03-30 03:00:00 to:= 2020-07-08 03:00:00\n",
      "Iteration:=8 from:=2019-12-21 03:00:00 to:= 2020-03-30 03:00:00\n"
     ]
    },
    {
     "name": "stderr",
     "output_type": "stream",
     "text": [
      "None GetCandles RESOURCE_EXHAUSTED \n"
     ]
    },
    {
     "name": "stdout",
     "output_type": "stream",
     "text": [
      "Request limit. Waiting 60 sec...\n",
      "Loaded data for company :=GM size:=355552  time:=412.4018540382385\n",
      "--------------------------------------------------\n",
      "Processing company:=GPC\n",
      "--------------------------------------------------\n",
      "Iteration:=1 from:=2021-11-20 03:00:00 to:= 2022-02-28 03:00:00\n"
     ]
    },
    {
     "name": "stderr",
     "output_type": "stream",
     "text": [
      "None GetCandles RESOURCE_EXHAUSTED \n"
     ]
    },
    {
     "name": "stdout",
     "output_type": "stream",
     "text": [
      "Iteration:=2 from:=2021-08-12 03:00:00 to:= 2021-11-20 03:00:00\n",
      "Request limit. Waiting 60 sec...\n",
      "Iteration:=3 from:=2021-05-04 03:00:00 to:= 2021-08-12 03:00:00\n",
      "Iteration:=4 from:=2021-01-24 03:00:00 to:= 2021-05-04 03:00:00\n"
     ]
    },
    {
     "name": "stderr",
     "output_type": "stream",
     "text": [
      "None GetCandles RESOURCE_EXHAUSTED \n"
     ]
    },
    {
     "name": "stdout",
     "output_type": "stream",
     "text": [
      "Request limit. Waiting 60 sec...\n",
      "Iteration:=5 from:=2020-10-16 03:00:00 to:= 2021-01-24 03:00:00\n",
      "Iteration:=6 from:=2020-07-08 03:00:00 to:= 2020-10-16 03:00:00\n"
     ]
    },
    {
     "name": "stderr",
     "output_type": "stream",
     "text": [
      "None GetCandles RESOURCE_EXHAUSTED \n"
     ]
    },
    {
     "name": "stdout",
     "output_type": "stream",
     "text": [
      "Request limit. Waiting 60 sec...\n",
      "Iteration:=7 from:=2020-03-30 03:00:00 to:= 2020-07-08 03:00:00\n",
      "Iteration:=8 from:=2019-12-21 03:00:00 to:= 2020-03-30 03:00:00\n"
     ]
    },
    {
     "name": "stderr",
     "output_type": "stream",
     "text": [
      "None GetCandles RESOURCE_EXHAUSTED \n"
     ]
    },
    {
     "name": "stdout",
     "output_type": "stream",
     "text": [
      "Request limit. Waiting 60 sec...\n",
      "Loaded data for company :=GPC size:=188303  time:=345.73125982284546\n",
      "--------------------------------------------------\n",
      "Processing company:=GILD\n",
      "--------------------------------------------------\n",
      "Iteration:=1 from:=2021-11-20 03:00:00 to:= 2022-02-28 03:00:00\n"
     ]
    },
    {
     "name": "stderr",
     "output_type": "stream",
     "text": [
      "None GetCandles RESOURCE_EXHAUSTED \n"
     ]
    },
    {
     "name": "stdout",
     "output_type": "stream",
     "text": [
      "Iteration:=2 from:=2021-08-12 03:00:00 to:= 2021-11-20 03:00:00\n",
      "Request limit. Waiting 60 sec...\n",
      "Iteration:=3 from:=2021-05-04 03:00:00 to:= 2021-08-12 03:00:00\n",
      "Iteration:=4 from:=2021-01-24 03:00:00 to:= 2021-05-04 03:00:00\n",
      "Iteration:=5 from:=2020-10-16 03:00:00 to:= 2021-01-24 03:00:00\n"
     ]
    },
    {
     "name": "stderr",
     "output_type": "stream",
     "text": [
      "None GetCandles RESOURCE_EXHAUSTED \n"
     ]
    },
    {
     "name": "stdout",
     "output_type": "stream",
     "text": [
      "Request limit. Waiting 60 sec...\n",
      "Iteration:=6 from:=2020-07-08 03:00:00 to:= 2020-10-16 03:00:00\n",
      "Iteration:=7 from:=2020-03-30 03:00:00 to:= 2020-07-08 03:00:00\n"
     ]
    },
    {
     "name": "stderr",
     "output_type": "stream",
     "text": [
      "None GetCandles RESOURCE_EXHAUSTED \n"
     ]
    },
    {
     "name": "stdout",
     "output_type": "stream",
     "text": [
      "Request limit. Waiting 60 sec...\n",
      "Iteration:=8 from:=2019-12-21 03:00:00 to:= 2020-03-30 03:00:00\n",
      "Loaded data for company :=GILD size:=336637  time:=329.4509320259094\n",
      "--------------------------------------------------\n",
      "Processing company:=GL\n",
      "--------------------------------------------------\n",
      "Iteration:=1 from:=2021-11-20 03:00:00 to:= 2022-02-28 03:00:00\n",
      "Iteration:=2 from:=2021-08-12 03:00:00 to:= 2021-11-20 03:00:00\n"
     ]
    },
    {
     "name": "stderr",
     "output_type": "stream",
     "text": [
      "None GetCandles RESOURCE_EXHAUSTED \n"
     ]
    },
    {
     "name": "stdout",
     "output_type": "stream",
     "text": [
      "Request limit. Waiting 60 sec...\n",
      "Iteration:=3 from:=2021-05-04 03:00:00 to:= 2021-08-12 03:00:00\n"
     ]
    },
    {
     "name": "stderr",
     "output_type": "stream",
     "text": [
      "None GetCandles RESOURCE_EXHAUSTED \n"
     ]
    },
    {
     "name": "stdout",
     "output_type": "stream",
     "text": [
      "Iteration:=4 from:=2021-01-24 03:00:00 to:= 2021-05-04 03:00:00\n",
      "Request limit. Waiting 60 sec...\n",
      "Iteration:=5 from:=2020-10-16 03:00:00 to:= 2021-01-24 03:00:00\n",
      "Iteration:=6 from:=2020-07-08 03:00:00 to:= 2020-10-16 03:00:00\n",
      "Iteration:=7 from:=2020-03-30 03:00:00 to:= 2020-07-08 03:00:00\n"
     ]
    },
    {
     "name": "stderr",
     "output_type": "stream",
     "text": [
      "None GetCandles RESOURCE_EXHAUSTED \n"
     ]
    },
    {
     "name": "stdout",
     "output_type": "stream",
     "text": [
      "Request limit. Waiting 60 sec...\n",
      "Iteration:=8 from:=2019-12-21 03:00:00 to:= 2020-03-30 03:00:00\n",
      "Loaded data for company :=GL size:=168950  time:=268.67537236213684\n"
     ]
    },
    {
     "name": "stderr",
     "output_type": "stream",
     "text": [
      "None GetCandles RESOURCE_EXHAUSTED \n"
     ]
    },
    {
     "name": "stdout",
     "output_type": "stream",
     "text": [
      "--------------------------------------------------\n",
      "Processing company:=GPN\n",
      "--------------------------------------------------\n",
      "Iteration:=1 from:=2021-11-20 03:00:00 to:= 2022-02-28 03:00:00\n",
      "Request limit. Waiting 60 sec...\n",
      "Iteration:=2 from:=2021-08-12 03:00:00 to:= 2021-11-20 03:00:00\n"
     ]
    },
    {
     "name": "stderr",
     "output_type": "stream",
     "text": [
      "None GetCandles RESOURCE_EXHAUSTED \n"
     ]
    },
    {
     "name": "stdout",
     "output_type": "stream",
     "text": [
      "Iteration:=3 from:=2021-05-04 03:00:00 to:= 2021-08-12 03:00:00\n",
      "Request limit. Waiting 60 sec...\n",
      "Iteration:=4 from:=2021-01-24 03:00:00 to:= 2021-05-04 03:00:00\n",
      "Iteration:=5 from:=2020-10-16 03:00:00 to:= 2021-01-24 03:00:00\n"
     ]
    },
    {
     "name": "stderr",
     "output_type": "stream",
     "text": [
      "None GetCandles RESOURCE_EXHAUSTED \n"
     ]
    },
    {
     "name": "stdout",
     "output_type": "stream",
     "text": [
      "Request limit. Waiting 60 sec...\n",
      "Iteration:=6 from:=2020-07-08 03:00:00 to:= 2020-10-16 03:00:00\n",
      "Iteration:=7 from:=2020-03-30 03:00:00 to:= 2020-07-08 03:00:00\n",
      "Iteration:=8 from:=2019-12-21 03:00:00 to:= 2020-03-30 03:00:00\n"
     ]
    },
    {
     "name": "stderr",
     "output_type": "stream",
     "text": [
      "None GetCandles RESOURCE_EXHAUSTED \n"
     ]
    },
    {
     "name": "stdout",
     "output_type": "stream",
     "text": [
      "Request limit. Waiting 60 sec...\n",
      "Loaded data for company :=GPN size:=223554  time:=345.52306056022644\n",
      "--------------------------------------------------\n",
      "Processing company:=GS\n",
      "--------------------------------------------------\n",
      "Iteration:=1 from:=2021-11-20 03:00:00 to:= 2022-02-28 03:00:00\n"
     ]
    },
    {
     "name": "stderr",
     "output_type": "stream",
     "text": [
      "None GetCandles RESOURCE_EXHAUSTED \n"
     ]
    },
    {
     "name": "stdout",
     "output_type": "stream",
     "text": [
      "Iteration:=2 from:=2021-08-12 03:00:00 to:= 2021-11-20 03:00:00\n",
      "Request limit. Waiting 60 sec...\n",
      "Iteration:=3 from:=2021-05-04 03:00:00 to:= 2021-08-12 03:00:00\n",
      "Iteration:=4 from:=2021-01-24 03:00:00 to:= 2021-05-04 03:00:00\n",
      "Iteration:=5 from:=2020-10-16 03:00:00 to:= 2021-01-24 03:00:00\n"
     ]
    },
    {
     "name": "stderr",
     "output_type": "stream",
     "text": [
      "None GetCandles RESOURCE_EXHAUSTED \n"
     ]
    },
    {
     "name": "stdout",
     "output_type": "stream",
     "text": [
      "Request limit. Waiting 60 sec...\n",
      "Iteration:=6 from:=2020-07-08 03:00:00 to:= 2020-10-16 03:00:00\n",
      "Iteration:=7 from:=2020-03-30 03:00:00 to:= 2020-07-08 03:00:00\n",
      "Iteration:=8 from:=2019-12-21 03:00:00 to:= 2020-03-30 03:00:00\n"
     ]
    },
    {
     "name": "stderr",
     "output_type": "stream",
     "text": [
      "None GetCandles RESOURCE_EXHAUSTED \n"
     ]
    },
    {
     "name": "stdout",
     "output_type": "stream",
     "text": [
      "Request limit. Waiting 60 sec...\n",
      "Loaded data for company :=GS size:=274265  time:=305.6447756290436\n",
      "--------------------------------------------------\n",
      "Processing company:=GWW\n",
      "--------------------------------------------------\n",
      "Iteration:=1 from:=2021-11-20 03:00:00 to:= 2022-02-28 03:00:00\n"
     ]
    },
    {
     "name": "stderr",
     "output_type": "stream",
     "text": [
      "None GetCandles RESOURCE_EXHAUSTED \n"
     ]
    },
    {
     "name": "stdout",
     "output_type": "stream",
     "text": [
      "Iteration:=2 from:=2021-08-12 03:00:00 to:= 2021-11-20 03:00:00\n",
      "Request limit. Waiting 60 sec...\n",
      "Iteration:=3 from:=2021-05-04 03:00:00 to:= 2021-08-12 03:00:00\n",
      "Iteration:=4 from:=2021-01-24 03:00:00 to:= 2021-05-04 03:00:00\n",
      "Iteration:=5 from:=2020-10-16 03:00:00 to:= 2021-01-24 03:00:00\n"
     ]
    },
    {
     "name": "stderr",
     "output_type": "stream",
     "text": [
      "None GetCandles RESOURCE_EXHAUSTED \n"
     ]
    },
    {
     "name": "stdout",
     "output_type": "stream",
     "text": [
      "Request limit. Waiting 60 sec...\n",
      "Iteration:=6 from:=2020-07-08 03:00:00 to:= 2020-10-16 03:00:00\n",
      "Iteration:=7 from:=2020-03-30 03:00:00 to:= 2020-07-08 03:00:00\n",
      "Iteration:=8 from:=2019-12-21 03:00:00 to:= 2020-03-30 03:00:00\n"
     ]
    },
    {
     "name": "stderr",
     "output_type": "stream",
     "text": [
      "None GetCandles RESOURCE_EXHAUSTED \n"
     ]
    },
    {
     "name": "stdout",
     "output_type": "stream",
     "text": [
      "Request limit. Waiting 60 sec...\n"
     ]
    }
   ],
   "source": [
    "for company in companies[22:]:\n",
    "    print(\"-\"*50 + f\"\\nProcessing company:={company['ticker']}\\n\" + \"-\"*50 )\n",
    "    try:\n",
    "        df = build_dataframe_for_figi(company, 800)\n",
    "        csv_name = f\"./tinkoff-data/{company['ticker']}.csv\"\n",
    "        df = df.sort_values(by=['time'], ascending=True)\n",
    "        df = df.drop_duplicates(keep='last')\n",
    "        df.to_csv(csv_name, index=False)\n",
    "    except Exception as e:\n",
    "        continue"
   ],
   "metadata": {
    "collapsed": false,
    "pycharm": {
     "name": "#%%\n",
     "is_executing": true
    }
   }
  }
 ],
 "metadata": {
  "kernelspec": {
   "display_name": "Python 3",
   "language": "python",
   "name": "python3"
  },
  "language_info": {
   "codemirror_mode": {
    "name": "ipython",
    "version": 2
   },
   "file_extension": ".py",
   "mimetype": "text/x-python",
   "name": "python",
   "nbconvert_exporter": "python",
   "pygments_lexer": "ipython2",
   "version": "2.7.6"
  }
 },
 "nbformat": 4,
 "nbformat_minor": 0
}